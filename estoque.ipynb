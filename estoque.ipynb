{
 "cells": [
  {
   "cell_type": "markdown",
   "id": "ed96082b",
   "metadata": {},
   "source": [
    "### Limpeza da base de dados de estoque \n",
    "\n",
    "\n",
    "\n",
    "### Descrição das Colunas - Base de Estoque\n",
    "\n",
    "| Nome da Coluna           | Descrição                                                                                  | Exemplo                                                                 |\n",
    "|--------------------------|-------------------------------------------------------------------------------------------|-------------------------------------------------------------------------|\n",
    "| **Código**               | Identificador único do produto no sistema.                                                | `1`, `3`, `5`                                                          |\n",
    "| **Produto**              | Nome/descrição do produto comercializado.                                                 | `\"LAPIS Nº2 HB PT C/144 SERELEPE ECOLE\"`, `\"ACUCAR COMUM\"`             |\n",
    "| **Embalagem**            | Tipo de embalagem do produto (formato e quantidade por embalagem).                        | `\"CX/1\"` (Caixa com 1 unidade), `\"KG/1\"` (Kilograma unitário)          |\n",
    "| **Unidade**              | Unidade de medida primária para venda ou controle.                                        | `\"CX\"` (Caixa), `\"UN\"` (Unidade), `\"KG\"` (Kilograma)                   |\n",
    "| **Código da Marca**      | Identificador único da marca/fabricante do produto.                                       | `1` (Maria Geni), `4281` (Grupo Master)                                |\n",
    "| **Marca**                | Nome da marca ou fornecedor do produto.                                                   | `\"COMERCIO E IMPORTACAO SERTIC LTDA\"`                           |\n",
    "| **Quantidade estoque**   | Quantidade disponível em estoque (vazia indica registro sem dados).                       | `0`, `61`                                                              |\n",
    "| **Preço de custo**       | Preço unitário de custo do produto (formato numérico).                                    | `9`, `1.48`, `2.5`                                                     |\n",
    "| **Código da categoria**  | Identificador numérico da categoria do produto.                                           | `708` (Lápis), `199` (Açúcar)                                          |\n",
    "| **Categoria**            | Nome da categoria do produto, com abreviação entre parênteses.                            | `\"LAPIS ( LAP )\"`,                                          |"
   ]
  },
  {
   "cell_type": "code",
   "execution_count": 1,
   "id": "44278a56",
   "metadata": {},
   "outputs": [],
   "source": [
    "import pandas as pd"
   ]
  },
  {
   "cell_type": "code",
   "execution_count": 2,
   "id": "8394eba1",
   "metadata": {},
   "outputs": [],
   "source": [
    "df_estoque = pd.read_excel(\"bases/relatorio_produtos.xlsx\")"
   ]
  },
  {
   "cell_type": "markdown",
   "id": "392537bc",
   "metadata": {},
   "source": [
    "### Propriedades da base"
   ]
  },
  {
   "cell_type": "code",
   "execution_count": 3,
   "id": "c99b8e16",
   "metadata": {},
   "outputs": [
    {
     "name": "stdout",
     "output_type": "stream",
     "text": [
      "Formato dos dados (37527, 10)\n"
     ]
    }
   ],
   "source": [
    "print(f\"Formato dos dados {df_estoque.shape}\")"
   ]
  },
  {
   "cell_type": "code",
   "execution_count": 4,
   "id": "bad78f21",
   "metadata": {},
   "outputs": [
    {
     "data": {
      "text/plain": [
       "['Código',\n",
       " 'Produto',\n",
       " 'Embalagem',\n",
       " 'Unidade',\n",
       " 'Código da Marca',\n",
       " 'Marca',\n",
       " 'Quantidade estoque',\n",
       " 'Preço de custo',\n",
       " 'Código da categoria',\n",
       " 'Categoria']"
      ]
     },
     "execution_count": 4,
     "metadata": {},
     "output_type": "execute_result"
    }
   ],
   "source": [
    "df_estoque.columns.to_list()"
   ]
  },
  {
   "cell_type": "code",
   "execution_count": 5,
   "id": "79a8085b",
   "metadata": {},
   "outputs": [
    {
     "data": {
      "text/html": [
       "<div>\n",
       "<style scoped>\n",
       "    .dataframe tbody tr th:only-of-type {\n",
       "        vertical-align: middle;\n",
       "    }\n",
       "\n",
       "    .dataframe tbody tr th {\n",
       "        vertical-align: top;\n",
       "    }\n",
       "\n",
       "    .dataframe thead th {\n",
       "        text-align: right;\n",
       "    }\n",
       "</style>\n",
       "<table border=\"1\" class=\"dataframe\">\n",
       "  <thead>\n",
       "    <tr style=\"text-align: right;\">\n",
       "      <th></th>\n",
       "      <th>Código</th>\n",
       "      <th>Produto</th>\n",
       "      <th>Embalagem</th>\n",
       "      <th>Unidade</th>\n",
       "      <th>Código da Marca</th>\n",
       "      <th>Marca</th>\n",
       "      <th>Quantidade estoque</th>\n",
       "      <th>Preço de custo</th>\n",
       "      <th>Código da categoria</th>\n",
       "      <th>Categoria</th>\n",
       "    </tr>\n",
       "  </thead>\n",
       "  <tbody>\n",
       "    <tr>\n",
       "      <th>0</th>\n",
       "      <td>1</td>\n",
       "      <td>LAPIS Nº2 HB PT C/144 SERELEPE ECOLE</td>\n",
       "      <td>CX/1</td>\n",
       "      <td>CX</td>\n",
       "      <td>1</td>\n",
       "      <td>MARIA GENI DISTRIB. DE ART. DE PAP. LTDA</td>\n",
       "      <td>0.0</td>\n",
       "      <td>9.00000</td>\n",
       "      <td>708</td>\n",
       "      <td>LAPIS ( LAP )</td>\n",
       "    </tr>\n",
       "    <tr>\n",
       "      <th>1</th>\n",
       "      <td>3</td>\n",
       "      <td>CANETA HIDRO PONTA FINA PT CIS</td>\n",
       "      <td>UN/1</td>\n",
       "      <td>UN</td>\n",
       "      <td>1272</td>\n",
       "      <td>COMERCIO E IMPORTACAO SERTIC LTDA</td>\n",
       "      <td>NaN</td>\n",
       "      <td>1.48000</td>\n",
       "      <td>35011</td>\n",
       "      <td>CANETA HIDROGRAFICA (CNT)</td>\n",
       "    </tr>\n",
       "    <tr>\n",
       "      <th>2</th>\n",
       "      <td>4</td>\n",
       "      <td>BANDEIRINHAS JUNINAS MEGA</td>\n",
       "      <td>PC/1</td>\n",
       "      <td>PC</td>\n",
       "      <td>1</td>\n",
       "      <td>MARIA GENI DISTRIB. DE ART. DE PAP. LTDA</td>\n",
       "      <td>NaN</td>\n",
       "      <td>2.73970</td>\n",
       "      <td>359</td>\n",
       "      <td>BANDEIRAS ( BDJ )</td>\n",
       "    </tr>\n",
       "    <tr>\n",
       "      <th>3</th>\n",
       "      <td>5</td>\n",
       "      <td>FITA IMP EPSON FX890 MASTERPRINT</td>\n",
       "      <td>UN/1</td>\n",
       "      <td>UN</td>\n",
       "      <td>4281</td>\n",
       "      <td>GRUPO MASTER COMERCIO IMPORTACAO E EXPORTACAO ...</td>\n",
       "      <td>61.0</td>\n",
       "      <td>10.54527</td>\n",
       "      <td>3</td>\n",
       "      <td>FITAS PARA IMPRESSORAS ( FTA )</td>\n",
       "    </tr>\n",
       "    <tr>\n",
       "      <th>4</th>\n",
       "      <td>6</td>\n",
       "      <td>ACUCAR COMUM</td>\n",
       "      <td>KG/1</td>\n",
       "      <td>KG</td>\n",
       "      <td>1</td>\n",
       "      <td>MARIA GENI DISTRIB. DE ART. DE PAP. LTDA</td>\n",
       "      <td>NaN</td>\n",
       "      <td>2.50000</td>\n",
       "      <td>199</td>\n",
       "      <td>AÇÚCAR</td>\n",
       "    </tr>\n",
       "  </tbody>\n",
       "</table>\n",
       "</div>"
      ],
      "text/plain": [
       "   Código                               Produto Embalagem Unidade  \\\n",
       "0       1  LAPIS Nº2 HB PT C/144 SERELEPE ECOLE      CX/1      CX   \n",
       "1       3        CANETA HIDRO PONTA FINA PT CIS      UN/1      UN   \n",
       "2       4             BANDEIRINHAS JUNINAS MEGA      PC/1      PC   \n",
       "3       5      FITA IMP EPSON FX890 MASTERPRINT      UN/1      UN   \n",
       "4       6                          ACUCAR COMUM      KG/1      KG   \n",
       "\n",
       "   Código da Marca                                              Marca  \\\n",
       "0                1           MARIA GENI DISTRIB. DE ART. DE PAP. LTDA   \n",
       "1             1272                  COMERCIO E IMPORTACAO SERTIC LTDA   \n",
       "2                1           MARIA GENI DISTRIB. DE ART. DE PAP. LTDA   \n",
       "3             4281  GRUPO MASTER COMERCIO IMPORTACAO E EXPORTACAO ...   \n",
       "4                1           MARIA GENI DISTRIB. DE ART. DE PAP. LTDA   \n",
       "\n",
       "   Quantidade estoque  Preço de custo  Código da categoria  \\\n",
       "0                 0.0         9.00000                  708   \n",
       "1                 NaN         1.48000                35011   \n",
       "2                 NaN         2.73970                  359   \n",
       "3                61.0        10.54527                    3   \n",
       "4                 NaN         2.50000                  199   \n",
       "\n",
       "                        Categoria  \n",
       "0                   LAPIS ( LAP )  \n",
       "1       CANETA HIDROGRAFICA (CNT)  \n",
       "2               BANDEIRAS ( BDJ )  \n",
       "3  FITAS PARA IMPRESSORAS ( FTA )  \n",
       "4                          AÇÚCAR  "
      ]
     },
     "execution_count": 5,
     "metadata": {},
     "output_type": "execute_result"
    }
   ],
   "source": [
    "df_estoque.head()"
   ]
  },
  {
   "cell_type": "code",
   "execution_count": 6,
   "id": "50ee5922",
   "metadata": {},
   "outputs": [
    {
     "data": {
      "text/plain": [
       "Código                   int64\n",
       "Produto                 object\n",
       "Embalagem               object\n",
       "Unidade                 object\n",
       "Código da Marca          int64\n",
       "Marca                   object\n",
       "Quantidade estoque     float64\n",
       "Preço de custo         float64\n",
       "Código da categoria      int64\n",
       "Categoria               object\n",
       "dtype: object"
      ]
     },
     "execution_count": 6,
     "metadata": {},
     "output_type": "execute_result"
    }
   ],
   "source": [
    "df_estoque.dtypes"
   ]
  },
  {
   "cell_type": "code",
   "execution_count": 7,
   "id": "1eb0f139",
   "metadata": {},
   "outputs": [
    {
     "data": {
      "text/html": [
       "<div>\n",
       "<style scoped>\n",
       "    .dataframe tbody tr th:only-of-type {\n",
       "        vertical-align: middle;\n",
       "    }\n",
       "\n",
       "    .dataframe tbody tr th {\n",
       "        vertical-align: top;\n",
       "    }\n",
       "\n",
       "    .dataframe thead th {\n",
       "        text-align: right;\n",
       "    }\n",
       "</style>\n",
       "<table border=\"1\" class=\"dataframe\">\n",
       "  <thead>\n",
       "    <tr style=\"text-align: right;\">\n",
       "      <th></th>\n",
       "      <th>Código</th>\n",
       "      <th>Código da Marca</th>\n",
       "      <th>Quantidade estoque</th>\n",
       "      <th>Preço de custo</th>\n",
       "      <th>Código da categoria</th>\n",
       "    </tr>\n",
       "  </thead>\n",
       "  <tbody>\n",
       "    <tr>\n",
       "      <th>count</th>\n",
       "      <td>37527.000000</td>\n",
       "      <td>37527.000000</td>\n",
       "      <td>31204.000000</td>\n",
       "      <td>37527.000000</td>\n",
       "      <td>37527.000000</td>\n",
       "    </tr>\n",
       "    <tr>\n",
       "      <th>mean</th>\n",
       "      <td>19170.185413</td>\n",
       "      <td>4116.673302</td>\n",
       "      <td>112.105966</td>\n",
       "      <td>22.896258</td>\n",
       "      <td>2661.045034</td>\n",
       "    </tr>\n",
       "    <tr>\n",
       "      <th>std</th>\n",
       "      <td>11023.203749</td>\n",
       "      <td>19900.846543</td>\n",
       "      <td>1310.514860</td>\n",
       "      <td>431.449346</td>\n",
       "      <td>8705.304106</td>\n",
       "    </tr>\n",
       "    <tr>\n",
       "      <th>min</th>\n",
       "      <td>1.000000</td>\n",
       "      <td>1.000000</td>\n",
       "      <td>-4.000000</td>\n",
       "      <td>0.000000</td>\n",
       "      <td>1.000000</td>\n",
       "    </tr>\n",
       "    <tr>\n",
       "      <th>25%</th>\n",
       "      <td>9616.500000</td>\n",
       "      <td>995.000000</td>\n",
       "      <td>0.000000</td>\n",
       "      <td>2.524401</td>\n",
       "      <td>83.000000</td>\n",
       "    </tr>\n",
       "    <tr>\n",
       "      <th>50%</th>\n",
       "      <td>19186.000000</td>\n",
       "      <td>2712.000000</td>\n",
       "      <td>0.000000</td>\n",
       "      <td>6.880567</td>\n",
       "      <td>322.000000</td>\n",
       "    </tr>\n",
       "    <tr>\n",
       "      <th>75%</th>\n",
       "      <td>28728.500000</td>\n",
       "      <td>7346.000000</td>\n",
       "      <td>20.000000</td>\n",
       "      <td>16.858232</td>\n",
       "      <td>647.000000</td>\n",
       "    </tr>\n",
       "    <tr>\n",
       "      <th>max</th>\n",
       "      <td>38230.000000</td>\n",
       "      <td>901455.000000</td>\n",
       "      <td>166112.000000</td>\n",
       "      <td>79000.000000</td>\n",
       "      <td>35157.000000</td>\n",
       "    </tr>\n",
       "  </tbody>\n",
       "</table>\n",
       "</div>"
      ],
      "text/plain": [
       "             Código  Código da Marca  Quantidade estoque  Preço de custo  \\\n",
       "count  37527.000000     37527.000000        31204.000000    37527.000000   \n",
       "mean   19170.185413      4116.673302          112.105966       22.896258   \n",
       "std    11023.203749     19900.846543         1310.514860      431.449346   \n",
       "min        1.000000         1.000000           -4.000000        0.000000   \n",
       "25%     9616.500000       995.000000            0.000000        2.524401   \n",
       "50%    19186.000000      2712.000000            0.000000        6.880567   \n",
       "75%    28728.500000      7346.000000           20.000000       16.858232   \n",
       "max    38230.000000    901455.000000       166112.000000    79000.000000   \n",
       "\n",
       "       Código da categoria  \n",
       "count         37527.000000  \n",
       "mean           2661.045034  \n",
       "std            8705.304106  \n",
       "min               1.000000  \n",
       "25%              83.000000  \n",
       "50%             322.000000  \n",
       "75%             647.000000  \n",
       "max           35157.000000  "
      ]
     },
     "execution_count": 7,
     "metadata": {},
     "output_type": "execute_result"
    }
   ],
   "source": [
    "df_estoque.describe()"
   ]
  },
  {
   "cell_type": "code",
   "execution_count": 8,
   "id": "7f9d51c3",
   "metadata": {},
   "outputs": [
    {
     "name": "stdout",
     "output_type": "stream",
     "text": [
      "Quantidade valores Nulos\n"
     ]
    },
    {
     "data": {
      "text/plain": [
       "Código                    0\n",
       "Produto                   0\n",
       "Embalagem                 0\n",
       "Unidade                   0\n",
       "Código da Marca           0\n",
       "Marca                     0\n",
       "Quantidade estoque     6323\n",
       "Preço de custo            0\n",
       "Código da categoria       0\n",
       "Categoria                 0\n",
       "dtype: int64"
      ]
     },
     "execution_count": 8,
     "metadata": {},
     "output_type": "execute_result"
    }
   ],
   "source": [
    "print(\"Quantidade valores Nulos\")\n",
    "df_estoque.isnull().sum()"
   ]
  },
  {
   "cell_type": "code",
   "execution_count": 9,
   "id": "c04b352b",
   "metadata": {},
   "outputs": [
    {
     "name": "stdout",
     "output_type": "stream",
     "text": [
      "Quantidade de valores zerados\n",
      "\n",
      "Código contém 0 zeros\n",
      "\n",
      "Código da Marca contém 0 zeros\n",
      "\n",
      "Quantidade estoque contém 17001 zeros\n",
      "\n",
      "Preço de custo contém 2063 zeros\n",
      "\n",
      "Código da categoria contém 0 zeros\n"
     ]
    }
   ],
   "source": [
    "print(\"Quantidade de valores zerados\")\n",
    "colunas_numericas = df_estoque.select_dtypes(include='number')\n",
    "for rotulo in colunas_numericas:\n",
    "    qt_zeros = (colunas_numericas[rotulo] == 0).sum()\n",
    "    print(f\"\\n{rotulo} contém {qt_zeros} zeros\")"
   ]
  },
  {
   "cell_type": "code",
   "execution_count": 10,
   "id": "3e842869",
   "metadata": {},
   "outputs": [
    {
     "name": "stdout",
     "output_type": "stream",
     "text": [
      "Quantidade de valores negativos\n",
      "\n",
      "Código contém 0 negativos\n",
      "\n",
      "Código da Marca contém 0 negativos\n",
      "\n",
      "Quantidade estoque contém 2 negativos\n",
      "\n",
      "Preço de custo contém 0 negativos\n",
      "\n",
      "Código da categoria contém 0 negativos\n"
     ]
    }
   ],
   "source": [
    "print(\"Quantidade de valores negativos\")\n",
    "for rotulo in colunas_numericas:\n",
    "    qt_negativos = (colunas_numericas[rotulo] < 0).sum()\n",
    "    print(f\"\\n{rotulo} contém {qt_negativos} negativos\")"
   ]
  },
  {
   "cell_type": "markdown",
   "id": "779460be",
   "metadata": {},
   "source": [
    "### Tratamento inicial "
   ]
  },
  {
   "cell_type": "code",
   "execution_count": 11,
   "id": "af8f5656",
   "metadata": {},
   "outputs": [],
   "source": [
    "# Na coluna Quantidade estoque contém alguns valores nulos e negativos, estes serão convertidos para '0'.\n",
    "df_estoque.loc[df_estoque[\"Quantidade estoque\"] < 0, \"Quantidade estoque\"] = 0\n",
    "df_estoque['Quantidade estoque'] = df_estoque['Quantidade estoque'].fillna(0)"
   ]
  },
  {
   "cell_type": "code",
   "execution_count": 12,
   "id": "c42be454",
   "metadata": {},
   "outputs": [
    {
     "data": {
      "text/html": [
       "<div>\n",
       "<style scoped>\n",
       "    .dataframe tbody tr th:only-of-type {\n",
       "        vertical-align: middle;\n",
       "    }\n",
       "\n",
       "    .dataframe tbody tr th {\n",
       "        vertical-align: top;\n",
       "    }\n",
       "\n",
       "    .dataframe thead th {\n",
       "        text-align: right;\n",
       "    }\n",
       "</style>\n",
       "<table border=\"1\" class=\"dataframe\">\n",
       "  <thead>\n",
       "    <tr style=\"text-align: right;\">\n",
       "      <th></th>\n",
       "      <th>Código</th>\n",
       "      <th>Produto</th>\n",
       "      <th>Embalagem</th>\n",
       "      <th>Unidade</th>\n",
       "      <th>Código da Marca</th>\n",
       "      <th>Marca</th>\n",
       "      <th>Quantidade estoque</th>\n",
       "      <th>Preço de custo</th>\n",
       "      <th>Código da categoria</th>\n",
       "      <th>Categoria</th>\n",
       "    </tr>\n",
       "  </thead>\n",
       "  <tbody>\n",
       "    <tr>\n",
       "      <th>0</th>\n",
       "      <td>1</td>\n",
       "      <td>LAPIS Nº2 HB PT C/144 SERELEPE ECOLE</td>\n",
       "      <td>CX/1</td>\n",
       "      <td>CX</td>\n",
       "      <td>1</td>\n",
       "      <td>MARIA GENI DISTRIB. DE ART. DE PAP. LTDA</td>\n",
       "      <td>0.0</td>\n",
       "      <td>9.00000</td>\n",
       "      <td>708</td>\n",
       "      <td>LAPIS ( LAP )</td>\n",
       "    </tr>\n",
       "    <tr>\n",
       "      <th>1</th>\n",
       "      <td>3</td>\n",
       "      <td>CANETA HIDRO PONTA FINA PT CIS</td>\n",
       "      <td>UN/1</td>\n",
       "      <td>UN</td>\n",
       "      <td>1272</td>\n",
       "      <td>COMERCIO E IMPORTACAO SERTIC LTDA</td>\n",
       "      <td>0.0</td>\n",
       "      <td>1.48000</td>\n",
       "      <td>35011</td>\n",
       "      <td>CANETA HIDROGRAFICA (CNT)</td>\n",
       "    </tr>\n",
       "    <tr>\n",
       "      <th>2</th>\n",
       "      <td>4</td>\n",
       "      <td>BANDEIRINHAS JUNINAS MEGA</td>\n",
       "      <td>PC/1</td>\n",
       "      <td>PC</td>\n",
       "      <td>1</td>\n",
       "      <td>MARIA GENI DISTRIB. DE ART. DE PAP. LTDA</td>\n",
       "      <td>0.0</td>\n",
       "      <td>2.73970</td>\n",
       "      <td>359</td>\n",
       "      <td>BANDEIRAS ( BDJ )</td>\n",
       "    </tr>\n",
       "    <tr>\n",
       "      <th>3</th>\n",
       "      <td>5</td>\n",
       "      <td>FITA IMP EPSON FX890 MASTERPRINT</td>\n",
       "      <td>UN/1</td>\n",
       "      <td>UN</td>\n",
       "      <td>4281</td>\n",
       "      <td>GRUPO MASTER COMERCIO IMPORTACAO E EXPORTACAO ...</td>\n",
       "      <td>61.0</td>\n",
       "      <td>10.54527</td>\n",
       "      <td>3</td>\n",
       "      <td>FITAS PARA IMPRESSORAS ( FTA )</td>\n",
       "    </tr>\n",
       "    <tr>\n",
       "      <th>4</th>\n",
       "      <td>6</td>\n",
       "      <td>ACUCAR COMUM</td>\n",
       "      <td>KG/1</td>\n",
       "      <td>KG</td>\n",
       "      <td>1</td>\n",
       "      <td>MARIA GENI DISTRIB. DE ART. DE PAP. LTDA</td>\n",
       "      <td>0.0</td>\n",
       "      <td>2.50000</td>\n",
       "      <td>199</td>\n",
       "      <td>AÇÚCAR</td>\n",
       "    </tr>\n",
       "  </tbody>\n",
       "</table>\n",
       "</div>"
      ],
      "text/plain": [
       "   Código                               Produto Embalagem Unidade  \\\n",
       "0       1  LAPIS Nº2 HB PT C/144 SERELEPE ECOLE      CX/1      CX   \n",
       "1       3        CANETA HIDRO PONTA FINA PT CIS      UN/1      UN   \n",
       "2       4             BANDEIRINHAS JUNINAS MEGA      PC/1      PC   \n",
       "3       5      FITA IMP EPSON FX890 MASTERPRINT      UN/1      UN   \n",
       "4       6                          ACUCAR COMUM      KG/1      KG   \n",
       "\n",
       "   Código da Marca                                              Marca  \\\n",
       "0                1           MARIA GENI DISTRIB. DE ART. DE PAP. LTDA   \n",
       "1             1272                  COMERCIO E IMPORTACAO SERTIC LTDA   \n",
       "2                1           MARIA GENI DISTRIB. DE ART. DE PAP. LTDA   \n",
       "3             4281  GRUPO MASTER COMERCIO IMPORTACAO E EXPORTACAO ...   \n",
       "4                1           MARIA GENI DISTRIB. DE ART. DE PAP. LTDA   \n",
       "\n",
       "   Quantidade estoque  Preço de custo  Código da categoria  \\\n",
       "0                 0.0         9.00000                  708   \n",
       "1                 0.0         1.48000                35011   \n",
       "2                 0.0         2.73970                  359   \n",
       "3                61.0        10.54527                    3   \n",
       "4                 0.0         2.50000                  199   \n",
       "\n",
       "                        Categoria  \n",
       "0                   LAPIS ( LAP )  \n",
       "1       CANETA HIDROGRAFICA (CNT)  \n",
       "2               BANDEIRAS ( BDJ )  \n",
       "3  FITAS PARA IMPRESSORAS ( FTA )  \n",
       "4                          AÇÚCAR  "
      ]
     },
     "execution_count": 12,
     "metadata": {},
     "output_type": "execute_result"
    }
   ],
   "source": [
    "# Separar somente as colunas que serão usadas no modelo\n",
    "df_util_estoque = df_estoque[['Código', 'Produto', 'Código da categoria', 'Categoria', 'Código da Marca', 'Marca', 'Preço de custo', 'Quantidade estoque']]\n",
    "df_estoque.head()"
   ]
  },
  {
   "cell_type": "markdown",
   "id": "d74a6405",
   "metadata": {},
   "source": [
    "#### Para garantir a integridade dos dados e a eficácia do sistema de recomendação/cross-selling, é essencial verificar:\n",
    "\n",
    "#### Unicidade dos Identificadores\n",
    "\n",
    "Código: Cada valor deve ser único e corresponder a um único Produto.\n",
    "\n",
    "Código da Marca: Deve ser único para cada Marca registrada.\n",
    "\n",
    "Código da categoria: Deve ser único e vinculado a uma única Categoria."
   ]
  },
  {
   "cell_type": "code",
   "execution_count": 13,
   "id": "5637cd2f",
   "metadata": {},
   "outputs": [
    {
     "data": {
      "text/plain": [
       "Código                 37527\n",
       "Produto                36637\n",
       "Código da categoria      747\n",
       "Categoria                705\n",
       "Código da Marca          892\n",
       "Marca                    872\n",
       "Preço de custo         25718\n",
       "Quantidade estoque      1418\n",
       "dtype: int64"
      ]
     },
     "execution_count": 13,
     "metadata": {},
     "output_type": "execute_result"
    }
   ],
   "source": [
    "df_util_estoque.nunique()"
   ]
  },
  {
   "cell_type": "markdown",
   "id": "f49bd68d",
   "metadata": {},
   "source": [
    "#### Garantindo a integridade dos códigos e seus respectivas descrições"
   ]
  },
  {
   "cell_type": "code",
   "execution_count": 14,
   "id": "d8299ffa",
   "metadata": {},
   "outputs": [
    {
     "name": "stdout",
     "output_type": "stream",
     "text": [
      "37527 Código de Produtos Únicos\n",
      "36637 Produtos Únicos\n"
     ]
    }
   ],
   "source": [
    "codigos_produtos = df_util_estoque['Código'].nunique()\n",
    "produtos_unicos = df_util_estoque['Produto'].nunique()\n",
    "print(f\"{codigos_produtos} Código de Produtos Únicos\")\n",
    "print(f\"{produtos_unicos} Produtos Únicos\")"
   ]
  },
  {
   "cell_type": "code",
   "execution_count": 15,
   "id": "0babe9b3",
   "metadata": {},
   "outputs": [
    {
     "name": "stdout",
     "output_type": "stream",
     "text": [
      "Não exitem códigos de produtos duplicados\n"
     ]
    }
   ],
   "source": [
    "# Verificando se há códigos duplicados associados a produtos diferentes\n",
    "codigos_produtos_duplicados = df_util_estoque[df_util_estoque[\"Código\"].duplicated(keep=False)]\n",
    "resultado = codigos_produtos_duplicados.sort_values(\"Código\")\n",
    "if resultado.isnull:\n",
    "    print(\"Não exitem códigos de produtos duplicados\")\n",
    "else:\n",
    "    print(\"Existem códigos duplicados, erro crítico\")"
   ]
  },
  {
   "cell_type": "code",
   "execution_count": 16,
   "id": "1f1aa316",
   "metadata": {},
   "outputs": [],
   "source": [
    "# Remover todos os produtos cuja descrição contém mais de um código \n",
    "produto_multiplos_codigos = df_util_estoque.groupby(\"Produto\")[\"Código\"].nunique()\n",
    "produtos_problemas = produto_multiplos_codigos[produto_multiplos_codigos > 1].index\n",
    "df_util_estoque = df_util_estoque[~df_util_estoque[\"Produto\"].isin(produtos_problemas)]"
   ]
  },
  {
   "cell_type": "markdown",
   "id": "64e78030",
   "metadata": {},
   "source": [
    "#### Garantindo a integridade dos códigos e suas respectivas categorias"
   ]
  },
  {
   "cell_type": "code",
   "execution_count": 17,
   "id": "309924fc",
   "metadata": {},
   "outputs": [
    {
     "name": "stdout",
     "output_type": "stream",
     "text": [
      "743 Código de Categoria Únicos\n",
      "701 Categoria Únicos\n"
     ]
    }
   ],
   "source": [
    "codigos_categoria = df_util_estoque['Código da categoria'].nunique()\n",
    "categorias_unicas = df_util_estoque['Categoria'].nunique()\n",
    "print(f\"{codigos_categoria} Código de Categoria Únicos\")\n",
    "print(f\"{categorias_unicas} Categoria Únicos\")"
   ]
  },
  {
   "cell_type": "code",
   "execution_count": 18,
   "id": "e423fea7",
   "metadata": {},
   "outputs": [
    {
     "name": "stdout",
     "output_type": "stream",
     "text": [
      "Não exitem códigos de Categorias duplicadas\n"
     ]
    }
   ],
   "source": [
    "# Verificando se há códigos duplicados associados a categorias diferentes\n",
    "codigos_categorias_duplicados = df_util_estoque[df_util_estoque[\"Código da categoria\"].duplicated(keep=False)]\n",
    "resultado = codigos_categorias_duplicados.sort_values(\"Código da categoria\")\n",
    "if resultado.isnull:\n",
    "    print(\"Não exitem códigos de Categorias duplicadas\")\n",
    "else:\n",
    "    print(\"Existem códigos duplicados, erro crítico\")"
   ]
  },
  {
   "cell_type": "code",
   "execution_count": 19,
   "id": "877c98ff",
   "metadata": {},
   "outputs": [],
   "source": [
    "# Remover todos as categorias cuja descrição contém mais de um código \n",
    "categoria_multiplos_codigos = df_util_estoque.groupby(\"Categoria\")[\"Código da categoria\"].nunique()\n",
    "categorias_problemas = categoria_multiplos_codigos[categoria_multiplos_codigos > 1].index\n",
    "df_util_estoque = df_util_estoque[~df_util_estoque[\"Categoria\"].isin(categorias_problemas)]"
   ]
  },
  {
   "cell_type": "markdown",
   "id": "582df0f5",
   "metadata": {},
   "source": [
    "#### Garantindo a integridade dos códigos e suas respectivas marcas"
   ]
  },
  {
   "cell_type": "code",
   "execution_count": 20,
   "id": "6944b3a7",
   "metadata": {},
   "outputs": [
    {
     "name": "stdout",
     "output_type": "stream",
     "text": [
      "832 Código de marcas Únicos\n",
      "815 Marcas Únicas\n"
     ]
    }
   ],
   "source": [
    "codigos_marca = df_util_estoque['Código da Marca'].nunique()\n",
    "marcas_unicas = df_util_estoque['Marca'].nunique()\n",
    "print(f\"{codigos_marca} Código de marcas Únicos\")\n",
    "print(f\"{marcas_unicas} Marcas Únicas\")"
   ]
  },
  {
   "cell_type": "code",
   "execution_count": 21,
   "id": "69bd8a74",
   "metadata": {},
   "outputs": [
    {
     "name": "stdout",
     "output_type": "stream",
     "text": [
      "Não exitem códigos de Marcas duplicados\n"
     ]
    }
   ],
   "source": [
    "# Verificando se há códigos duplicados associados a categorias diferentes\n",
    "codigos_marcas_duplicados = df_util_estoque[df_util_estoque[\"Código da Marca\"].duplicated(keep=False)]\n",
    "resultado = codigos_marcas_duplicados.sort_values(\"Código da Marca\")\n",
    "if resultado.isnull:\n",
    "    print(\"Não exitem códigos de Marcas duplicados\")\n",
    "else:\n",
    "    print(\"Existem códigos duplicados, erro crítico\")"
   ]
  },
  {
   "cell_type": "code",
   "execution_count": 22,
   "id": "d7755233",
   "metadata": {},
   "outputs": [],
   "source": [
    "# Remover todos as marcas cuja descrição contém mais de um código \n",
    "categoria_multiplos_codigos = df_util_estoque.groupby(\"Marca\")[\"Código da Marca\"].nunique()\n",
    "categorias_problemas = categoria_multiplos_codigos[categoria_multiplos_codigos > 1].index\n",
    "df_util_estoque = df_util_estoque[~df_util_estoque[\"Marca\"].isin(categorias_problemas)]"
   ]
  },
  {
   "cell_type": "markdown",
   "id": "0965bf2d",
   "metadata": {},
   "source": [
    "##### Balanço das trataivas"
   ]
  },
  {
   "cell_type": "code",
   "execution_count": 23,
   "id": "121da81e",
   "metadata": {},
   "outputs": [
    {
     "data": {
      "text/plain": [
       "Código                 24486\n",
       "Produto                24486\n",
       "Código da categoria      651\n",
       "Categoria                651\n",
       "Código da Marca          798\n",
       "Marca                    798\n",
       "Preço de custo         16895\n",
       "Quantidade estoque      1040\n",
       "dtype: int64"
      ]
     },
     "execution_count": 23,
     "metadata": {},
     "output_type": "execute_result"
    }
   ],
   "source": [
    "df_util_estoque.nunique()"
   ]
  },
  {
   "cell_type": "code",
   "execution_count": 24,
   "id": "d071fb64",
   "metadata": {},
   "outputs": [
    {
     "name": "stdout",
     "output_type": "stream",
     "text": [
      "Diferença entre códigos e descrições\n",
      "\n",
      "Produto: 890 formam excluidos 2.37 %\n",
      "\n",
      "Categoria: 42 formam excluidos 5.65 %\n",
      "\n",
      "Marca: 17 formam excluidos 2.04 %\n",
      "\n",
      "Total base original 37527\n",
      "Total base sem duplicatas 24486\n",
      "um exclusão de 34.75 % de registros duplicados\n"
     ]
    }
   ],
   "source": [
    "print(\"Diferença entre códigos e descrições\")\n",
    "print(f\"\\nProduto: {codigos_produtos-produtos_unicos} formam excluidos {((codigos_produtos-produtos_unicos)*100 / codigos_produtos):.2f} %\")\n",
    "print(f\"\\nCategoria: {codigos_categoria-categorias_unicas} formam excluidos {((codigos_categoria-categorias_unicas)*100 / codigos_categoria):.2f} %\")\n",
    "print(f\"\\nMarca: {codigos_marca-marcas_unicas} formam excluidos {((codigos_marca-marcas_unicas)*100 / codigos_marca):.2f} %\")\n",
    "print(f\"\\nTotal base original {df_estoque.shape[0]}\\nTotal base sem duplicatas {df_util_estoque.shape[0]}\")\n",
    "print(f\"um exclusão de {((df_estoque.shape[0] - df_util_estoque.shape[0]) * 100 / df_estoque.shape[0]):.2f} % de registros duplicados\")"
   ]
  },
  {
   "cell_type": "code",
   "execution_count": 25,
   "id": "93df3882",
   "metadata": {},
   "outputs": [
    {
     "name": "stdout",
     "output_type": "stream",
     "text": [
      "✅ Sem duplicatas em 'Código + Produto'.\n",
      "\n",
      "✅ Sem valores nulos em colunas críticas.\n",
      "\n",
      "⚠️ **Problemas no estoque**: 15688 zerados e 0 negativos.\n",
      "\n",
      "✅ Todos os códigos têm apenas 1 produto associado.\n",
      "\n",
      "📊 **Resumo final**:\n",
      "- Registros totais: 24486\n",
      "- Produtos únicos: 24486\n",
      "- Códigos únicos: 24486\n"
     ]
    }
   ],
   "source": [
    "import pandas as pd\n",
    "\n",
    "def verificar_limpeza_base(df, coluna_codigo='Código', coluna_produto='Produto'):\n",
    "    \"\"\"\n",
    "    Verifica se a base tratada ainda precisa de ajustes.\n",
    "    \n",
    "    Retorna:\n",
    "        Um relatório com problemas residuais.\n",
    "    \"\"\"\n",
    "    # 1. Verifica duplicatas em combinação de código + produto (chave única)\n",
    "    duplicatas_chave = df.duplicated(subset=[coluna_codigo, coluna_produto], keep=False)\n",
    "    if duplicatas_chave.any():\n",
    "        print(f\"⚠️ **Atenção**: {duplicatas_chave.sum()} registros duplicados em 'Código + Produto'.\")\n",
    "        display(df[duplicatas_chave].sort_values(coluna_produto).head())\n",
    "    else:\n",
    "        print(\"✅ Sem duplicatas em 'Código + Produto'.\")\n",
    "\n",
    "    # 2. Verifica valores nulos em colunas críticas\n",
    "    colunas_criticas = [coluna_codigo, coluna_produto, 'Categoria', 'Marca', 'Quantidade estoque']\n",
    "    nulos = df[colunas_criticas].isnull().sum()\n",
    "    if nulos.any():\n",
    "        print(\"\\n⚠️ **Valores nulos encontrados**:\")\n",
    "        display(nulos[nulos > 0])\n",
    "    else:\n",
    "        print(\"\\n✅ Sem valores nulos em colunas críticas.\")\n",
    "\n",
    "    # 3. Verifica valores zerados/negativos no estoque\n",
    "    estoque_zerado = (df['Quantidade estoque'] == 0).sum()\n",
    "    estoque_negativo = (df['Quantidade estoque'] < 0).sum()\n",
    "    if estoque_zerado > 0 or estoque_negativo > 0:\n",
    "        print(f\"\\n⚠️ **Problemas no estoque**: {estoque_zerado} zerados e {estoque_negativo} negativos.\")\n",
    "    else:\n",
    "        print(\"\\n✅ Estoque sem valores zerados/negativos.\")\n",
    "\n",
    "    # 4. Verifica inconsistências entre código e produto\n",
    "    produtos_por_codigo = df.groupby(coluna_codigo)[coluna_produto].nunique()\n",
    "    codigos_problema = produtos_por_codigo[produtos_por_codigo > 1]\n",
    "    if not codigos_problema.empty:\n",
    "        print(f\"\\n⚠️ **Inconsistências**: {len(codigos_problema)} códigos com múltiplos produtos.\")\n",
    "        display(codigos_problema.head())\n",
    "    else:\n",
    "        print(\"\\n✅ Todos os códigos têm apenas 1 produto associado.\")\n",
    "\n",
    "    # 5. Estatísticas finais\n",
    "    print(\"\\n📊 **Resumo final**:\")\n",
    "    print(f\"- Registros totais: {len(df)}\")\n",
    "    print(f\"- Produtos únicos: {df[coluna_produto].nunique()}\")\n",
    "    print(f\"- Códigos únicos: {df[coluna_codigo].nunique()}\")\n",
    "\n",
    "# Uso:\n",
    "verificar_limpeza_base(df_util_estoque)"
   ]
  },
  {
   "cell_type": "code",
   "execution_count": 26,
   "id": "99d753bb",
   "metadata": {},
   "outputs": [
    {
     "data": {
      "text/plain": [
       "Código                   int64\n",
       "Produto                 object\n",
       "Código da categoria      int64\n",
       "Categoria               object\n",
       "Código da Marca          int64\n",
       "Marca                   object\n",
       "Preço de custo         float64\n",
       "Quantidade estoque     float64\n",
       "dtype: object"
      ]
     },
     "execution_count": 26,
     "metadata": {},
     "output_type": "execute_result"
    }
   ],
   "source": [
    "df_util_estoque.dtypes"
   ]
  },
  {
   "cell_type": "code",
   "execution_count": 27,
   "id": "26550d67",
   "metadata": {},
   "outputs": [],
   "source": [
    "df_util_estoque = df_util_estoque.astype({\n",
    "    'Quantidade estoque' : 'int64'\n",
    "})\n",
    "df_util_estoque[\"Preço de custo\"] = df_util_estoque[\"Preço de custo\"].round(2)"
   ]
  },
  {
   "cell_type": "code",
   "execution_count": 28,
   "id": "d7bd62d4",
   "metadata": {},
   "outputs": [],
   "source": [
    "df_util_estoque.to_excel(\"bases/bases_limpas/base_estoque_limpo.xlsx\", index=False)"
   ]
  }
 ],
 "metadata": {
  "kernelspec": {
   "display_name": "venv",
   "language": "python",
   "name": "python3"
  },
  "language_info": {
   "codemirror_mode": {
    "name": "ipython",
    "version": 3
   },
   "file_extension": ".py",
   "mimetype": "text/x-python",
   "name": "python",
   "nbconvert_exporter": "python",
   "pygments_lexer": "ipython3",
   "version": "3.13.1"
  }
 },
 "nbformat": 4,
 "nbformat_minor": 5
}
