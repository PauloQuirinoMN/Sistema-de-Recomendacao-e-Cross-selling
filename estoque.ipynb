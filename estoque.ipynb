{
 "cells": [
  {
   "cell_type": "markdown",
   "id": "ed96082b",
   "metadata": {},
   "source": [
    "### Limpeza da base de dados de estoque \n",
    "\n",
    "\n",
    "\n",
    "### Descrição das Colunas - Base de Estoque\n",
    "\n",
    "| Nome da Coluna           | Descrição                                                                                  | Exemplo                                                                 |\n",
    "|--------------------------|-------------------------------------------------------------------------------------------|-------------------------------------------------------------------------|\n",
    "| **Código**               | Identificador único do produto no sistema.                                                | `1`, `3`, `5`                                                          |\n",
    "| **Produto**              | Nome/descrição do produto comercializado.                                                 | `\"LAPIS Nº2 HB PT C/144 SERELEPE ECOLE\"`, `\"ACUCAR COMUM\"`             |\n",
    "| **Embalagem**            | Tipo de embalagem do produto (formato e quantidade por embalagem).                        | `\"CX/1\"` (Caixa com 1 unidade), `\"KG/1\"` (Kilograma unitário)          |\n",
    "| **Unidade**              | Unidade de medida primária para venda ou controle.                                        | `\"CX\"` (Caixa), `\"UN\"` (Unidade), `\"KG\"` (Kilograma)                   |\n",
    "| **Código da Marca**      | Identificador único da marca/fabricante do produto.                                       | `1` (Maria Geni), `4281` (Grupo Master)                                |\n",
    "| **Marca**                | Nome da marca ou fornecedor do produto.                                                   | `\"COMERCIO E IMPORTACAO SERTIC LTDA\"`                           |\n",
    "| **Quantidade estoque**   | Quantidade disponível em estoque (vazia indica registro sem dados).                       | `0`, `61`                                                              |\n",
    "| **Preço de custo**       | Preço unitário de custo do produto (formato numérico).                                    | `9`, `1.48`, `2.5`                                                     |\n",
    "| **Código da categoria**  | Identificador numérico da categoria do produto.                                           | `708` (Lápis), `199` (Açúcar)                                          |\n",
    "| **Categoria**            | Nome da categoria do produto, com abreviação entre parênteses.                            | `\"LAPIS ( LAP )\"`,                                          |"
   ]
  },
  {
   "cell_type": "code",
   "execution_count": null,
   "id": "44278a56",
   "metadata": {},
   "outputs": [],
   "source": [
    "import pandas as pd"
   ]
  },
  {
   "cell_type": "code",
   "execution_count": null,
   "id": "8394eba1",
   "metadata": {},
   "outputs": [],
   "source": [
    "df_estoque = pd.read_excel(\"bases/relatorio_produtos.xlsx\")"
   ]
  },
  {
   "cell_type": "markdown",
   "id": "392537bc",
   "metadata": {},
   "source": [
    "### Propriedades da base"
   ]
  },
  {
   "cell_type": "code",
   "execution_count": null,
   "id": "c99b8e16",
   "metadata": {},
   "outputs": [],
   "source": [
    "print(f\"Formato dos dados {df_estoque.shape}\")"
   ]
  },
  {
   "cell_type": "code",
   "execution_count": null,
   "id": "bad78f21",
   "metadata": {},
   "outputs": [],
   "source": [
    "df_estoque.columns.to_list()"
   ]
  },
  {
   "cell_type": "code",
   "execution_count": null,
   "id": "79a8085b",
   "metadata": {},
   "outputs": [],
   "source": [
    "df_estoque.head()"
   ]
  },
  {
   "cell_type": "code",
   "execution_count": null,
   "id": "50ee5922",
   "metadata": {},
   "outputs": [],
   "source": [
    "df_estoque.dtypes"
   ]
  },
  {
   "cell_type": "code",
   "execution_count": null,
   "id": "1eb0f139",
   "metadata": {},
   "outputs": [],
   "source": [
    "df_estoque.describe()"
   ]
  },
  {
   "cell_type": "code",
   "execution_count": null,
   "id": "7f9d51c3",
   "metadata": {},
   "outputs": [],
   "source": [
    "print(\"Quantidade valores Nulos\")\n",
    "df_estoque.isnull().sum()"
   ]
  },
  {
   "cell_type": "code",
   "execution_count": null,
   "id": "c04b352b",
   "metadata": {},
   "outputs": [],
   "source": [
    "print(\"Quantidade de valores zerados\")\n",
    "colunas_numericas = df_estoque.select_dtypes(include='number')\n",
    "for rotulo in colunas_numericas:\n",
    "    qt_zeros = (colunas_numericas[rotulo] == 0).sum()\n",
    "    print(f\"\\n{rotulo} contém {qt_zeros} zeros\")"
   ]
  },
  {
   "cell_type": "code",
   "execution_count": null,
   "id": "3e842869",
   "metadata": {},
   "outputs": [],
   "source": [
    "print(\"Quantidade de valores negativos\")\n",
    "for rotulo in colunas_numericas:\n",
    "    qt_negativos = (colunas_numericas[rotulo] < 0).sum()\n",
    "    print(f\"\\n{rotulo} contém {qt_negativos} negativos\")"
   ]
  },
  {
   "cell_type": "markdown",
   "id": "779460be",
   "metadata": {},
   "source": [
    "### Tratamento inicial "
   ]
  },
  {
   "cell_type": "code",
   "execution_count": null,
   "id": "af8f5656",
   "metadata": {},
   "outputs": [],
   "source": [
    "# Na coluna Quantidade estoque contém alguns valores nulos e negativos, estes serão convertidos para '0'.\n",
    "df_estoque.loc[df_estoque[\"Quantidade estoque\"] < 0, \"Quantidade estoque\"] = 0\n",
    "df_estoque['Quantidade estoque'] = df_estoque['Quantidade estoque'].fillna(0)"
   ]
  },
  {
   "cell_type": "code",
   "execution_count": null,
   "id": "c42be454",
   "metadata": {},
   "outputs": [],
   "source": [
    "# Separar somente as colunas que serão usadas no modelo\n",
    "df_util_estoque = df_estoque[['Código', 'Produto', 'Código da categoria', 'Categoria', 'Código da Marca', 'Marca', 'Preço de custo', 'Quantidade estoque']]\n",
    "df_estoque.head()"
   ]
  },
  {
   "cell_type": "markdown",
   "id": "d74a6405",
   "metadata": {},
   "source": [
    "#### Para garantir a integridade dos dados e a eficácia do sistema de recomendação/cross-selling, é essencial verificar:\n",
    "\n",
    "#### Unicidade dos Identificadores\n",
    "\n",
    "Código: Cada valor deve ser único e corresponder a um único Produto.\n",
    "\n",
    "Código da Marca: Deve ser único para cada Marca registrada.\n",
    "\n",
    "Código da categoria: Deve ser único e vinculado a uma única Categoria."
   ]
  },
  {
   "cell_type": "code",
   "execution_count": null,
   "id": "5637cd2f",
   "metadata": {},
   "outputs": [],
   "source": [
    "df_util_estoque.nunique()"
   ]
  },
  {
   "cell_type": "markdown",
   "id": "f49bd68d",
   "metadata": {},
   "source": [
    "#### Garantindo a integridade dos códigos e seus respectivas descrições"
   ]
  },
  {
   "cell_type": "code",
   "execution_count": null,
   "id": "d8299ffa",
   "metadata": {},
   "outputs": [],
   "source": [
    "codigos_produtos = df_util_estoque['Código'].nunique()\n",
    "produtos_unicos = df_util_estoque['Produto'].nunique()\n",
    "print(f\"{codigos_produtos} Código de Produtos Únicos\")\n",
    "print(f\"{produtos_unicos} Produtos Únicos\")"
   ]
  },
  {
   "cell_type": "code",
   "execution_count": null,
   "id": "0babe9b3",
   "metadata": {},
   "outputs": [],
   "source": [
    "# Verificando se há códigos duplicados associados a produtos diferentes\n",
    "codigos_produtos_duplicados = df_util_estoque[df_util_estoque[\"Código\"].duplicated(keep=False)]\n",
    "resultado = codigos_produtos_duplicados.sort_values(\"Código\")\n",
    "if resultado.isnull:\n",
    "    print(\"Não exitem códigos de produtos duplicados\")\n",
    "else:\n",
    "    print(\"Existem códigos duplicados, erro crítico\")"
   ]
  },
  {
   "cell_type": "code",
   "execution_count": null,
   "id": "1f1aa316",
   "metadata": {},
   "outputs": [],
   "source": [
    "# Remover todos os produtos cuja descrição contém mais de um código \n",
    "produto_multiplos_codigos = df_util_estoque.groupby(\"Produto\")[\"Código\"].nunique()\n",
    "produtos_problemas = produto_multiplos_codigos[produto_multiplos_codigos > 1].index\n",
    "df_util_estoque = df_util_estoque[~df_util_estoque[\"Produto\"].isin(produtos_problemas)]"
   ]
  },
  {
   "cell_type": "markdown",
   "id": "64e78030",
   "metadata": {},
   "source": [
    "#### Garantindo a integridade dos códigos e suas respectivas categorias"
   ]
  },
  {
   "cell_type": "code",
   "execution_count": null,
   "id": "309924fc",
   "metadata": {},
   "outputs": [],
   "source": [
    "codigos_categoria = df_util_estoque['Código da categoria'].nunique()\n",
    "categorias_unicas = df_util_estoque['Categoria'].nunique()\n",
    "print(f\"{codigos_categoria} Código de Categoria Únicos\")\n",
    "print(f\"{categorias_unicas} Categoria Únicos\")"
   ]
  },
  {
   "cell_type": "code",
   "execution_count": null,
   "id": "e423fea7",
   "metadata": {},
   "outputs": [],
   "source": [
    "# Verificando se há códigos duplicados associados a categorias diferentes\n",
    "codigos_categorias_duplicados = df_util_estoque[df_util_estoque[\"Código da categoria\"].duplicated(keep=False)]\n",
    "resultado = codigos_categorias_duplicados.sort_values(\"Código da categoria\")\n",
    "if resultado.isnull:\n",
    "    print(\"Não exitem códigos de Categorias duplicadas\")\n",
    "else:\n",
    "    print(\"Existem códigos duplicados, erro crítico\")"
   ]
  },
  {
   "cell_type": "code",
   "execution_count": null,
   "id": "877c98ff",
   "metadata": {},
   "outputs": [],
   "source": [
    "# Remover todos as categorias cuja descrição contém mais de um código \n",
    "categoria_multiplos_codigos = df_util_estoque.groupby(\"Categoria\")[\"Código da categoria\"].nunique()\n",
    "categorias_problemas = categoria_multiplos_codigos[categoria_multiplos_codigos > 1].index\n",
    "df_util_estoque = df_util_estoque[~df_util_estoque[\"Categoria\"].isin(categorias_problemas)]"
   ]
  },
  {
   "cell_type": "markdown",
   "id": "582df0f5",
   "metadata": {},
   "source": [
    "#### Garantindo a integridade dos códigos e suas respectivas marcas"
   ]
  },
  {
   "cell_type": "code",
   "execution_count": null,
   "id": "6944b3a7",
   "metadata": {},
   "outputs": [],
   "source": [
    "codigos_marca = df_util_estoque['Código da Marca'].nunique()\n",
    "marcas_unicas = df_util_estoque['Marca'].nunique()\n",
    "print(f\"{codigos_marca} Código de marcas Únicos\")\n",
    "print(f\"{marcas_unicas} Marcas Únicas\")"
   ]
  },
  {
   "cell_type": "code",
   "execution_count": null,
   "id": "69bd8a74",
   "metadata": {},
   "outputs": [],
   "source": [
    "# Verificando se há códigos duplicados associados a categorias diferentes\n",
    "codigos_marcas_duplicados = df_util_estoque[df_util_estoque[\"Código da Marca\"].duplicated(keep=False)]\n",
    "resultado = codigos_marcas_duplicados.sort_values(\"Código da Marca\")\n",
    "if resultado.isnull:\n",
    "    print(\"Não exitem códigos de Marcas duplicados\")\n",
    "else:\n",
    "    print(\"Existem códigos duplicados, erro crítico\")"
   ]
  },
  {
   "cell_type": "code",
   "execution_count": null,
   "id": "d7755233",
   "metadata": {},
   "outputs": [],
   "source": [
    "# Remover todos as marcas cuja descrição contém mais de um código \n",
    "categoria_multiplos_codigos = df_util_estoque.groupby(\"Marca\")[\"Código da Marca\"].nunique()\n",
    "categorias_problemas = categoria_multiplos_codigos[categoria_multiplos_codigos > 1].index\n",
    "df_util_estoque = df_util_estoque[~df_util_estoque[\"Marca\"].isin(categorias_problemas)]"
   ]
  },
  {
   "cell_type": "markdown",
   "id": "0965bf2d",
   "metadata": {},
   "source": [
    "##### Balanço das trataivas"
   ]
  },
  {
   "cell_type": "code",
   "execution_count": null,
   "id": "121da81e",
   "metadata": {},
   "outputs": [],
   "source": [
    "df_util_estoque.nunique()"
   ]
  },
  {
   "cell_type": "code",
   "execution_count": null,
   "id": "d071fb64",
   "metadata": {},
   "outputs": [],
   "source": [
    "print(\"Diferença entre códigos e descrições\")\n",
    "print(f\"\\nProduto: {codigos_produtos-produtos_unicos} formam excluidos {((codigos_produtos-produtos_unicos)*100 / codigos_produtos):.2f} %\")\n",
    "print(f\"\\nCategoria: {codigos_categoria-categorias_unicas} formam excluidos {((codigos_categoria-categorias_unicas)*100 / codigos_categoria):.2f} %\")\n",
    "print(f\"\\nMarca: {codigos_marca-marcas_unicas} formam excluidos {((codigos_marca-marcas_unicas)*100 / codigos_marca):.2f} %\")\n",
    "print(f\"\\nTotal base original {df_estoque.shape[0]}\\nTotal base sem duplicatas {df_util_estoque.shape[0]}\")\n",
    "print(f\"um exclusão de {((df_estoque.shape[0] - df_util_estoque.shape[0]) * 100 / df_estoque.shape[0]):.2f} % de registros duplicados\")"
   ]
  },
  {
   "cell_type": "code",
   "execution_count": null,
   "id": "93df3882",
   "metadata": {},
   "outputs": [],
   "source": [
    "def verificar_limpeza_base(df, coluna_codigo='Código', coluna_produto='Produto'):\n",
    "    \"\"\"\n",
    "    Verifica se a base tratada ainda precisa de ajustes.\n",
    "    \n",
    "    Retorna:\n",
    "        Um relatório com problemas residuais.\n",
    "    \"\"\"\n",
    "    # 1. Verifica duplicatas em combinação de código + produto (chave única)\n",
    "    duplicatas_chave = df.duplicated(subset=[coluna_codigo, coluna_produto], keep=False)\n",
    "    if duplicatas_chave.any():\n",
    "        print(f\"⚠️ **Atenção**: {duplicatas_chave.sum()} registros duplicados em 'Código + Produto'.\")\n",
    "        display(df[duplicatas_chave].sort_values(coluna_produto).head())\n",
    "    else:\n",
    "        print(\"✅ Sem duplicatas em 'Código + Produto'.\")\n",
    "\n",
    "    # 2. Verifica valores nulos em colunas críticas\n",
    "    colunas_criticas = [coluna_codigo, coluna_produto, 'Categoria', 'Marca', 'Quantidade estoque']\n",
    "    nulos = df[colunas_criticas].isnull().sum()\n",
    "    if nulos.any():\n",
    "        print(\"\\n⚠️ **Valores nulos encontrados**:\")\n",
    "        display(nulos[nulos > 0])\n",
    "    else:\n",
    "        print(\"\\n✅ Sem valores nulos em colunas críticas.\")\n",
    "\n",
    "    # 3. Verifica valores zerados/negativos no estoque\n",
    "    estoque_zerado = (df['Quantidade estoque'] == 0).sum()\n",
    "    estoque_negativo = (df['Quantidade estoque'] < 0).sum()\n",
    "    if estoque_zerado > 0 or estoque_negativo > 0:\n",
    "        print(f\"\\n⚠️ **Problemas no estoque**: {estoque_zerado} zerados e {estoque_negativo} negativos.\")\n",
    "    else:\n",
    "        print(\"\\n✅ Estoque sem valores zerados/negativos.\")\n",
    "\n",
    "    # 4. Verifica inconsistências entre código e produto\n",
    "    produtos_por_codigo = df.groupby(coluna_codigo)[coluna_produto].nunique()\n",
    "    codigos_problema = produtos_por_codigo[produtos_por_codigo > 1]\n",
    "    if not codigos_problema.empty:\n",
    "        print(f\"\\n⚠️ **Inconsistências**: {len(codigos_problema)} códigos com múltiplos produtos.\")\n",
    "        display(codigos_problema.head())\n",
    "    else:\n",
    "        print(\"\\n✅ Todos os códigos têm apenas 1 produto associado.\")\n",
    "\n",
    "    # 5. Estatísticas finais\n",
    "    print(\"\\n📊 **Resumo final**:\")\n",
    "    print(f\"- Registros totais: {len(df)}\")\n",
    "    print(f\"- Produtos únicos: {df[coluna_produto].nunique()}\")\n",
    "    print(f\"- Códigos únicos: {df[coluna_codigo].nunique()}\")\n",
    "\n",
    "# Uso:\n",
    "verificar_limpeza_base(df_util_estoque)"
   ]
  },
  {
   "cell_type": "code",
   "execution_count": null,
   "id": "99d753bb",
   "metadata": {},
   "outputs": [],
   "source": [
    "df_util_estoque.dtypes"
   ]
  },
  {
   "cell_type": "code",
   "execution_count": null,
   "id": "26550d67",
   "metadata": {},
   "outputs": [],
   "source": [
    "df_util_estoque = df_util_estoque.astype({\n",
    "    'Quantidade estoque' : 'int64'\n",
    "})\n",
    "df_util_estoque[\"Preço de custo\"] = df_util_estoque[\"Preço de custo\"].round(2)"
   ]
  },
  {
   "cell_type": "code",
   "execution_count": null,
   "id": "47160474",
   "metadata": {},
   "outputs": [],
   "source": [
    "df_util_estoque.rename(columns = {\"Código\" : \"Código produto\"}, inplace=True)"
   ]
  },
  {
   "cell_type": "code",
   "execution_count": null,
   "id": "d7bd62d4",
   "metadata": {},
   "outputs": [],
   "source": [
    "df_util_estoque.to_excel(\"bases/bases_limpas/base_estoque_limpo.xlsx\", index=False)"
   ]
  }
 ],
 "metadata": {
  "kernelspec": {
   "display_name": "venv",
   "language": "python",
   "name": "python3"
  },
  "language_info": {
   "codemirror_mode": {
    "name": "ipython",
    "version": 3
   },
   "file_extension": ".py",
   "mimetype": "text/x-python",
   "name": "python",
   "nbconvert_exporter": "python",
   "pygments_lexer": "ipython3",
   "version": "3.13.1"
  }
 },
 "nbformat": 4,
 "nbformat_minor": 5
}
