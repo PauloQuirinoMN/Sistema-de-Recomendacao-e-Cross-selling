{
 "cells": [
  {
   "cell_type": "markdown",
   "id": "ed96082b",
   "metadata": {},
   "source": [
    "### Limpeza da base de dados de estoque \n",
    "\n",
    "\n",
    "\n",
    "### Descrição das Colunas - Base de Estoque\n",
    "\n",
    "| Nome da Coluna           | Descrição                                                                                  | Exemplo                                                                 |\n",
    "|--------------------------|-------------------------------------------------------------------------------------------|-------------------------------------------------------------------------|\n",
    "| **Código**               | Identificador único do produto no sistema.                                                | `1`, `3`, `5`                                                          |\n",
    "| **Produto**              | Nome/descrição do produto comercializado.                                                 | `\"LAPIS Nº2 HB PT C/144 SERELEPE ECOLE\"`, `\"ACUCAR COMUM\"`             |\n",
    "| **Embalagem**            | Tipo de embalagem do produto (formato e quantidade por embalagem).                        | `\"CX/1\"` (Caixa com 1 unidade), `\"KG/1\"` (Kilograma unitário)          |\n",
    "| **Unidade**              | Unidade de medida primária para venda ou controle.                                        | `\"CX\"` (Caixa), `\"UN\"` (Unidade), `\"KG\"` (Kilograma)                   |\n",
    "| **Código da Marca**      | Identificador único da marca/fabricante do produto.                                       | `1` (Maria Geni), `4281` (Grupo Master)                                |\n",
    "| **Marca**                | Nome da marca ou fornecedor do produto.                                                   | `\"COMERCIO E IMPORTACAO SERTIC LTDA\"`                           |\n",
    "| **Quantidade estoque**   | Quantidade disponível em estoque (vazia indica registro sem dados).                       | `0`, `61`                                                              |\n",
    "| **Preço de custo**       | Preço unitário de custo do produto (formato numérico).                                    | `9`, `1.48`, `2.5`                                                     |\n",
    "| **Código da categoria**  | Identificador numérico da categoria do produto.                                           | `708` (Lápis), `199` (Açúcar)                                          |\n",
    "| **Categoria**            | Nome da categoria do produto, com abreviação entre parênteses.                            | `\"LAPIS ( LAP )\"`,                                          |"
   ]
  },
  {
   "cell_type": "code",
   "execution_count": 232,
   "id": "44278a56",
   "metadata": {},
   "outputs": [],
   "source": [
    "import pandas as pd"
   ]
  },
  {
   "cell_type": "code",
   "execution_count": 233,
   "id": "8394eba1",
   "metadata": {},
   "outputs": [],
   "source": [
    "df_estoque = pd.read_excel(\"bases/relatorio_produtos.xlsx\")"
   ]
  },
  {
   "cell_type": "markdown",
   "id": "392537bc",
   "metadata": {},
   "source": [
    "### Propriedades da base"
   ]
  },
  {
   "cell_type": "code",
   "execution_count": 234,
   "id": "c99b8e16",
   "metadata": {},
   "outputs": [
    {
     "name": "stdout",
     "output_type": "stream",
     "text": [
      "Formato dos dados (37527, 10)\n"
     ]
    }
   ],
   "source": [
    "print(f\"Formato dos dados {df_estoque.shape}\")"
   ]
  },
  {
   "cell_type": "code",
   "execution_count": 235,
   "id": "bad78f21",
   "metadata": {},
   "outputs": [
    {
     "data": {
      "text/plain": [
       "['Código',\n",
       " 'Produto',\n",
       " 'Embalagem',\n",
       " 'Unidade',\n",
       " 'Código da Marca',\n",
       " 'Marca',\n",
       " 'Quantidade estoque',\n",
       " 'Preço de custo',\n",
       " 'Código da categoria',\n",
       " 'Categoria']"
      ]
     },
     "execution_count": 235,
     "metadata": {},
     "output_type": "execute_result"
    }
   ],
   "source": [
    "df_estoque.columns.to_list()"
   ]
  },
  {
   "cell_type": "code",
   "execution_count": 236,
   "id": "79a8085b",
   "metadata": {},
   "outputs": [
    {
     "data": {
      "text/html": [
       "<div>\n",
       "<style scoped>\n",
       "    .dataframe tbody tr th:only-of-type {\n",
       "        vertical-align: middle;\n",
       "    }\n",
       "\n",
       "    .dataframe tbody tr th {\n",
       "        vertical-align: top;\n",
       "    }\n",
       "\n",
       "    .dataframe thead th {\n",
       "        text-align: right;\n",
       "    }\n",
       "</style>\n",
       "<table border=\"1\" class=\"dataframe\">\n",
       "  <thead>\n",
       "    <tr style=\"text-align: right;\">\n",
       "      <th></th>\n",
       "      <th>Código</th>\n",
       "      <th>Produto</th>\n",
       "      <th>Embalagem</th>\n",
       "      <th>Unidade</th>\n",
       "      <th>Código da Marca</th>\n",
       "      <th>Marca</th>\n",
       "      <th>Quantidade estoque</th>\n",
       "      <th>Preço de custo</th>\n",
       "      <th>Código da categoria</th>\n",
       "      <th>Categoria</th>\n",
       "    </tr>\n",
       "  </thead>\n",
       "  <tbody>\n",
       "    <tr>\n",
       "      <th>0</th>\n",
       "      <td>1</td>\n",
       "      <td>LAPIS Nº2 HB PT C/144 SERELEPE ECOLE</td>\n",
       "      <td>CX/1</td>\n",
       "      <td>CX</td>\n",
       "      <td>1</td>\n",
       "      <td>MARIA GENI DISTRIB. DE ART. DE PAP. LTDA</td>\n",
       "      <td>0.0</td>\n",
       "      <td>9.00000</td>\n",
       "      <td>708</td>\n",
       "      <td>LAPIS ( LAP )</td>\n",
       "    </tr>\n",
       "    <tr>\n",
       "      <th>1</th>\n",
       "      <td>3</td>\n",
       "      <td>CANETA HIDRO PONTA FINA PT CIS</td>\n",
       "      <td>UN/1</td>\n",
       "      <td>UN</td>\n",
       "      <td>1272</td>\n",
       "      <td>COMERCIO E IMPORTACAO SERTIC LTDA</td>\n",
       "      <td>NaN</td>\n",
       "      <td>1.48000</td>\n",
       "      <td>35011</td>\n",
       "      <td>CANETA HIDROGRAFICA (CNT)</td>\n",
       "    </tr>\n",
       "    <tr>\n",
       "      <th>2</th>\n",
       "      <td>4</td>\n",
       "      <td>BANDEIRINHAS JUNINAS MEGA</td>\n",
       "      <td>PC/1</td>\n",
       "      <td>PC</td>\n",
       "      <td>1</td>\n",
       "      <td>MARIA GENI DISTRIB. DE ART. DE PAP. LTDA</td>\n",
       "      <td>NaN</td>\n",
       "      <td>2.73970</td>\n",
       "      <td>359</td>\n",
       "      <td>BANDEIRAS ( BDJ )</td>\n",
       "    </tr>\n",
       "    <tr>\n",
       "      <th>3</th>\n",
       "      <td>5</td>\n",
       "      <td>FITA IMP EPSON FX890 MASTERPRINT</td>\n",
       "      <td>UN/1</td>\n",
       "      <td>UN</td>\n",
       "      <td>4281</td>\n",
       "      <td>GRUPO MASTER COMERCIO IMPORTACAO E EXPORTACAO ...</td>\n",
       "      <td>61.0</td>\n",
       "      <td>10.54527</td>\n",
       "      <td>3</td>\n",
       "      <td>FITAS PARA IMPRESSORAS ( FTA )</td>\n",
       "    </tr>\n",
       "    <tr>\n",
       "      <th>4</th>\n",
       "      <td>6</td>\n",
       "      <td>ACUCAR COMUM</td>\n",
       "      <td>KG/1</td>\n",
       "      <td>KG</td>\n",
       "      <td>1</td>\n",
       "      <td>MARIA GENI DISTRIB. DE ART. DE PAP. LTDA</td>\n",
       "      <td>NaN</td>\n",
       "      <td>2.50000</td>\n",
       "      <td>199</td>\n",
       "      <td>AÇÚCAR</td>\n",
       "    </tr>\n",
       "  </tbody>\n",
       "</table>\n",
       "</div>"
      ],
      "text/plain": [
       "   Código                               Produto Embalagem Unidade  \\\n",
       "0       1  LAPIS Nº2 HB PT C/144 SERELEPE ECOLE      CX/1      CX   \n",
       "1       3        CANETA HIDRO PONTA FINA PT CIS      UN/1      UN   \n",
       "2       4             BANDEIRINHAS JUNINAS MEGA      PC/1      PC   \n",
       "3       5      FITA IMP EPSON FX890 MASTERPRINT      UN/1      UN   \n",
       "4       6                          ACUCAR COMUM      KG/1      KG   \n",
       "\n",
       "   Código da Marca                                              Marca  \\\n",
       "0                1           MARIA GENI DISTRIB. DE ART. DE PAP. LTDA   \n",
       "1             1272                  COMERCIO E IMPORTACAO SERTIC LTDA   \n",
       "2                1           MARIA GENI DISTRIB. DE ART. DE PAP. LTDA   \n",
       "3             4281  GRUPO MASTER COMERCIO IMPORTACAO E EXPORTACAO ...   \n",
       "4                1           MARIA GENI DISTRIB. DE ART. DE PAP. LTDA   \n",
       "\n",
       "   Quantidade estoque  Preço de custo  Código da categoria  \\\n",
       "0                 0.0         9.00000                  708   \n",
       "1                 NaN         1.48000                35011   \n",
       "2                 NaN         2.73970                  359   \n",
       "3                61.0        10.54527                    3   \n",
       "4                 NaN         2.50000                  199   \n",
       "\n",
       "                        Categoria  \n",
       "0                   LAPIS ( LAP )  \n",
       "1       CANETA HIDROGRAFICA (CNT)  \n",
       "2               BANDEIRAS ( BDJ )  \n",
       "3  FITAS PARA IMPRESSORAS ( FTA )  \n",
       "4                          AÇÚCAR  "
      ]
     },
     "execution_count": 236,
     "metadata": {},
     "output_type": "execute_result"
    }
   ],
   "source": [
    "df_estoque.head()"
   ]
  },
  {
   "cell_type": "code",
   "execution_count": 237,
   "id": "50ee5922",
   "metadata": {},
   "outputs": [
    {
     "data": {
      "text/plain": [
       "Código                   int64\n",
       "Produto                 object\n",
       "Embalagem               object\n",
       "Unidade                 object\n",
       "Código da Marca          int64\n",
       "Marca                   object\n",
       "Quantidade estoque     float64\n",
       "Preço de custo         float64\n",
       "Código da categoria      int64\n",
       "Categoria               object\n",
       "dtype: object"
      ]
     },
     "execution_count": 237,
     "metadata": {},
     "output_type": "execute_result"
    }
   ],
   "source": [
    "df_estoque.dtypes"
   ]
  },
  {
   "cell_type": "code",
   "execution_count": 238,
   "id": "1eb0f139",
   "metadata": {},
   "outputs": [
    {
     "data": {
      "text/html": [
       "<div>\n",
       "<style scoped>\n",
       "    .dataframe tbody tr th:only-of-type {\n",
       "        vertical-align: middle;\n",
       "    }\n",
       "\n",
       "    .dataframe tbody tr th {\n",
       "        vertical-align: top;\n",
       "    }\n",
       "\n",
       "    .dataframe thead th {\n",
       "        text-align: right;\n",
       "    }\n",
       "</style>\n",
       "<table border=\"1\" class=\"dataframe\">\n",
       "  <thead>\n",
       "    <tr style=\"text-align: right;\">\n",
       "      <th></th>\n",
       "      <th>Código</th>\n",
       "      <th>Código da Marca</th>\n",
       "      <th>Quantidade estoque</th>\n",
       "      <th>Preço de custo</th>\n",
       "      <th>Código da categoria</th>\n",
       "    </tr>\n",
       "  </thead>\n",
       "  <tbody>\n",
       "    <tr>\n",
       "      <th>count</th>\n",
       "      <td>37527.000000</td>\n",
       "      <td>37527.000000</td>\n",
       "      <td>31204.000000</td>\n",
       "      <td>37527.000000</td>\n",
       "      <td>37527.000000</td>\n",
       "    </tr>\n",
       "    <tr>\n",
       "      <th>mean</th>\n",
       "      <td>19170.185413</td>\n",
       "      <td>4116.673302</td>\n",
       "      <td>112.105966</td>\n",
       "      <td>22.896258</td>\n",
       "      <td>2661.045034</td>\n",
       "    </tr>\n",
       "    <tr>\n",
       "      <th>std</th>\n",
       "      <td>11023.203749</td>\n",
       "      <td>19900.846543</td>\n",
       "      <td>1310.514860</td>\n",
       "      <td>431.449346</td>\n",
       "      <td>8705.304106</td>\n",
       "    </tr>\n",
       "    <tr>\n",
       "      <th>min</th>\n",
       "      <td>1.000000</td>\n",
       "      <td>1.000000</td>\n",
       "      <td>-4.000000</td>\n",
       "      <td>0.000000</td>\n",
       "      <td>1.000000</td>\n",
       "    </tr>\n",
       "    <tr>\n",
       "      <th>25%</th>\n",
       "      <td>9616.500000</td>\n",
       "      <td>995.000000</td>\n",
       "      <td>0.000000</td>\n",
       "      <td>2.524401</td>\n",
       "      <td>83.000000</td>\n",
       "    </tr>\n",
       "    <tr>\n",
       "      <th>50%</th>\n",
       "      <td>19186.000000</td>\n",
       "      <td>2712.000000</td>\n",
       "      <td>0.000000</td>\n",
       "      <td>6.880567</td>\n",
       "      <td>322.000000</td>\n",
       "    </tr>\n",
       "    <tr>\n",
       "      <th>75%</th>\n",
       "      <td>28728.500000</td>\n",
       "      <td>7346.000000</td>\n",
       "      <td>20.000000</td>\n",
       "      <td>16.858232</td>\n",
       "      <td>647.000000</td>\n",
       "    </tr>\n",
       "    <tr>\n",
       "      <th>max</th>\n",
       "      <td>38230.000000</td>\n",
       "      <td>901455.000000</td>\n",
       "      <td>166112.000000</td>\n",
       "      <td>79000.000000</td>\n",
       "      <td>35157.000000</td>\n",
       "    </tr>\n",
       "  </tbody>\n",
       "</table>\n",
       "</div>"
      ],
      "text/plain": [
       "             Código  Código da Marca  Quantidade estoque  Preço de custo  \\\n",
       "count  37527.000000     37527.000000        31204.000000    37527.000000   \n",
       "mean   19170.185413      4116.673302          112.105966       22.896258   \n",
       "std    11023.203749     19900.846543         1310.514860      431.449346   \n",
       "min        1.000000         1.000000           -4.000000        0.000000   \n",
       "25%     9616.500000       995.000000            0.000000        2.524401   \n",
       "50%    19186.000000      2712.000000            0.000000        6.880567   \n",
       "75%    28728.500000      7346.000000           20.000000       16.858232   \n",
       "max    38230.000000    901455.000000       166112.000000    79000.000000   \n",
       "\n",
       "       Código da categoria  \n",
       "count         37527.000000  \n",
       "mean           2661.045034  \n",
       "std            8705.304106  \n",
       "min               1.000000  \n",
       "25%              83.000000  \n",
       "50%             322.000000  \n",
       "75%             647.000000  \n",
       "max           35157.000000  "
      ]
     },
     "execution_count": 238,
     "metadata": {},
     "output_type": "execute_result"
    }
   ],
   "source": [
    "df_estoque.describe()"
   ]
  },
  {
   "cell_type": "code",
   "execution_count": 239,
   "id": "7f9d51c3",
   "metadata": {},
   "outputs": [
    {
     "name": "stdout",
     "output_type": "stream",
     "text": [
      "Quantidade valores Nulos\n"
     ]
    },
    {
     "data": {
      "text/plain": [
       "Código                    0\n",
       "Produto                   0\n",
       "Embalagem                 0\n",
       "Unidade                   0\n",
       "Código da Marca           0\n",
       "Marca                     0\n",
       "Quantidade estoque     6323\n",
       "Preço de custo            0\n",
       "Código da categoria       0\n",
       "Categoria                 0\n",
       "dtype: int64"
      ]
     },
     "execution_count": 239,
     "metadata": {},
     "output_type": "execute_result"
    }
   ],
   "source": [
    "print(\"Quantidade valores Nulos\")\n",
    "df_estoque.isnull().sum()"
   ]
  },
  {
   "cell_type": "code",
   "execution_count": 240,
   "id": "c04b352b",
   "metadata": {},
   "outputs": [
    {
     "name": "stdout",
     "output_type": "stream",
     "text": [
      "Quantidade de valores zerados\n",
      "\n",
      "Código contém 0 zeros\n",
      "\n",
      "Código da Marca contém 0 zeros\n",
      "\n",
      "Quantidade estoque contém 17001 zeros\n",
      "\n",
      "Preço de custo contém 2063 zeros\n",
      "\n",
      "Código da categoria contém 0 zeros\n"
     ]
    }
   ],
   "source": [
    "print(\"Quantidade de valores zerados\")\n",
    "colunas_numericas = df_estoque.select_dtypes(include='number')\n",
    "for rotulo in colunas_numericas:\n",
    "    qt_zeros = (colunas_numericas[rotulo] == 0).sum()\n",
    "    print(f\"\\n{rotulo} contém {qt_zeros} zeros\")"
   ]
  },
  {
   "cell_type": "code",
   "execution_count": 241,
   "id": "3e842869",
   "metadata": {},
   "outputs": [
    {
     "name": "stdout",
     "output_type": "stream",
     "text": [
      "Quantidade de valores negativos\n",
      "\n",
      "Código contém 0 negativos\n",
      "\n",
      "Código da Marca contém 0 negativos\n",
      "\n",
      "Quantidade estoque contém 2 negativos\n",
      "\n",
      "Preço de custo contém 0 negativos\n",
      "\n",
      "Código da categoria contém 0 negativos\n"
     ]
    }
   ],
   "source": [
    "print(\"Quantidade de valores negativos\")\n",
    "for rotulo in colunas_numericas:\n",
    "    qt_negativos = (colunas_numericas[rotulo] < 0).sum()\n",
    "    print(f\"\\n{rotulo} contém {qt_negativos} negativos\")"
   ]
  },
  {
   "cell_type": "markdown",
   "id": "779460be",
   "metadata": {},
   "source": [
    "### Tratamento inicial "
   ]
  },
  {
   "cell_type": "code",
   "execution_count": 242,
   "id": "af8f5656",
   "metadata": {},
   "outputs": [],
   "source": [
    "# Na coluna Quantidade estoque contém alguns valores nulos e negativos, estes serão convertidos para '0'.\n",
    "df_estoque.loc[df_estoque[\"Quantidade estoque\"] < 0, \"Quantidade estoque\"] = 0\n",
    "df_estoque['Quantidade estoque'] = df_estoque['Quantidade estoque'].fillna(0)"
   ]
  },
  {
   "cell_type": "code",
   "execution_count": 243,
   "id": "c42be454",
   "metadata": {},
   "outputs": [
    {
     "data": {
      "text/html": [
       "<div>\n",
       "<style scoped>\n",
       "    .dataframe tbody tr th:only-of-type {\n",
       "        vertical-align: middle;\n",
       "    }\n",
       "\n",
       "    .dataframe tbody tr th {\n",
       "        vertical-align: top;\n",
       "    }\n",
       "\n",
       "    .dataframe thead th {\n",
       "        text-align: right;\n",
       "    }\n",
       "</style>\n",
       "<table border=\"1\" class=\"dataframe\">\n",
       "  <thead>\n",
       "    <tr style=\"text-align: right;\">\n",
       "      <th></th>\n",
       "      <th>Código</th>\n",
       "      <th>Produto</th>\n",
       "      <th>Código da categoria</th>\n",
       "      <th>Categoria</th>\n",
       "      <th>Código da Marca</th>\n",
       "      <th>Marca</th>\n",
       "      <th>Preço de custo</th>\n",
       "      <th>Quantidade estoque</th>\n",
       "    </tr>\n",
       "  </thead>\n",
       "  <tbody>\n",
       "    <tr>\n",
       "      <th>0</th>\n",
       "      <td>1</td>\n",
       "      <td>LAPIS Nº2 HB PT C/144 SERELEPE ECOLE</td>\n",
       "      <td>708</td>\n",
       "      <td>LAPIS ( LAP )</td>\n",
       "      <td>1</td>\n",
       "      <td>MARIA GENI DISTRIB. DE ART. DE PAP. LTDA</td>\n",
       "      <td>9.00000</td>\n",
       "      <td>0.0</td>\n",
       "    </tr>\n",
       "    <tr>\n",
       "      <th>1</th>\n",
       "      <td>3</td>\n",
       "      <td>CANETA HIDRO PONTA FINA PT CIS</td>\n",
       "      <td>35011</td>\n",
       "      <td>CANETA HIDROGRAFICA (CNT)</td>\n",
       "      <td>1272</td>\n",
       "      <td>COMERCIO E IMPORTACAO SERTIC LTDA</td>\n",
       "      <td>1.48000</td>\n",
       "      <td>0.0</td>\n",
       "    </tr>\n",
       "    <tr>\n",
       "      <th>2</th>\n",
       "      <td>4</td>\n",
       "      <td>BANDEIRINHAS JUNINAS MEGA</td>\n",
       "      <td>359</td>\n",
       "      <td>BANDEIRAS ( BDJ )</td>\n",
       "      <td>1</td>\n",
       "      <td>MARIA GENI DISTRIB. DE ART. DE PAP. LTDA</td>\n",
       "      <td>2.73970</td>\n",
       "      <td>0.0</td>\n",
       "    </tr>\n",
       "    <tr>\n",
       "      <th>3</th>\n",
       "      <td>5</td>\n",
       "      <td>FITA IMP EPSON FX890 MASTERPRINT</td>\n",
       "      <td>3</td>\n",
       "      <td>FITAS PARA IMPRESSORAS ( FTA )</td>\n",
       "      <td>4281</td>\n",
       "      <td>GRUPO MASTER COMERCIO IMPORTACAO E EXPORTACAO ...</td>\n",
       "      <td>10.54527</td>\n",
       "      <td>61.0</td>\n",
       "    </tr>\n",
       "    <tr>\n",
       "      <th>4</th>\n",
       "      <td>6</td>\n",
       "      <td>ACUCAR COMUM</td>\n",
       "      <td>199</td>\n",
       "      <td>AÇÚCAR</td>\n",
       "      <td>1</td>\n",
       "      <td>MARIA GENI DISTRIB. DE ART. DE PAP. LTDA</td>\n",
       "      <td>2.50000</td>\n",
       "      <td>0.0</td>\n",
       "    </tr>\n",
       "  </tbody>\n",
       "</table>\n",
       "</div>"
      ],
      "text/plain": [
       "   Código                               Produto  Código da categoria  \\\n",
       "0       1  LAPIS Nº2 HB PT C/144 SERELEPE ECOLE                  708   \n",
       "1       3        CANETA HIDRO PONTA FINA PT CIS                35011   \n",
       "2       4             BANDEIRINHAS JUNINAS MEGA                  359   \n",
       "3       5      FITA IMP EPSON FX890 MASTERPRINT                    3   \n",
       "4       6                          ACUCAR COMUM                  199   \n",
       "\n",
       "                        Categoria  Código da Marca  \\\n",
       "0                   LAPIS ( LAP )                1   \n",
       "1       CANETA HIDROGRAFICA (CNT)             1272   \n",
       "2               BANDEIRAS ( BDJ )                1   \n",
       "3  FITAS PARA IMPRESSORAS ( FTA )             4281   \n",
       "4                          AÇÚCAR                1   \n",
       "\n",
       "                                               Marca  Preço de custo  \\\n",
       "0           MARIA GENI DISTRIB. DE ART. DE PAP. LTDA         9.00000   \n",
       "1                  COMERCIO E IMPORTACAO SERTIC LTDA         1.48000   \n",
       "2           MARIA GENI DISTRIB. DE ART. DE PAP. LTDA         2.73970   \n",
       "3  GRUPO MASTER COMERCIO IMPORTACAO E EXPORTACAO ...        10.54527   \n",
       "4           MARIA GENI DISTRIB. DE ART. DE PAP. LTDA         2.50000   \n",
       "\n",
       "   Quantidade estoque  \n",
       "0                 0.0  \n",
       "1                 0.0  \n",
       "2                 0.0  \n",
       "3                61.0  \n",
       "4                 0.0  "
      ]
     },
     "execution_count": 243,
     "metadata": {},
     "output_type": "execute_result"
    }
   ],
   "source": [
    "# Separar somente as colunas que serão usadas no modelo\n",
    "df_estoque = df_estoque[['Código', 'Produto', 'Código da categoria', 'Categoria', 'Código da Marca', 'Marca', 'Preço de custo', 'Quantidade estoque']]\n",
    "df_estoque.head()"
   ]
  },
  {
   "cell_type": "markdown",
   "id": "d74a6405",
   "metadata": {},
   "source": [
    "#### Para garantir a integridade dos dados e a eficácia do sistema de recomendação/cross-selling, é essencial verificar:\n",
    "\n",
    "#### Unicidade dos Identificadores\n",
    "\n",
    "Código: Cada valor deve ser único e corresponder a um único Produto.\n",
    "\n",
    "Código da Marca: Deve ser único para cada Marca registrada.\n",
    "\n",
    "Código da categoria: Deve ser único e vinculado a uma única Categoria."
   ]
  },
  {
   "cell_type": "code",
   "execution_count": 244,
   "id": "5637cd2f",
   "metadata": {},
   "outputs": [
    {
     "data": {
      "text/plain": [
       "Código                 37527\n",
       "Produto                36637\n",
       "Código da categoria      747\n",
       "Categoria                705\n",
       "Código da Marca          892\n",
       "Marca                    872\n",
       "Preço de custo         25718\n",
       "Quantidade estoque      1418\n",
       "dtype: int64"
      ]
     },
     "execution_count": 244,
     "metadata": {},
     "output_type": "execute_result"
    }
   ],
   "source": [
    "df_estoque.nunique()"
   ]
  },
  {
   "cell_type": "code",
   "execution_count": 245,
   "id": "d8299ffa",
   "metadata": {},
   "outputs": [
    {
     "name": "stdout",
     "output_type": "stream",
     "text": [
      "37527 Código de Produtos Únicos\n",
      "36637 Produtos Únicos\n"
     ]
    }
   ],
   "source": [
    "codigos_produtos = df_estoque['Código'].nunique()\n",
    "produtos_unicos = df_estoque['Produto'].nunique()\n",
    "print(f\"{codigos_produtos} Código de Produtos Únicos\")\n",
    "print(f\"{produtos_unicos} Produtos Únicos\")"
   ]
  },
  {
   "cell_type": "code",
   "execution_count": 246,
   "id": "0babe9b3",
   "metadata": {},
   "outputs": [
    {
     "name": "stdout",
     "output_type": "stream",
     "text": [
      "Não exite códigos de produtos duplicados\n"
     ]
    }
   ],
   "source": [
    "# Verificando se há códigos duplicados associados a produtos diferentes\n",
    "codigos_duplicados = df_estoque[df_estoque[\"Código\"].duplicated(keep=False)]\n",
    "resultado = codigos_duplicados.sort_values(\"Código\")\n",
    "if resultado.isnull:\n",
    "    print(\"Não exite códigos de produtos duplicados\")\n",
    "else:\n",
    "    print(\"Existem códigos duplicados, erro crítico\")"
   ]
  },
  {
   "cell_type": "code",
   "execution_count": 247,
   "id": "1f1aa316",
   "metadata": {},
   "outputs": [],
   "source": [
    "# Remover todos os produtos cuja descrição contém mais de um código \n",
    "produto_multiplos_codigos = df_estoque.groupby(\"Produto\")[\"Código\"].nunique()\n",
    "produtos_problemas = produto_multiplos_codigos[produto_multiplos_codigos > 1].index\n",
    "df_estoque = df_estoque[~df_estoque[\"Produto\"].isin(produtos_problemas)]"
   ]
  },
  {
   "cell_type": "code",
   "execution_count": 248,
   "id": "7f5d2009",
   "metadata": {},
   "outputs": [
    {
     "data": {
      "text/plain": [
       "Código                 36251\n",
       "Produto                36251\n",
       "Código da categoria      743\n",
       "Categoria                701\n",
       "Código da Marca          888\n",
       "Marca                    868\n",
       "Preço de custo         25336\n",
       "Quantidade estoque      1393\n",
       "dtype: int64"
      ]
     },
     "execution_count": 248,
     "metadata": {},
     "output_type": "execute_result"
    }
   ],
   "source": [
    "df_estoque.nunique()"
   ]
  },
  {
   "cell_type": "code",
   "execution_count": null,
   "metadata": {},
   "outputs": [],
   "source": []
  },
  {
   "cell_type": "code",
   "execution_count": 230,
   "id": "e71913da",
   "metadata": {},
   "outputs": [],
   "source": [
    "# df_estoque.to_excel(\"bases/bases_limpas/base_estoque_limpo.xlsx\", index=False)"
   ]
  }
 ],
 "metadata": {
  "kernelspec": {
   "display_name": "venv",
   "language": "python",
   "name": "python3"
  },
  "language_info": {
   "codemirror_mode": {
    "name": "ipython",
    "version": 3
   },
   "file_extension": ".py",
   "mimetype": "text/x-python",
   "name": "python",
   "nbconvert_exporter": "python",
   "pygments_lexer": "ipython3",
   "version": "3.13.1"
  }
 },
 "nbformat": 4,
 "nbformat_minor": 5
}
