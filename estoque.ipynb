{
 "cells": [
  {
   "cell_type": "code",
   "execution_count": 42,
   "id": "44278a56",
   "metadata": {},
   "outputs": [],
   "source": [
    "import pandas as pd"
   ]
  },
  {
   "cell_type": "code",
   "execution_count": 43,
   "id": "8394eba1",
   "metadata": {},
   "outputs": [],
   "source": [
    "df_estoque = pd.read_excel(\"bases/relatorio_produtos.xlsx\")"
   ]
  },
  {
   "cell_type": "code",
   "execution_count": 44,
   "id": "c99b8e16",
   "metadata": {},
   "outputs": [
    {
     "name": "stdout",
     "output_type": "stream",
     "text": [
      "Formato dos dados (37527, 10)\n"
     ]
    }
   ],
   "source": [
    "print(f\"Formato dos dados {df_estoque.shape}\")"
   ]
  },
  {
   "cell_type": "code",
   "execution_count": 45,
   "id": "bad78f21",
   "metadata": {},
   "outputs": [
    {
     "name": "stdout",
     "output_type": "stream",
     "text": [
      "['Código', 'Produto', 'Embalagem', 'Unidade', 'Código da Marca', 'Marca', 'Quantidade estoque', 'Preço de custo', 'Código da categoria', 'Categoria']\n"
     ]
    }
   ],
   "source": [
    "print(df_estoque.columns.to_list())"
   ]
  },
  {
   "cell_type": "code",
   "execution_count": 46,
   "id": "50ee5922",
   "metadata": {},
   "outputs": [
    {
     "data": {
      "text/plain": [
       "Código                   int64\n",
       "Produto                 object\n",
       "Embalagem               object\n",
       "Unidade                 object\n",
       "Código da Marca          int64\n",
       "Marca                   object\n",
       "Quantidade estoque     float64\n",
       "Preço de custo         float64\n",
       "Código da categoria      int64\n",
       "Categoria               object\n",
       "dtype: object"
      ]
     },
     "execution_count": 46,
     "metadata": {},
     "output_type": "execute_result"
    }
   ],
   "source": [
    "df_estoque.dtypes"
   ]
  },
  {
   "cell_type": "code",
   "execution_count": 47,
   "id": "1eb0f139",
   "metadata": {},
   "outputs": [
    {
     "data": {
      "text/html": [
       "<div>\n",
       "<style scoped>\n",
       "    .dataframe tbody tr th:only-of-type {\n",
       "        vertical-align: middle;\n",
       "    }\n",
       "\n",
       "    .dataframe tbody tr th {\n",
       "        vertical-align: top;\n",
       "    }\n",
       "\n",
       "    .dataframe thead th {\n",
       "        text-align: right;\n",
       "    }\n",
       "</style>\n",
       "<table border=\"1\" class=\"dataframe\">\n",
       "  <thead>\n",
       "    <tr style=\"text-align: right;\">\n",
       "      <th></th>\n",
       "      <th>Código</th>\n",
       "      <th>Código da Marca</th>\n",
       "      <th>Quantidade estoque</th>\n",
       "      <th>Preço de custo</th>\n",
       "      <th>Código da categoria</th>\n",
       "    </tr>\n",
       "  </thead>\n",
       "  <tbody>\n",
       "    <tr>\n",
       "      <th>count</th>\n",
       "      <td>37527.000000</td>\n",
       "      <td>37527.000000</td>\n",
       "      <td>31204.000000</td>\n",
       "      <td>37527.000000</td>\n",
       "      <td>37527.000000</td>\n",
       "    </tr>\n",
       "    <tr>\n",
       "      <th>mean</th>\n",
       "      <td>19170.185413</td>\n",
       "      <td>4116.673302</td>\n",
       "      <td>112.105966</td>\n",
       "      <td>22.896258</td>\n",
       "      <td>2661.045034</td>\n",
       "    </tr>\n",
       "    <tr>\n",
       "      <th>std</th>\n",
       "      <td>11023.203749</td>\n",
       "      <td>19900.846543</td>\n",
       "      <td>1310.514860</td>\n",
       "      <td>431.449346</td>\n",
       "      <td>8705.304106</td>\n",
       "    </tr>\n",
       "    <tr>\n",
       "      <th>min</th>\n",
       "      <td>1.000000</td>\n",
       "      <td>1.000000</td>\n",
       "      <td>-4.000000</td>\n",
       "      <td>0.000000</td>\n",
       "      <td>1.000000</td>\n",
       "    </tr>\n",
       "    <tr>\n",
       "      <th>25%</th>\n",
       "      <td>9616.500000</td>\n",
       "      <td>995.000000</td>\n",
       "      <td>0.000000</td>\n",
       "      <td>2.524401</td>\n",
       "      <td>83.000000</td>\n",
       "    </tr>\n",
       "    <tr>\n",
       "      <th>50%</th>\n",
       "      <td>19186.000000</td>\n",
       "      <td>2712.000000</td>\n",
       "      <td>0.000000</td>\n",
       "      <td>6.880567</td>\n",
       "      <td>322.000000</td>\n",
       "    </tr>\n",
       "    <tr>\n",
       "      <th>75%</th>\n",
       "      <td>28728.500000</td>\n",
       "      <td>7346.000000</td>\n",
       "      <td>20.000000</td>\n",
       "      <td>16.858232</td>\n",
       "      <td>647.000000</td>\n",
       "    </tr>\n",
       "    <tr>\n",
       "      <th>max</th>\n",
       "      <td>38230.000000</td>\n",
       "      <td>901455.000000</td>\n",
       "      <td>166112.000000</td>\n",
       "      <td>79000.000000</td>\n",
       "      <td>35157.000000</td>\n",
       "    </tr>\n",
       "  </tbody>\n",
       "</table>\n",
       "</div>"
      ],
      "text/plain": [
       "             Código  Código da Marca  Quantidade estoque  Preço de custo  \\\n",
       "count  37527.000000     37527.000000        31204.000000    37527.000000   \n",
       "mean   19170.185413      4116.673302          112.105966       22.896258   \n",
       "std    11023.203749     19900.846543         1310.514860      431.449346   \n",
       "min        1.000000         1.000000           -4.000000        0.000000   \n",
       "25%     9616.500000       995.000000            0.000000        2.524401   \n",
       "50%    19186.000000      2712.000000            0.000000        6.880567   \n",
       "75%    28728.500000      7346.000000           20.000000       16.858232   \n",
       "max    38230.000000    901455.000000       166112.000000    79000.000000   \n",
       "\n",
       "       Código da categoria  \n",
       "count         37527.000000  \n",
       "mean           2661.045034  \n",
       "std            8705.304106  \n",
       "min               1.000000  \n",
       "25%              83.000000  \n",
       "50%             322.000000  \n",
       "75%             647.000000  \n",
       "max           35157.000000  "
      ]
     },
     "execution_count": 47,
     "metadata": {},
     "output_type": "execute_result"
    }
   ],
   "source": [
    "df_estoque.describe()"
   ]
  },
  {
   "cell_type": "code",
   "execution_count": 48,
   "id": "3c40b3a2",
   "metadata": {},
   "outputs": [
    {
     "data": {
      "text/html": [
       "<div>\n",
       "<style scoped>\n",
       "    .dataframe tbody tr th:only-of-type {\n",
       "        vertical-align: middle;\n",
       "    }\n",
       "\n",
       "    .dataframe tbody tr th {\n",
       "        vertical-align: top;\n",
       "    }\n",
       "\n",
       "    .dataframe thead th {\n",
       "        text-align: right;\n",
       "    }\n",
       "</style>\n",
       "<table border=\"1\" class=\"dataframe\">\n",
       "  <thead>\n",
       "    <tr style=\"text-align: right;\">\n",
       "      <th></th>\n",
       "      <th>Produto</th>\n",
       "      <th>Embalagem</th>\n",
       "      <th>Unidade</th>\n",
       "      <th>Marca</th>\n",
       "      <th>Categoria</th>\n",
       "    </tr>\n",
       "  </thead>\n",
       "  <tbody>\n",
       "    <tr>\n",
       "      <th>count</th>\n",
       "      <td>37527</td>\n",
       "      <td>37527</td>\n",
       "      <td>37527</td>\n",
       "      <td>37527</td>\n",
       "      <td>37527</td>\n",
       "    </tr>\n",
       "    <tr>\n",
       "      <th>unique</th>\n",
       "      <td>36637</td>\n",
       "      <td>358</td>\n",
       "      <td>23</td>\n",
       "      <td>872</td>\n",
       "      <td>705</td>\n",
       "    </tr>\n",
       "    <tr>\n",
       "      <th>top</th>\n",
       "      <td>CUECA AM BOXER LUPO</td>\n",
       "      <td>UN/1</td>\n",
       "      <td>UN</td>\n",
       "      <td>MARIA GENI DISTRIB. DE ART. DE PAP. LTDA</td>\n",
       "      <td>CADERNOS ( CAD )</td>\n",
       "    </tr>\n",
       "    <tr>\n",
       "      <th>freq</th>\n",
       "      <td>84</td>\n",
       "      <td>23289</td>\n",
       "      <td>23749</td>\n",
       "      <td>2685</td>\n",
       "      <td>3797</td>\n",
       "    </tr>\n",
       "  </tbody>\n",
       "</table>\n",
       "</div>"
      ],
      "text/plain": [
       "                    Produto Embalagem Unidade  \\\n",
       "count                 37527     37527   37527   \n",
       "unique                36637       358      23   \n",
       "top     CUECA AM BOXER LUPO      UN/1      UN   \n",
       "freq                     84     23289   23749   \n",
       "\n",
       "                                           Marca         Categoria  \n",
       "count                                      37527             37527  \n",
       "unique                                       872               705  \n",
       "top     MARIA GENI DISTRIB. DE ART. DE PAP. LTDA  CADERNOS ( CAD )  \n",
       "freq                                        2685              3797  "
      ]
     },
     "execution_count": 48,
     "metadata": {},
     "output_type": "execute_result"
    }
   ],
   "source": [
    "df_estoque.describe(include=object)"
   ]
  },
  {
   "cell_type": "code",
   "execution_count": 49,
   "id": "7f9d51c3",
   "metadata": {},
   "outputs": [
    {
     "name": "stdout",
     "output_type": "stream",
     "text": [
      "Quantidade valores faltantes\n",
      "\n"
     ]
    },
    {
     "data": {
      "text/plain": [
       "Código                    0\n",
       "Produto                   0\n",
       "Embalagem                 0\n",
       "Unidade                   0\n",
       "Código da Marca           0\n",
       "Marca                     0\n",
       "Quantidade estoque     6323\n",
       "Preço de custo            0\n",
       "Código da categoria       0\n",
       "Categoria                 0\n",
       "dtype: int64"
      ]
     },
     "execution_count": 49,
     "metadata": {},
     "output_type": "execute_result"
    }
   ],
   "source": [
    "print(\"Quantidade valores faltantes\\n\")\n",
    "df_estoque.isnull().sum()"
   ]
  },
  {
   "cell_type": "code",
   "execution_count": 50,
   "id": "a369c4f7",
   "metadata": {},
   "outputs": [
    {
     "name": "stdout",
     "output_type": "stream",
     "text": [
      "'%' dos valores faltantes\n"
     ]
    },
    {
     "data": {
      "text/plain": [
       "Código                  0.00\n",
       "Produto                 0.00\n",
       "Embalagem               0.00\n",
       "Unidade                 0.00\n",
       "Código da Marca         0.00\n",
       "Marca                   0.00\n",
       "Quantidade estoque     16.85\n",
       "Preço de custo          0.00\n",
       "Código da categoria     0.00\n",
       "Categoria               0.00\n",
       "dtype: float64"
      ]
     },
     "execution_count": 50,
     "metadata": {},
     "output_type": "execute_result"
    }
   ],
   "source": [
    "print(\"'%' dos valores faltantes\")\n",
    "((df_estoque.isnull().sum()/df_estoque['Código'].count() * 100).round(2))"
   ]
  },
  {
   "cell_type": "code",
   "execution_count": 51,
   "id": "e628e2ff",
   "metadata": {},
   "outputs": [],
   "source": [
    "df_estoque = df_estoque.rename(columns={'Código': 'Código Produto'})"
   ]
  },
  {
   "cell_type": "code",
   "execution_count": 52,
   "id": "83718d2b",
   "metadata": {},
   "outputs": [],
   "source": [
    "df_estoque['Quantidade estoque'] = df_estoque['Quantidade estoque'].fillna(0)"
   ]
  },
  {
   "cell_type": "code",
   "execution_count": 53,
   "id": "620b96ab",
   "metadata": {},
   "outputs": [],
   "source": [
    "df_produto = df_estoque.drop(columns=['Embalagem', 'Unidade'], axis=1).copy()"
   ]
  },
  {
   "cell_type": "code",
   "execution_count": 54,
   "id": "d8299ffa",
   "metadata": {},
   "outputs": [
    {
     "name": "stdout",
     "output_type": "stream",
     "text": [
      "37527 Código de Produtos Únicos\n",
      "36637 Produtos Únicos\n"
     ]
    }
   ],
   "source": [
    "codigos_produtos = df_estoque['Código Produto'].nunique()\n",
    "produtos_unicos = df_estoque['Produto'].nunique()\n",
    "print(f\"{codigos_produtos} Código de Produtos Únicos\")\n",
    "print(f\"{produtos_unicos} Produtos Únicos\")"
   ]
  },
  {
   "cell_type": "code",
   "execution_count": 55,
   "id": "a1333836",
   "metadata": {},
   "outputs": [
    {
     "name": "stdout",
     "output_type": "stream",
     "text": [
      "747 Código de Categorias Únicas\n",
      "705 Categorias Únicas\n"
     ]
    }
   ],
   "source": [
    "cod_cat_unicos = df_estoque['Código da categoria'].nunique()\n",
    "cat_unicas = df_estoque['Categoria'].nunique()\n",
    "print(f\"{cod_cat_unicos} Código de Categorias Únicas\")\n",
    "print(f\"{cat_unicas} Categorias Únicas\")\n"
   ]
  },
  {
   "cell_type": "code",
   "execution_count": 56,
   "id": "2b5f2ff7",
   "metadata": {},
   "outputs": [
    {
     "name": "stdout",
     "output_type": "stream",
     "text": [
      "892 Código de Marcas Únicas\n",
      "872 Marcas Únicas\n"
     ]
    }
   ],
   "source": [
    "cod_marc = df_estoque['Código da Marca'].nunique()\n",
    "marc_uni = df_estoque['Marca'].nunique()\n",
    "print(f\"{cod_marc} Código de Marcas Únicas\")\n",
    "print(f\"{marc_uni} Marcas Únicas\")\n"
   ]
  },
  {
   "cell_type": "code",
   "execution_count": 57,
   "id": "5b04aa1d",
   "metadata": {},
   "outputs": [
    {
     "data": {
      "text/html": [
       "<div>\n",
       "<style scoped>\n",
       "    .dataframe tbody tr th:only-of-type {\n",
       "        vertical-align: middle;\n",
       "    }\n",
       "\n",
       "    .dataframe tbody tr th {\n",
       "        vertical-align: top;\n",
       "    }\n",
       "\n",
       "    .dataframe thead th {\n",
       "        text-align: right;\n",
       "    }\n",
       "</style>\n",
       "<table border=\"1\" class=\"dataframe\">\n",
       "  <thead>\n",
       "    <tr style=\"text-align: right;\">\n",
       "      <th></th>\n",
       "      <th>Código Produto</th>\n",
       "      <th>Produto</th>\n",
       "    </tr>\n",
       "  </thead>\n",
       "  <tbody>\n",
       "    <tr>\n",
       "      <th>0</th>\n",
       "      <td>44</td>\n",
       "      <td>COPO 200ML BR C/100 ULTRA</td>\n",
       "    </tr>\n",
       "    <tr>\n",
       "      <th>1</th>\n",
       "      <td>342</td>\n",
       "      <td>CAPA ENCAD A4 CORES ALAPLAST</td>\n",
       "    </tr>\n",
       "    <tr>\n",
       "      <th>2</th>\n",
       "      <td>345</td>\n",
       "      <td>CAPA ENCAD OF CORES C/100 PEUPACK</td>\n",
       "    </tr>\n",
       "    <tr>\n",
       "      <th>3</th>\n",
       "      <td>565</td>\n",
       "      <td>APAGADOR QDO BR CORTIARTE</td>\n",
       "    </tr>\n",
       "    <tr>\n",
       "      <th>4</th>\n",
       "      <td>744</td>\n",
       "      <td>REAB MARC QDO BR 20ML PT GRAMPLINE</td>\n",
       "    </tr>\n",
       "    <tr>\n",
       "      <th>...</th>\n",
       "      <td>...</td>\n",
       "      <td>...</td>\n",
       "    </tr>\n",
       "    <tr>\n",
       "      <th>885</th>\n",
       "      <td>37860</td>\n",
       "      <td>BOB PEAD PIC 20X30 C/500 SEGPLAST</td>\n",
       "    </tr>\n",
       "    <tr>\n",
       "      <th>886</th>\n",
       "      <td>37884</td>\n",
       "      <td>GARRAFA FUN STITCH 600ML PLASUTIL</td>\n",
       "    </tr>\n",
       "    <tr>\n",
       "      <th>887</th>\n",
       "      <td>38012</td>\n",
       "      <td>MARCA TEXTO LUMINI AMARELO CIS</td>\n",
       "    </tr>\n",
       "    <tr>\n",
       "      <th>888</th>\n",
       "      <td>38032</td>\n",
       "      <td>BOB TERMICA AM 48G 57X15 C/54 DML THEGA</td>\n",
       "    </tr>\n",
       "    <tr>\n",
       "      <th>889</th>\n",
       "      <td>38075</td>\n",
       "      <td>BOB TERMICA BR 80X40 SILFER</td>\n",
       "    </tr>\n",
       "  </tbody>\n",
       "</table>\n",
       "<p>890 rows × 2 columns</p>\n",
       "</div>"
      ],
      "text/plain": [
       "     Código Produto                                  Produto\n",
       "0                44                COPO 200ML BR C/100 ULTRA\n",
       "1               342             CAPA ENCAD A4 CORES ALAPLAST\n",
       "2               345        CAPA ENCAD OF CORES C/100 PEUPACK\n",
       "3               565                APAGADOR QDO BR CORTIARTE\n",
       "4               744       REAB MARC QDO BR 20ML PT GRAMPLINE\n",
       "..              ...                                      ...\n",
       "885           37860        BOB PEAD PIC 20X30 C/500 SEGPLAST\n",
       "886           37884        GARRAFA FUN STITCH 600ML PLASUTIL\n",
       "887           38012           MARCA TEXTO LUMINI AMARELO CIS\n",
       "888           38032  BOB TERMICA AM 48G 57X15 C/54 DML THEGA\n",
       "889           38075              BOB TERMICA BR 80X40 SILFER\n",
       "\n",
       "[890 rows x 2 columns]"
      ]
     },
     "execution_count": 57,
     "metadata": {},
     "output_type": "execute_result"
    }
   ],
   "source": [
    "produtos_duplicados = df_estoque[df_estoque['Produto'].duplicated(keep='first')]\n",
    "produtos_duplicados[['Código Produto', 'Produto']].reset_index(drop=True)"
   ]
  },
  {
   "cell_type": "code",
   "execution_count": 58,
   "id": "cf1a7d4b",
   "metadata": {},
   "outputs": [
    {
     "name": "stdout",
     "output_type": "stream",
     "text": [
      "386 Produtos repetidos 1.03 %\n"
     ]
    }
   ],
   "source": [
    "repetidos = produtos_duplicados['Produto'].nunique()\n",
    "total_cod = df_estoque['Código Produto'].count()\n",
    "print(f\"{repetidos} Produtos repetidos {(repetidos/total_cod) * 100:.2f} %\")"
   ]
  },
  {
   "cell_type": "code",
   "execution_count": 59,
   "id": "8d2ad998",
   "metadata": {},
   "outputs": [],
   "source": [
    "df_produto = df_produto.drop_duplicates(keep='first', subset='Produto')"
   ]
  },
  {
   "cell_type": "code",
   "execution_count": 60,
   "id": "79e69c6f",
   "metadata": {},
   "outputs": [
    {
     "name": "stdout",
     "output_type": "stream",
     "text": [
      "114 Produtos repetidos 0.30 %\n"
     ]
    }
   ],
   "source": [
    "repetidos = produtos_duplicados['Marca'].nunique()\n",
    "total_cod = df_estoque['Código da Marca'].count()\n",
    "print(f\"{repetidos} Produtos repetidos {(repetidos/total_cod) * 100:.2f} %\")"
   ]
  },
  {
   "cell_type": "code",
   "execution_count": 61,
   "id": "d0a65e94",
   "metadata": {},
   "outputs": [
    {
     "name": "stdout",
     "output_type": "stream",
     "text": [
      "123 Produtos repetidos 0.33 %\n"
     ]
    }
   ],
   "source": [
    "repetidos = produtos_duplicados['Categoria'].nunique()\n",
    "total_cod = df_estoque['Código da categoria'].count()\n",
    "print(f\"{repetidos} Produtos repetidos {(repetidos/total_cod) * 100:.2f} %\")"
   ]
  },
  {
   "cell_type": "code",
   "execution_count": 62,
   "id": "4382b415",
   "metadata": {},
   "outputs": [
    {
     "data": {
      "text/plain": [
       "Código Produto         36637\n",
       "Produto                36637\n",
       "Código da Marca          891\n",
       "Marca                    871\n",
       "Quantidade estoque      1406\n",
       "Preço de custo         25550\n",
       "Código da categoria      746\n",
       "Categoria                704\n",
       "dtype: int64"
      ]
     },
     "execution_count": 62,
     "metadata": {},
     "output_type": "execute_result"
    }
   ],
   "source": [
    "df_produto.nunique(axis=0)"
   ]
  },
  {
   "cell_type": "code",
   "execution_count": 63,
   "id": "5e92867f",
   "metadata": {},
   "outputs": [
    {
     "name": "stdout",
     "output_type": "stream",
     "text": [
      "Valores nulos em 'Código da Marca': 0\n",
      "Valores nulos em 'Marca': 0\n"
     ]
    }
   ],
   "source": [
    "print(f\"Valores nulos em 'Código da Marca': {df_produto['Código da Marca'].isnull().sum()}\")\n",
    "print(f\"Valores nulos em 'Marca': {df_produto['Marca'].isnull().sum()}\")"
   ]
  },
  {
   "cell_type": "code",
   "execution_count": 64,
   "id": "d96b5fd0",
   "metadata": {},
   "outputs": [
    {
     "name": "stdout",
     "output_type": "stream",
     "text": [
      "\n",
      "Códigos com mais de uma marca associada: 0\n",
      "Empty DataFrame\n",
      "Columns: [Código Produto, Produto, Código da Marca, Marca, Quantidade estoque, Preço de custo, Código da categoria, Categoria]\n",
      "Index: []\n"
     ]
    }
   ],
   "source": [
    "# Agrupar por código e contar marcas distintas\n",
    "inconsistencias = df_produto.groupby('Código da Marca')['Marca'].nunique()\n",
    "codigos_problema = inconsistencias[inconsistencias > 1].index\n",
    "\n",
    "print(f\"\\nCódigos com mais de uma marca associada: {len(codigos_problema)}\")\n",
    "print(df_produto[df_produto['Código da Marca'].isin(codigos_problema)].sort_values('Código da Marca'))"
   ]
  },
  {
   "cell_type": "code",
   "execution_count": 65,
   "id": "3cd0b939",
   "metadata": {},
   "outputs": [
    {
     "name": "stdout",
     "output_type": "stream",
     "text": [
      "\n",
      "Marcas com mais de um código associado: ['ABC DISTRIBUIDORA S/A', 'AC COMERCIO VAREJISTA DE MATERIAL DE ESCRITORIO LTDA', 'ADERE PRODUTOS AUTO ADESIVOS LTDA', 'BIC AMAZONIA S/A', 'COMERCIAL IBIAPINA LTDA', 'CONDOR PINCEIS LTDA', 'ELGIN S A', 'FC OLIVEIRA E CIA LTDA', 'FORT-PLAST INDUSTRIA E COMERCIO DE PLASTICOS EIRELI', 'GERARDOS DISTRIBUIDORA LTDA', 'HENKEL LTDA', 'LUME INDUSTRIA QUIMICA E COMERCIO LTDA', 'MARLUVAS EQUIPAMENTOS DE SEGURANCA LTDA', 'MELHORAMENTOS CMPC LTDA', 'MERCORIENTAL IMPORTACAO E EXPORTACAO LTDA', 'OWENS ILLINOIS DO BRASIL IND E COM S.A', 'PLASUTIL INDUSTRIA E COMERCIO DE PLASTICOS LTDA', 'SOCIEDADE DISTRIBUIDORA DO NORDESTE LTDA', 'SOLMAR DISTRIBUIDORA DE ALIMENTOS LTDA', 'SUZANO PAPEL E CELULOSE SA']\n",
      "\n",
      "Total: 20 marcas\n"
     ]
    }
   ],
   "source": [
    "# Agrupar por marca e contar códigos distintos\n",
    "marcas_multiplos_codigos = df_produto.groupby('Marca')['Código da Marca'].nunique()\n",
    "marcas_problema = marcas_multiplos_codigos[marcas_multiplos_codigos > 1].index.tolist()\n",
    "\n",
    "print(f\"\\nMarcas com mais de um código associado: {marcas_problema}\\n\")\n",
    "print(f\"Total: {len(marcas_problema)} marcas\")"
   ]
  },
  {
   "cell_type": "code",
   "execution_count": 66,
   "id": "4c27b813",
   "metadata": {},
   "outputs": [],
   "source": [
    "# Criar um dicionário de mapeamento {marca: código_unico}\n",
    "codigos_por_marca = df_produto.groupby('Marca')['Código da Marca'].first().to_dict()\n",
    "\n",
    "# Substituir os códigos originais pelo código único\n",
    "df_produto['Código da Marca'] = df_produto['Marca'].map(codigos_por_marca)"
   ]
  },
  {
   "cell_type": "code",
   "execution_count": 67,
   "id": "93922f98",
   "metadata": {},
   "outputs": [
    {
     "data": {
      "text/html": [
       "<div>\n",
       "<style scoped>\n",
       "    .dataframe tbody tr th:only-of-type {\n",
       "        vertical-align: middle;\n",
       "    }\n",
       "\n",
       "    .dataframe tbody tr th {\n",
       "        vertical-align: top;\n",
       "    }\n",
       "\n",
       "    .dataframe thead th {\n",
       "        text-align: right;\n",
       "    }\n",
       "</style>\n",
       "<table border=\"1\" class=\"dataframe\">\n",
       "  <thead>\n",
       "    <tr style=\"text-align: right;\">\n",
       "      <th></th>\n",
       "      <th>Código Produto</th>\n",
       "      <th>Produto</th>\n",
       "      <th>Código da Marca</th>\n",
       "      <th>Marca</th>\n",
       "      <th>Quantidade estoque</th>\n",
       "      <th>Preço de custo</th>\n",
       "      <th>Código da categoria</th>\n",
       "      <th>Categoria</th>\n",
       "    </tr>\n",
       "  </thead>\n",
       "  <tbody>\n",
       "    <tr>\n",
       "      <th>0</th>\n",
       "      <td>1</td>\n",
       "      <td>LAPIS Nº2 HB PT C/144 SERELEPE ECOLE</td>\n",
       "      <td>1</td>\n",
       "      <td>MARIA GENI DISTRIB. DE ART. DE PAP. LTDA</td>\n",
       "      <td>0.0</td>\n",
       "      <td>9.000000</td>\n",
       "      <td>708</td>\n",
       "      <td>LAPIS ( LAP )</td>\n",
       "    </tr>\n",
       "    <tr>\n",
       "      <th>1</th>\n",
       "      <td>3</td>\n",
       "      <td>CANETA HIDRO PONTA FINA PT CIS</td>\n",
       "      <td>1272</td>\n",
       "      <td>COMERCIO E IMPORTACAO SERTIC LTDA</td>\n",
       "      <td>0.0</td>\n",
       "      <td>1.480000</td>\n",
       "      <td>35011</td>\n",
       "      <td>CANETA HIDROGRAFICA (CNT)</td>\n",
       "    </tr>\n",
       "    <tr>\n",
       "      <th>2</th>\n",
       "      <td>4</td>\n",
       "      <td>BANDEIRINHAS JUNINAS MEGA</td>\n",
       "      <td>1</td>\n",
       "      <td>MARIA GENI DISTRIB. DE ART. DE PAP. LTDA</td>\n",
       "      <td>0.0</td>\n",
       "      <td>2.739700</td>\n",
       "      <td>359</td>\n",
       "      <td>BANDEIRAS ( BDJ )</td>\n",
       "    </tr>\n",
       "    <tr>\n",
       "      <th>3</th>\n",
       "      <td>5</td>\n",
       "      <td>FITA IMP EPSON FX890 MASTERPRINT</td>\n",
       "      <td>4281</td>\n",
       "      <td>GRUPO MASTER COMERCIO IMPORTACAO E EXPORTACAO ...</td>\n",
       "      <td>61.0</td>\n",
       "      <td>10.545270</td>\n",
       "      <td>3</td>\n",
       "      <td>FITAS PARA IMPRESSORAS ( FTA )</td>\n",
       "    </tr>\n",
       "    <tr>\n",
       "      <th>4</th>\n",
       "      <td>6</td>\n",
       "      <td>ACUCAR COMUM</td>\n",
       "      <td>1</td>\n",
       "      <td>MARIA GENI DISTRIB. DE ART. DE PAP. LTDA</td>\n",
       "      <td>0.0</td>\n",
       "      <td>2.500000</td>\n",
       "      <td>199</td>\n",
       "      <td>AÇÚCAR</td>\n",
       "    </tr>\n",
       "    <tr>\n",
       "      <th>...</th>\n",
       "      <td>...</td>\n",
       "      <td>...</td>\n",
       "      <td>...</td>\n",
       "      <td>...</td>\n",
       "      <td>...</td>\n",
       "      <td>...</td>\n",
       "      <td>...</td>\n",
       "      <td>...</td>\n",
       "    </tr>\n",
       "    <tr>\n",
       "      <th>37522</th>\n",
       "      <td>38226</td>\n",
       "      <td>PISTOLA P/APLICAR COLA QUENTE PQ FUTURO</td>\n",
       "      <td>8793</td>\n",
       "      <td>FUTURO BRASIL IMPORTACAO E EXPORTACAO LTDA EPP</td>\n",
       "      <td>0.0</td>\n",
       "      <td>0.000000</td>\n",
       "      <td>206</td>\n",
       "      <td>PISTOLA ( PIS )</td>\n",
       "    </tr>\n",
       "    <tr>\n",
       "      <th>37523</th>\n",
       "      <td>38227</td>\n",
       "      <td>PERFURADOR METAL 2F 20FL FUTURO</td>\n",
       "      <td>8793</td>\n",
       "      <td>FUTURO BRASIL IMPORTACAO E EXPORTACAO LTDA EPP</td>\n",
       "      <td>0.0</td>\n",
       "      <td>0.000000</td>\n",
       "      <td>81</td>\n",
       "      <td>PERFURADORES ( PRF )</td>\n",
       "    </tr>\n",
       "    <tr>\n",
       "      <th>37524</th>\n",
       "      <td>38228</td>\n",
       "      <td>BALDE 8L PT FORTPLAST 1030.5</td>\n",
       "      <td>8751</td>\n",
       "      <td>FORT-PLAST INDUSTRIA E COMERCIO DE PLASTICOS E...</td>\n",
       "      <td>600.0</td>\n",
       "      <td>3.879582</td>\n",
       "      <td>159</td>\n",
       "      <td>BALDES PLASTICO ( BDE )</td>\n",
       "    </tr>\n",
       "    <tr>\n",
       "      <th>37525</th>\n",
       "      <td>38229</td>\n",
       "      <td>BALDE 10L PT FORTPLAST 1042.5</td>\n",
       "      <td>8751</td>\n",
       "      <td>FORT-PLAST INDUSTRIA E COMERCIO DE PLASTICOS E...</td>\n",
       "      <td>590.0</td>\n",
       "      <td>5.431415</td>\n",
       "      <td>159</td>\n",
       "      <td>BALDES PLASTICO ( BDE )</td>\n",
       "    </tr>\n",
       "    <tr>\n",
       "      <th>37526</th>\n",
       "      <td>38230</td>\n",
       "      <td>QUENTINHA MANUAL 3DV Y C/100 BRICOFLEX</td>\n",
       "      <td>8749</td>\n",
       "      <td>BRICOFLEX, IMP. E EXP, COM. DE UTIL. DOMESTICA...</td>\n",
       "      <td>0.0</td>\n",
       "      <td>0.000000</td>\n",
       "      <td>144</td>\n",
       "      <td>QUENTINHA ( QNT )</td>\n",
       "    </tr>\n",
       "  </tbody>\n",
       "</table>\n",
       "<p>36637 rows × 8 columns</p>\n",
       "</div>"
      ],
      "text/plain": [
       "       Código Produto                                  Produto  \\\n",
       "0                   1     LAPIS Nº2 HB PT C/144 SERELEPE ECOLE   \n",
       "1                   3           CANETA HIDRO PONTA FINA PT CIS   \n",
       "2                   4                BANDEIRINHAS JUNINAS MEGA   \n",
       "3                   5         FITA IMP EPSON FX890 MASTERPRINT   \n",
       "4                   6                             ACUCAR COMUM   \n",
       "...               ...                                      ...   \n",
       "37522           38226  PISTOLA P/APLICAR COLA QUENTE PQ FUTURO   \n",
       "37523           38227          PERFURADOR METAL 2F 20FL FUTURO   \n",
       "37524           38228             BALDE 8L PT FORTPLAST 1030.5   \n",
       "37525           38229            BALDE 10L PT FORTPLAST 1042.5   \n",
       "37526           38230   QUENTINHA MANUAL 3DV Y C/100 BRICOFLEX   \n",
       "\n",
       "       Código da Marca                                              Marca  \\\n",
       "0                    1           MARIA GENI DISTRIB. DE ART. DE PAP. LTDA   \n",
       "1                 1272                  COMERCIO E IMPORTACAO SERTIC LTDA   \n",
       "2                    1           MARIA GENI DISTRIB. DE ART. DE PAP. LTDA   \n",
       "3                 4281  GRUPO MASTER COMERCIO IMPORTACAO E EXPORTACAO ...   \n",
       "4                    1           MARIA GENI DISTRIB. DE ART. DE PAP. LTDA   \n",
       "...                ...                                                ...   \n",
       "37522             8793     FUTURO BRASIL IMPORTACAO E EXPORTACAO LTDA EPP   \n",
       "37523             8793     FUTURO BRASIL IMPORTACAO E EXPORTACAO LTDA EPP   \n",
       "37524             8751  FORT-PLAST INDUSTRIA E COMERCIO DE PLASTICOS E...   \n",
       "37525             8751  FORT-PLAST INDUSTRIA E COMERCIO DE PLASTICOS E...   \n",
       "37526             8749  BRICOFLEX, IMP. E EXP, COM. DE UTIL. DOMESTICA...   \n",
       "\n",
       "       Quantidade estoque  Preço de custo  Código da categoria  \\\n",
       "0                     0.0        9.000000                  708   \n",
       "1                     0.0        1.480000                35011   \n",
       "2                     0.0        2.739700                  359   \n",
       "3                    61.0       10.545270                    3   \n",
       "4                     0.0        2.500000                  199   \n",
       "...                   ...             ...                  ...   \n",
       "37522                 0.0        0.000000                  206   \n",
       "37523                 0.0        0.000000                   81   \n",
       "37524               600.0        3.879582                  159   \n",
       "37525               590.0        5.431415                  159   \n",
       "37526                 0.0        0.000000                  144   \n",
       "\n",
       "                            Categoria  \n",
       "0                       LAPIS ( LAP )  \n",
       "1           CANETA HIDROGRAFICA (CNT)  \n",
       "2                   BANDEIRAS ( BDJ )  \n",
       "3      FITAS PARA IMPRESSORAS ( FTA )  \n",
       "4                              AÇÚCAR  \n",
       "...                               ...  \n",
       "37522                 PISTOLA ( PIS )  \n",
       "37523            PERFURADORES ( PRF )  \n",
       "37524         BALDES PLASTICO ( BDE )  \n",
       "37525         BALDES PLASTICO ( BDE )  \n",
       "37526               QUENTINHA ( QNT )  \n",
       "\n",
       "[36637 rows x 8 columns]"
      ]
     },
     "execution_count": 67,
     "metadata": {},
     "output_type": "execute_result"
    }
   ],
   "source": [
    "df_produto"
   ]
  },
  {
   "cell_type": "code",
   "execution_count": 68,
   "id": "9ade410e",
   "metadata": {},
   "outputs": [
    {
     "name": "stdout",
     "output_type": "stream",
     "text": [
      "Categorias únicas após padronização: 704\n",
      "Códigos únicos após padronização: 704\n"
     ]
    }
   ],
   "source": [
    "# Passo 1: Criar um dicionário {categoria: código_unico}\n",
    "codigos_por_categoria = df_produto.groupby('Categoria')['Código da categoria'].first().to_dict()\n",
    "\n",
    "# Passo 2: Substituir os códigos originais pelo código único\n",
    "df_produto['Código da categoria'] = df_produto['Categoria'].map(codigos_por_categoria)\n",
    "\n",
    "# Verificar resultados\n",
    "print(\"Categorias únicas após padronização:\", df_produto['Categoria'].nunique())\n",
    "print(\"Códigos únicos após padronização:\", df_produto['Código da categoria'].nunique())"
   ]
  },
  {
   "cell_type": "code",
   "execution_count": 69,
   "id": "03b98bc5",
   "metadata": {},
   "outputs": [
    {
     "data": {
      "text/plain": [
       "Código Produto         36637\n",
       "Produto                36637\n",
       "Código da Marca          871\n",
       "Marca                    871\n",
       "Quantidade estoque      1406\n",
       "Preço de custo         25550\n",
       "Código da categoria      704\n",
       "Categoria                704\n",
       "dtype: int64"
      ]
     },
     "execution_count": 69,
     "metadata": {},
     "output_type": "execute_result"
    }
   ],
   "source": [
    "df_produto.nunique()"
   ]
  },
  {
   "cell_type": "code",
   "execution_count": 70,
   "id": "cc3b37c8",
   "metadata": {},
   "outputs": [
    {
     "name": "stdout",
     "output_type": "stream",
     "text": [
      "\n",
      "Códigos com mais de um categoria associada: 0\n",
      "Empty DataFrame\n",
      "Columns: [Código Produto, Produto, Código da Marca, Marca, Quantidade estoque, Preço de custo, Código da categoria, Categoria]\n",
      "Index: []\n"
     ]
    }
   ],
   "source": [
    "# Identificar códigos com multiplas categorias(Inconsistência)\n",
    "\n",
    "inconsistencia_cat = df_produto.groupby('Código da categoria')['Categoria'].nunique()\n",
    "cod_cat_problema = inconsistencia_cat[inconsistencia_cat > 1].index\n",
    "\n",
    "print(f\"\\nCódigos com mais de um categoria associada: {len(cod_cat_problema)}\")\n",
    "print(df_produto[df_produto['Código da categoria'].isin(cod_cat_problema)].sort_values('Código da categoria'))"
   ]
  },
  {
   "cell_type": "code",
   "execution_count": 71,
   "metadata": {},
   "outputs": [
    {
     "name": "stdout",
     "output_type": "stream",
     "text": [
      "\n",
      "Códigos únicos sem categoria: 0\n",
      "Categorias únicas sem código: 0\n"
     ]
    }
   ],
   "source": [
    "# Caso 1: Códigos sem categoria associada\n",
    "codigos_sem_categoria = df_produto[df_produto['Categoria'].isnull()]['Código da categoria'].nunique()\n",
    "print(f\"\\nCódigos únicos sem categoria: {codigos_sem_categoria}\")\n",
    "\n",
    "# Caso 2: Categorias sem código associado\n",
    "categorias_sem_codigo = df_produto[df_produto['Código da categoria'].isnull()]['Categoria'].nunique()\n",
    "print(f\"Categorias únicas sem código: {categorias_sem_codigo}\")"
   ]
  },
  {
   "cell_type": "code",
   "execution_count": 72,
   "id": "ab13482e",
   "metadata": {},
   "outputs": [
    {
     "data": {
      "text/html": [
       "<div>\n",
       "<style scoped>\n",
       "    .dataframe tbody tr th:only-of-type {\n",
       "        vertical-align: middle;\n",
       "    }\n",
       "\n",
       "    .dataframe tbody tr th {\n",
       "        vertical-align: top;\n",
       "    }\n",
       "\n",
       "    .dataframe thead th {\n",
       "        text-align: right;\n",
       "    }\n",
       "</style>\n",
       "<table border=\"1\" class=\"dataframe\">\n",
       "  <thead>\n",
       "    <tr style=\"text-align: right;\">\n",
       "      <th></th>\n",
       "      <th>Código Produto</th>\n",
       "      <th>Produto</th>\n",
       "      <th>Código da Marca</th>\n",
       "      <th>Marca</th>\n",
       "      <th>Quantidade estoque</th>\n",
       "      <th>Preço de custo</th>\n",
       "      <th>Código da categoria</th>\n",
       "      <th>Categoria</th>\n",
       "    </tr>\n",
       "  </thead>\n",
       "  <tbody>\n",
       "    <tr>\n",
       "      <th>0</th>\n",
       "      <td>1</td>\n",
       "      <td>LAPIS Nº2 HB PT C/144 SERELEPE ECOLE</td>\n",
       "      <td>1</td>\n",
       "      <td>MARIA GENI DISTRIB. DE ART. DE PAP. LTDA</td>\n",
       "      <td>0.0</td>\n",
       "      <td>9.000000</td>\n",
       "      <td>708</td>\n",
       "      <td>LAPIS ( LAP )</td>\n",
       "    </tr>\n",
       "    <tr>\n",
       "      <th>1</th>\n",
       "      <td>3</td>\n",
       "      <td>CANETA HIDRO PONTA FINA PT CIS</td>\n",
       "      <td>1272</td>\n",
       "      <td>COMERCIO E IMPORTACAO SERTIC LTDA</td>\n",
       "      <td>0.0</td>\n",
       "      <td>1.480000</td>\n",
       "      <td>35011</td>\n",
       "      <td>CANETA HIDROGRAFICA (CNT)</td>\n",
       "    </tr>\n",
       "    <tr>\n",
       "      <th>2</th>\n",
       "      <td>4</td>\n",
       "      <td>BANDEIRINHAS JUNINAS MEGA</td>\n",
       "      <td>1</td>\n",
       "      <td>MARIA GENI DISTRIB. DE ART. DE PAP. LTDA</td>\n",
       "      <td>0.0</td>\n",
       "      <td>2.739700</td>\n",
       "      <td>359</td>\n",
       "      <td>BANDEIRAS ( BDJ )</td>\n",
       "    </tr>\n",
       "    <tr>\n",
       "      <th>3</th>\n",
       "      <td>5</td>\n",
       "      <td>FITA IMP EPSON FX890 MASTERPRINT</td>\n",
       "      <td>4281</td>\n",
       "      <td>GRUPO MASTER COMERCIO IMPORTACAO E EXPORTACAO ...</td>\n",
       "      <td>61.0</td>\n",
       "      <td>10.545270</td>\n",
       "      <td>3</td>\n",
       "      <td>FITAS PARA IMPRESSORAS ( FTA )</td>\n",
       "    </tr>\n",
       "    <tr>\n",
       "      <th>4</th>\n",
       "      <td>6</td>\n",
       "      <td>ACUCAR COMUM</td>\n",
       "      <td>1</td>\n",
       "      <td>MARIA GENI DISTRIB. DE ART. DE PAP. LTDA</td>\n",
       "      <td>0.0</td>\n",
       "      <td>2.500000</td>\n",
       "      <td>199</td>\n",
       "      <td>AÇÚCAR</td>\n",
       "    </tr>\n",
       "    <tr>\n",
       "      <th>...</th>\n",
       "      <td>...</td>\n",
       "      <td>...</td>\n",
       "      <td>...</td>\n",
       "      <td>...</td>\n",
       "      <td>...</td>\n",
       "      <td>...</td>\n",
       "      <td>...</td>\n",
       "      <td>...</td>\n",
       "    </tr>\n",
       "    <tr>\n",
       "      <th>37522</th>\n",
       "      <td>38226</td>\n",
       "      <td>PISTOLA P/APLICAR COLA QUENTE PQ FUTURO</td>\n",
       "      <td>8793</td>\n",
       "      <td>FUTURO BRASIL IMPORTACAO E EXPORTACAO LTDA EPP</td>\n",
       "      <td>0.0</td>\n",
       "      <td>0.000000</td>\n",
       "      <td>206</td>\n",
       "      <td>PISTOLA ( PIS )</td>\n",
       "    </tr>\n",
       "    <tr>\n",
       "      <th>37523</th>\n",
       "      <td>38227</td>\n",
       "      <td>PERFURADOR METAL 2F 20FL FUTURO</td>\n",
       "      <td>8793</td>\n",
       "      <td>FUTURO BRASIL IMPORTACAO E EXPORTACAO LTDA EPP</td>\n",
       "      <td>0.0</td>\n",
       "      <td>0.000000</td>\n",
       "      <td>81</td>\n",
       "      <td>PERFURADORES ( PRF )</td>\n",
       "    </tr>\n",
       "    <tr>\n",
       "      <th>37524</th>\n",
       "      <td>38228</td>\n",
       "      <td>BALDE 8L PT FORTPLAST 1030.5</td>\n",
       "      <td>8751</td>\n",
       "      <td>FORT-PLAST INDUSTRIA E COMERCIO DE PLASTICOS E...</td>\n",
       "      <td>600.0</td>\n",
       "      <td>3.879582</td>\n",
       "      <td>159</td>\n",
       "      <td>BALDES PLASTICO ( BDE )</td>\n",
       "    </tr>\n",
       "    <tr>\n",
       "      <th>37525</th>\n",
       "      <td>38229</td>\n",
       "      <td>BALDE 10L PT FORTPLAST 1042.5</td>\n",
       "      <td>8751</td>\n",
       "      <td>FORT-PLAST INDUSTRIA E COMERCIO DE PLASTICOS E...</td>\n",
       "      <td>590.0</td>\n",
       "      <td>5.431415</td>\n",
       "      <td>159</td>\n",
       "      <td>BALDES PLASTICO ( BDE )</td>\n",
       "    </tr>\n",
       "    <tr>\n",
       "      <th>37526</th>\n",
       "      <td>38230</td>\n",
       "      <td>QUENTINHA MANUAL 3DV Y C/100 BRICOFLEX</td>\n",
       "      <td>8749</td>\n",
       "      <td>BRICOFLEX, IMP. E EXP, COM. DE UTIL. DOMESTICA...</td>\n",
       "      <td>0.0</td>\n",
       "      <td>0.000000</td>\n",
       "      <td>144</td>\n",
       "      <td>QUENTINHA ( QNT )</td>\n",
       "    </tr>\n",
       "  </tbody>\n",
       "</table>\n",
       "<p>36637 rows × 8 columns</p>\n",
       "</div>"
      ],
      "text/plain": [
       "       Código Produto                                  Produto  \\\n",
       "0                   1     LAPIS Nº2 HB PT C/144 SERELEPE ECOLE   \n",
       "1                   3           CANETA HIDRO PONTA FINA PT CIS   \n",
       "2                   4                BANDEIRINHAS JUNINAS MEGA   \n",
       "3                   5         FITA IMP EPSON FX890 MASTERPRINT   \n",
       "4                   6                             ACUCAR COMUM   \n",
       "...               ...                                      ...   \n",
       "37522           38226  PISTOLA P/APLICAR COLA QUENTE PQ FUTURO   \n",
       "37523           38227          PERFURADOR METAL 2F 20FL FUTURO   \n",
       "37524           38228             BALDE 8L PT FORTPLAST 1030.5   \n",
       "37525           38229            BALDE 10L PT FORTPLAST 1042.5   \n",
       "37526           38230   QUENTINHA MANUAL 3DV Y C/100 BRICOFLEX   \n",
       "\n",
       "       Código da Marca                                              Marca  \\\n",
       "0                    1           MARIA GENI DISTRIB. DE ART. DE PAP. LTDA   \n",
       "1                 1272                  COMERCIO E IMPORTACAO SERTIC LTDA   \n",
       "2                    1           MARIA GENI DISTRIB. DE ART. DE PAP. LTDA   \n",
       "3                 4281  GRUPO MASTER COMERCIO IMPORTACAO E EXPORTACAO ...   \n",
       "4                    1           MARIA GENI DISTRIB. DE ART. DE PAP. LTDA   \n",
       "...                ...                                                ...   \n",
       "37522             8793     FUTURO BRASIL IMPORTACAO E EXPORTACAO LTDA EPP   \n",
       "37523             8793     FUTURO BRASIL IMPORTACAO E EXPORTACAO LTDA EPP   \n",
       "37524             8751  FORT-PLAST INDUSTRIA E COMERCIO DE PLASTICOS E...   \n",
       "37525             8751  FORT-PLAST INDUSTRIA E COMERCIO DE PLASTICOS E...   \n",
       "37526             8749  BRICOFLEX, IMP. E EXP, COM. DE UTIL. DOMESTICA...   \n",
       "\n",
       "       Quantidade estoque  Preço de custo  Código da categoria  \\\n",
       "0                     0.0        9.000000                  708   \n",
       "1                     0.0        1.480000                35011   \n",
       "2                     0.0        2.739700                  359   \n",
       "3                    61.0       10.545270                    3   \n",
       "4                     0.0        2.500000                  199   \n",
       "...                   ...             ...                  ...   \n",
       "37522                 0.0        0.000000                  206   \n",
       "37523                 0.0        0.000000                   81   \n",
       "37524               600.0        3.879582                  159   \n",
       "37525               590.0        5.431415                  159   \n",
       "37526                 0.0        0.000000                  144   \n",
       "\n",
       "                            Categoria  \n",
       "0                       LAPIS ( LAP )  \n",
       "1           CANETA HIDROGRAFICA (CNT)  \n",
       "2                   BANDEIRAS ( BDJ )  \n",
       "3      FITAS PARA IMPRESSORAS ( FTA )  \n",
       "4                              AÇÚCAR  \n",
       "...                               ...  \n",
       "37522                 PISTOLA ( PIS )  \n",
       "37523            PERFURADORES ( PRF )  \n",
       "37524         BALDES PLASTICO ( BDE )  \n",
       "37525         BALDES PLASTICO ( BDE )  \n",
       "37526               QUENTINHA ( QNT )  \n",
       "\n",
       "[36637 rows x 8 columns]"
      ]
     },
     "execution_count": 72,
     "metadata": {},
     "output_type": "execute_result"
    }
   ],
   "source": [
    "df_produto"
   ]
  },
  {
   "cell_type": "code",
   "execution_count": 73,
   "id": "157a14d6",
   "metadata": {},
   "outputs": [],
   "source": [
    "estoq = df_produto.pop('Quantidade estoque')\n",
    "df_produto['Quantidade estoque'] = estoq.astype(int)\n",
    "preco = df_produto.pop('Preço de custo')\n",
    "df_produto['Preço de custo'] = preco.round(2)\n"
   ]
  },
  {
   "cell_type": "code",
   "execution_count": 74,
   "id": "7112bac7",
   "metadata": {},
   "outputs": [
    {
     "data": {
      "text/html": [
       "<div>\n",
       "<style scoped>\n",
       "    .dataframe tbody tr th:only-of-type {\n",
       "        vertical-align: middle;\n",
       "    }\n",
       "\n",
       "    .dataframe tbody tr th {\n",
       "        vertical-align: top;\n",
       "    }\n",
       "\n",
       "    .dataframe thead th {\n",
       "        text-align: right;\n",
       "    }\n",
       "</style>\n",
       "<table border=\"1\" class=\"dataframe\">\n",
       "  <thead>\n",
       "    <tr style=\"text-align: right;\">\n",
       "      <th></th>\n",
       "      <th>Código Produto</th>\n",
       "      <th>Código da Marca</th>\n",
       "      <th>Código da categoria</th>\n",
       "      <th>Quantidade estoque</th>\n",
       "      <th>Preço de custo</th>\n",
       "    </tr>\n",
       "  </thead>\n",
       "  <tbody>\n",
       "    <tr>\n",
       "      <th>count</th>\n",
       "      <td>36637.000000</td>\n",
       "      <td>36637.000000</td>\n",
       "      <td>36637.000000</td>\n",
       "      <td>36637.000000</td>\n",
       "      <td>36637.000000</td>\n",
       "    </tr>\n",
       "    <tr>\n",
       "      <th>mean</th>\n",
       "      <td>18916.077272</td>\n",
       "      <td>4059.969457</td>\n",
       "      <td>2307.805825</td>\n",
       "      <td>94.076617</td>\n",
       "      <td>23.115083</td>\n",
       "    </tr>\n",
       "    <tr>\n",
       "      <th>std</th>\n",
       "      <td>10958.999948</td>\n",
       "      <td>20129.560751</td>\n",
       "      <td>8162.159959</td>\n",
       "      <td>1208.399580</td>\n",
       "      <td>436.649604</td>\n",
       "    </tr>\n",
       "    <tr>\n",
       "      <th>min</th>\n",
       "      <td>1.000000</td>\n",
       "      <td>1.000000</td>\n",
       "      <td>1.000000</td>\n",
       "      <td>-4.000000</td>\n",
       "      <td>0.000000</td>\n",
       "    </tr>\n",
       "    <tr>\n",
       "      <th>25%</th>\n",
       "      <td>9434.000000</td>\n",
       "      <td>995.000000</td>\n",
       "      <td>75.000000</td>\n",
       "      <td>0.000000</td>\n",
       "      <td>2.500000</td>\n",
       "    </tr>\n",
       "    <tr>\n",
       "      <th>50%</th>\n",
       "      <td>18821.000000</td>\n",
       "      <td>2712.000000</td>\n",
       "      <td>215.000000</td>\n",
       "      <td>0.000000</td>\n",
       "      <td>6.760000</td>\n",
       "    </tr>\n",
       "    <tr>\n",
       "      <th>75%</th>\n",
       "      <td>28281.000000</td>\n",
       "      <td>7157.000000</td>\n",
       "      <td>519.000000</td>\n",
       "      <td>11.000000</td>\n",
       "      <td>16.520000</td>\n",
       "    </tr>\n",
       "    <tr>\n",
       "      <th>max</th>\n",
       "      <td>38230.000000</td>\n",
       "      <td>901455.000000</td>\n",
       "      <td>35157.000000</td>\n",
       "      <td>166112.000000</td>\n",
       "      <td>79000.000000</td>\n",
       "    </tr>\n",
       "  </tbody>\n",
       "</table>\n",
       "</div>"
      ],
      "text/plain": [
       "       Código Produto  Código da Marca  Código da categoria  \\\n",
       "count    36637.000000     36637.000000         36637.000000   \n",
       "mean     18916.077272      4059.969457          2307.805825   \n",
       "std      10958.999948     20129.560751          8162.159959   \n",
       "min          1.000000         1.000000             1.000000   \n",
       "25%       9434.000000       995.000000            75.000000   \n",
       "50%      18821.000000      2712.000000           215.000000   \n",
       "75%      28281.000000      7157.000000           519.000000   \n",
       "max      38230.000000    901455.000000         35157.000000   \n",
       "\n",
       "       Quantidade estoque  Preço de custo  \n",
       "count        36637.000000    36637.000000  \n",
       "mean            94.076617       23.115083  \n",
       "std           1208.399580      436.649604  \n",
       "min             -4.000000        0.000000  \n",
       "25%              0.000000        2.500000  \n",
       "50%              0.000000        6.760000  \n",
       "75%             11.000000       16.520000  \n",
       "max         166112.000000    79000.000000  "
      ]
     },
     "execution_count": 74,
     "metadata": {},
     "output_type": "execute_result"
    }
   ],
   "source": [
    "df_produto.describe()"
   ]
  },
  {
   "cell_type": "code",
   "execution_count": 75,
   "id": "ea1bb03a",
   "metadata": {},
   "outputs": [
    {
     "name": "stdout",
     "output_type": "stream",
     "text": [
      "<class 'pandas.core.frame.DataFrame'>\n",
      "Index: 36637 entries, 0 to 37526\n",
      "Data columns (total 8 columns):\n",
      " #   Column               Non-Null Count  Dtype  \n",
      "---  ------               --------------  -----  \n",
      " 0   Código Produto       36637 non-null  int64  \n",
      " 1   Produto              36637 non-null  object \n",
      " 2   Código da Marca      36637 non-null  int64  \n",
      " 3   Marca                36637 non-null  object \n",
      " 4   Código da categoria  36637 non-null  int64  \n",
      " 5   Categoria            36637 non-null  object \n",
      " 6   Quantidade estoque   36637 non-null  int64  \n",
      " 7   Preço de custo       36637 non-null  float64\n",
      "dtypes: float64(1), int64(4), object(3)\n",
      "memory usage: 2.5+ MB\n"
     ]
    }
   ],
   "source": [
    "df_produto.info()"
   ]
  },
  {
   "cell_type": "code",
   "execution_count": 76,
   "id": "e71913da",
   "metadata": {},
   "outputs": [],
   "source": [
    "df_estoque.to_excel(\"bases/bases_limpas/base_estoque_limpo.xlsx\", index=False)"
   ]
  }
 ],
 "metadata": {
  "kernelspec": {
   "display_name": "venv",
   "language": "python",
   "name": "python3"
  },
  "language_info": {
   "codemirror_mode": {
    "name": "ipython",
    "version": 3
   },
   "file_extension": ".py",
   "mimetype": "text/x-python",
   "name": "python",
   "nbconvert_exporter": "python",
   "pygments_lexer": "ipython3",
   "version": "3.13.1"
  }
 },
 "nbformat": 4,
 "nbformat_minor": 5
}
