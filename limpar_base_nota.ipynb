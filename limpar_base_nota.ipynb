{
 "cells": [
  {
   "cell_type": "code",
   "execution_count": 3,
   "id": "6780afc5",
   "metadata": {},
   "outputs": [],
   "source": [
    "import pandas as pd\n",
    "import numpy as np"
   ]
  },
  {
   "cell_type": "code",
   "execution_count": 4,
   "id": "501f06d8",
   "metadata": {},
   "outputs": [
    {
     "data": {
      "text/html": [
       "<div>\n",
       "<style scoped>\n",
       "    .dataframe tbody tr th:only-of-type {\n",
       "        vertical-align: middle;\n",
       "    }\n",
       "\n",
       "    .dataframe tbody tr th {\n",
       "        vertical-align: top;\n",
       "    }\n",
       "\n",
       "    .dataframe thead th {\n",
       "        text-align: right;\n",
       "    }\n",
       "</style>\n",
       "<table border=\"1\" class=\"dataframe\">\n",
       "  <thead>\n",
       "    <tr style=\"text-align: right;\">\n",
       "      <th></th>\n",
       "      <th>Numero nota fiscal</th>\n",
       "      <th>Data da venda</th>\n",
       "      <th>Código produto</th>\n",
       "      <th>Descrição do produto</th>\n",
       "      <th>Quantidade do produto</th>\n",
       "      <th>Valor unitário</th>\n",
       "      <th>Preço venda</th>\n",
       "      <th>Preço de custo</th>\n",
       "      <th>Valor da nota</th>\n",
       "    </tr>\n",
       "  </thead>\n",
       "  <tbody>\n",
       "    <tr>\n",
       "      <th>0</th>\n",
       "      <td>566082</td>\n",
       "      <td>17/06/2025</td>\n",
       "      <td>33932</td>\n",
       "      <td>ENV 229X324 OU C/100 FILIPERSON</td>\n",
       "      <td>2.0</td>\n",
       "      <td>33.00</td>\n",
       "      <td>27.476514</td>\n",
       "      <td>24.409041</td>\n",
       "      <td>3895.94</td>\n",
       "    </tr>\n",
       "    <tr>\n",
       "      <th>1</th>\n",
       "      <td>566082</td>\n",
       "      <td>17/06/2025</td>\n",
       "      <td>29367</td>\n",
       "      <td>GUARDANAPO SNOB FS 33X30 50F SANTHER</td>\n",
       "      <td>5.0</td>\n",
       "      <td>2.90</td>\n",
       "      <td>2.499397</td>\n",
       "      <td>2.231242</td>\n",
       "      <td>3895.94</td>\n",
       "    </tr>\n",
       "    <tr>\n",
       "      <th>2</th>\n",
       "      <td>566082</td>\n",
       "      <td>17/06/2025</td>\n",
       "      <td>241</td>\n",
       "      <td>PASTA AZ OF LE TIGRADA FRAMA 356-11952</td>\n",
       "      <td>40.0</td>\n",
       "      <td>9.45</td>\n",
       "      <td>8.863195</td>\n",
       "      <td>7.605561</td>\n",
       "      <td>3895.94</td>\n",
       "    </tr>\n",
       "    <tr>\n",
       "      <th>3</th>\n",
       "      <td>566082</td>\n",
       "      <td>17/06/2025</td>\n",
       "      <td>32608</td>\n",
       "      <td>CALCULADORA MESA 12 DIG MASTERPRINT 1086</td>\n",
       "      <td>6.0</td>\n",
       "      <td>20.87</td>\n",
       "      <td>18.974913</td>\n",
       "      <td>17.051309</td>\n",
       "      <td>3895.94</td>\n",
       "    </tr>\n",
       "    <tr>\n",
       "      <th>4</th>\n",
       "      <td>566082</td>\n",
       "      <td>17/06/2025</td>\n",
       "      <td>18508</td>\n",
       "      <td>CAD BROCH UNIV STIFF AZ 96F JANDAIA</td>\n",
       "      <td>5.0</td>\n",
       "      <td>6.26</td>\n",
       "      <td>5.680850</td>\n",
       "      <td>4.830296</td>\n",
       "      <td>3895.94</td>\n",
       "    </tr>\n",
       "    <tr>\n",
       "      <th>5</th>\n",
       "      <td>566082</td>\n",
       "      <td>17/06/2025</td>\n",
       "      <td>25261</td>\n",
       "      <td>MARC QUADRO BR AZ BRW CA3001</td>\n",
       "      <td>36.0</td>\n",
       "      <td>1.60</td>\n",
       "      <td>1.334188</td>\n",
       "      <td>1.172719</td>\n",
       "      <td>3895.94</td>\n",
       "    </tr>\n",
       "    <tr>\n",
       "      <th>6</th>\n",
       "      <td>566082</td>\n",
       "      <td>17/06/2025</td>\n",
       "      <td>22711</td>\n",
       "      <td>TESOURA ACO INOX 21CM BRW TE2101</td>\n",
       "      <td>4.0</td>\n",
       "      <td>4.03</td>\n",
       "      <td>3.497738</td>\n",
       "      <td>3.112186</td>\n",
       "      <td>3895.94</td>\n",
       "    </tr>\n",
       "    <tr>\n",
       "      <th>7</th>\n",
       "      <td>566082</td>\n",
       "      <td>17/06/2025</td>\n",
       "      <td>25495</td>\n",
       "      <td>MARCA TEXTO AM C/12 MASTERPRINT MP612</td>\n",
       "      <td>2.0</td>\n",
       "      <td>11.30</td>\n",
       "      <td>9.685860</td>\n",
       "      <td>8.720000</td>\n",
       "      <td>3895.94</td>\n",
       "    </tr>\n",
       "    <tr>\n",
       "      <th>8</th>\n",
       "      <td>566082</td>\n",
       "      <td>17/06/2025</td>\n",
       "      <td>23502</td>\n",
       "      <td>COLA EVA S/TOLUENO 75G BRASCOLA</td>\n",
       "      <td>1.0</td>\n",
       "      <td>5.20</td>\n",
       "      <td>4.453584</td>\n",
       "      <td>3.943554</td>\n",
       "      <td>3895.94</td>\n",
       "    </tr>\n",
       "    <tr>\n",
       "      <th>9</th>\n",
       "      <td>566082</td>\n",
       "      <td>17/06/2025</td>\n",
       "      <td>23717</td>\n",
       "      <td>PERFURADOR 2F 35FL METAL BRW PF3000</td>\n",
       "      <td>2.0</td>\n",
       "      <td>42.00</td>\n",
       "      <td>34.956958</td>\n",
       "      <td>32.404481</td>\n",
       "      <td>3895.94</td>\n",
       "    </tr>\n",
       "  </tbody>\n",
       "</table>\n",
       "</div>"
      ],
      "text/plain": [
       "   Numero nota fiscal Data da venda  Código produto  \\\n",
       "0              566082    17/06/2025           33932   \n",
       "1              566082    17/06/2025           29367   \n",
       "2              566082    17/06/2025             241   \n",
       "3              566082    17/06/2025           32608   \n",
       "4              566082    17/06/2025           18508   \n",
       "5              566082    17/06/2025           25261   \n",
       "6              566082    17/06/2025           22711   \n",
       "7              566082    17/06/2025           25495   \n",
       "8              566082    17/06/2025           23502   \n",
       "9              566082    17/06/2025           23717   \n",
       "\n",
       "                       Descrição do produto  Quantidade do produto  \\\n",
       "0           ENV 229X324 OU C/100 FILIPERSON                    2.0   \n",
       "1     GUARDANAPO SNOB FS 33X30 50F SANTHER                     5.0   \n",
       "2    PASTA AZ OF LE TIGRADA FRAMA 356-11952                   40.0   \n",
       "3  CALCULADORA MESA 12 DIG MASTERPRINT 1086                    6.0   \n",
       "4       CAD BROCH UNIV STIFF AZ 96F JANDAIA                    5.0   \n",
       "5              MARC QUADRO BR AZ BRW CA3001                   36.0   \n",
       "6          TESOURA ACO INOX 21CM BRW TE2101                    4.0   \n",
       "7     MARCA TEXTO AM C/12 MASTERPRINT MP612                    2.0   \n",
       "8           COLA EVA S/TOLUENO 75G BRASCOLA                    1.0   \n",
       "9       PERFURADOR 2F 35FL METAL BRW PF3000                    2.0   \n",
       "\n",
       "   Valor unitário  Preço venda  Preço de custo  Valor da nota  \n",
       "0           33.00    27.476514       24.409041        3895.94  \n",
       "1            2.90     2.499397        2.231242        3895.94  \n",
       "2            9.45     8.863195        7.605561        3895.94  \n",
       "3           20.87    18.974913       17.051309        3895.94  \n",
       "4            6.26     5.680850        4.830296        3895.94  \n",
       "5            1.60     1.334188        1.172719        3895.94  \n",
       "6            4.03     3.497738        3.112186        3895.94  \n",
       "7           11.30     9.685860        8.720000        3895.94  \n",
       "8            5.20     4.453584        3.943554        3895.94  \n",
       "9           42.00    34.956958       32.404481        3895.94  "
      ]
     },
     "execution_count": 4,
     "metadata": {},
     "output_type": "execute_result"
    }
   ],
   "source": [
    "caminho_base_nota = \"bases/relatorio_notas.xlsx\"\n",
    "df_notas = pd.read_excel(caminho_base_nota)\n",
    "df_notas.head(10)"
   ]
  },
  {
   "cell_type": "code",
   "execution_count": 5,
   "id": "a4cd1b63",
   "metadata": {},
   "outputs": [
    {
     "data": {
      "text/plain": [
       "(336739, 9)"
      ]
     },
     "execution_count": 5,
     "metadata": {},
     "output_type": "execute_result"
    }
   ],
   "source": [
    "df_notas.shape"
   ]
  },
  {
   "cell_type": "code",
   "execution_count": 6,
   "id": "b364f445",
   "metadata": {},
   "outputs": [
    {
     "name": "stdout",
     "output_type": "stream",
     "text": [
      "<class 'pandas.core.frame.DataFrame'>\n",
      "RangeIndex: 336739 entries, 0 to 336738\n",
      "Data columns (total 9 columns):\n",
      " #   Column                 Non-Null Count   Dtype  \n",
      "---  ------                 --------------   -----  \n",
      " 0   Numero nota fiscal     336739 non-null  int64  \n",
      " 1   Data da venda          336739 non-null  object \n",
      " 2   Código produto         336739 non-null  int64  \n",
      " 3   Descrição do produto   336739 non-null  object \n",
      " 4   Quantidade do produto  336739 non-null  float64\n",
      " 5   Valor unitário         336739 non-null  float64\n",
      " 6   Preço venda            336739 non-null  float64\n",
      " 7   Preço de custo         334515 non-null  float64\n",
      " 8   Valor da nota          333994 non-null  float64\n",
      "dtypes: float64(5), int64(2), object(2)\n",
      "memory usage: 23.1+ MB\n"
     ]
    }
   ],
   "source": [
    "df_notas.info()"
   ]
  },
  {
   "cell_type": "code",
   "execution_count": 7,
   "id": "702049e1",
   "metadata": {},
   "outputs": [
    {
     "data": {
      "text/html": [
       "<div>\n",
       "<style scoped>\n",
       "    .dataframe tbody tr th:only-of-type {\n",
       "        vertical-align: middle;\n",
       "    }\n",
       "\n",
       "    .dataframe tbody tr th {\n",
       "        vertical-align: top;\n",
       "    }\n",
       "\n",
       "    .dataframe thead th {\n",
       "        text-align: right;\n",
       "    }\n",
       "</style>\n",
       "<table border=\"1\" class=\"dataframe\">\n",
       "  <thead>\n",
       "    <tr style=\"text-align: right;\">\n",
       "      <th></th>\n",
       "      <th>Numero nota fiscal</th>\n",
       "      <th>Código produto</th>\n",
       "      <th>Quantidade do produto</th>\n",
       "      <th>Valor unitário</th>\n",
       "      <th>Preço venda</th>\n",
       "      <th>Preço de custo</th>\n",
       "      <th>Valor da nota</th>\n",
       "    </tr>\n",
       "  </thead>\n",
       "  <tbody>\n",
       "    <tr>\n",
       "      <th>count</th>\n",
       "      <td>336739.000000</td>\n",
       "      <td>336739.000000</td>\n",
       "      <td>336739.000000</td>\n",
       "      <td>336739.000000</td>\n",
       "      <td>336739.000000</td>\n",
       "      <td>334515.000000</td>\n",
       "      <td>333994.000000</td>\n",
       "    </tr>\n",
       "    <tr>\n",
       "      <th>mean</th>\n",
       "      <td>480532.632603</td>\n",
       "      <td>22071.594784</td>\n",
       "      <td>15.671684</td>\n",
       "      <td>15.853359</td>\n",
       "      <td>13.092898</td>\n",
       "      <td>11.769463</td>\n",
       "      <td>2087.380438</td>\n",
       "    </tr>\n",
       "    <tr>\n",
       "      <th>std</th>\n",
       "      <td>180938.617261</td>\n",
       "      <td>11782.581172</td>\n",
       "      <td>85.143989</td>\n",
       "      <td>28.686929</td>\n",
       "      <td>23.675404</td>\n",
       "      <td>21.230737</td>\n",
       "      <td>3667.545385</td>\n",
       "    </tr>\n",
       "    <tr>\n",
       "      <th>min</th>\n",
       "      <td>401.000000</td>\n",
       "      <td>5.000000</td>\n",
       "      <td>-3125.000000</td>\n",
       "      <td>0.000000</td>\n",
       "      <td>0.000000</td>\n",
       "      <td>0.000000</td>\n",
       "      <td>0.000000</td>\n",
       "    </tr>\n",
       "    <tr>\n",
       "      <th>25%</th>\n",
       "      <td>544228.000000</td>\n",
       "      <td>11430.000000</td>\n",
       "      <td>2.000000</td>\n",
       "      <td>3.970000</td>\n",
       "      <td>3.187960</td>\n",
       "      <td>2.833333</td>\n",
       "      <td>502.070000</td>\n",
       "    </tr>\n",
       "    <tr>\n",
       "      <th>50%</th>\n",
       "      <td>551127.000000</td>\n",
       "      <td>24781.000000</td>\n",
       "      <td>5.000000</td>\n",
       "      <td>8.190000</td>\n",
       "      <td>6.671038</td>\n",
       "      <td>6.007989</td>\n",
       "      <td>1076.750000</td>\n",
       "    </tr>\n",
       "    <tr>\n",
       "      <th>75%</th>\n",
       "      <td>558739.000000</td>\n",
       "      <td>32304.000000</td>\n",
       "      <td>12.000000</td>\n",
       "      <td>18.820000</td>\n",
       "      <td>15.223790</td>\n",
       "      <td>13.530400</td>\n",
       "      <td>2341.640000</td>\n",
       "    </tr>\n",
       "    <tr>\n",
       "      <th>max</th>\n",
       "      <td>566082.000000</td>\n",
       "      <td>38229.000000</td>\n",
       "      <td>9764.000000</td>\n",
       "      <td>1169.000000</td>\n",
       "      <td>974.762703</td>\n",
       "      <td>880.340302</td>\n",
       "      <td>178016.720000</td>\n",
       "    </tr>\n",
       "  </tbody>\n",
       "</table>\n",
       "</div>"
      ],
      "text/plain": [
       "       Numero nota fiscal  Código produto  Quantidade do produto  \\\n",
       "count       336739.000000   336739.000000          336739.000000   \n",
       "mean        480532.632603    22071.594784              15.671684   \n",
       "std         180938.617261    11782.581172              85.143989   \n",
       "min            401.000000        5.000000           -3125.000000   \n",
       "25%         544228.000000    11430.000000               2.000000   \n",
       "50%         551127.000000    24781.000000               5.000000   \n",
       "75%         558739.000000    32304.000000              12.000000   \n",
       "max         566082.000000    38229.000000            9764.000000   \n",
       "\n",
       "       Valor unitário    Preço venda  Preço de custo  Valor da nota  \n",
       "count   336739.000000  336739.000000   334515.000000  333994.000000  \n",
       "mean        15.853359      13.092898       11.769463    2087.380438  \n",
       "std         28.686929      23.675404       21.230737    3667.545385  \n",
       "min          0.000000       0.000000        0.000000       0.000000  \n",
       "25%          3.970000       3.187960        2.833333     502.070000  \n",
       "50%          8.190000       6.671038        6.007989    1076.750000  \n",
       "75%         18.820000      15.223790       13.530400    2341.640000  \n",
       "max       1169.000000     974.762703      880.340302  178016.720000  "
      ]
     },
     "execution_count": 7,
     "metadata": {},
     "output_type": "execute_result"
    }
   ],
   "source": [
    "df_notas.describe()"
   ]
  },
  {
   "cell_type": "code",
   "execution_count": 8,
   "id": "941051ba",
   "metadata": {},
   "outputs": [
    {
     "data": {
      "text/plain": [
       "['Numero nota fiscal',\n",
       " 'Data da venda',\n",
       " 'Código produto',\n",
       " 'Descrição do produto',\n",
       " 'Quantidade do produto',\n",
       " 'Valor unitário',\n",
       " 'Preço venda',\n",
       " 'Preço de custo',\n",
       " 'Valor da nota']"
      ]
     },
     "execution_count": 8,
     "metadata": {},
     "output_type": "execute_result"
    }
   ],
   "source": [
    "df_notas.columns.tolist()"
   ]
  },
  {
   "cell_type": "code",
   "execution_count": 9,
   "id": "ae26d620",
   "metadata": {},
   "outputs": [
    {
     "data": {
      "text/plain": [
       "Numero nota fiscal          0\n",
       "Data da venda               0\n",
       "Código produto              0\n",
       "Descrição do produto        0\n",
       "Quantidade do produto       0\n",
       "Valor unitário              0\n",
       "Preço venda                 0\n",
       "Preço de custo           2224\n",
       "Valor da nota            2745\n",
       "dtype: int64"
      ]
     },
     "execution_count": 9,
     "metadata": {},
     "output_type": "execute_result"
    }
   ],
   "source": [
    "df_notas.isnull().sum()"
   ]
  },
  {
   "cell_type": "code",
   "execution_count": 10,
   "id": "92887cf8",
   "metadata": {},
   "outputs": [
    {
     "name": "stdout",
     "output_type": "stream",
     "text": [
      "\n",
      "Numero nota fiscal tem : 0 registros zerados\n",
      "\n",
      "Código produto tem : 0 registros zerados\n",
      "\n",
      "Quantidade do produto tem : 1749 registros zerados\n",
      "\n",
      "Valor unitário tem : 2017 registros zerados\n",
      "\n",
      "Preço venda tem : 1916 registros zerados\n",
      "\n",
      "Preço de custo tem : 1 registros zerados\n",
      "\n",
      "Valor da nota tem : 1108 registros zerados\n"
     ]
    }
   ],
   "source": [
    "colunas_num = df_notas.select_dtypes(include='number')\n",
    "for coluna in colunas_num.columns.tolist():\n",
    "    qtd = df_notas[coluna] == 0\n",
    "    print(f\"\\n{coluna} tem : {qtd.sum()} registros zerados\")"
   ]
  },
  {
   "cell_type": "code",
   "execution_count": 11,
   "id": "b843217c",
   "metadata": {},
   "outputs": [
    {
     "name": "stdout",
     "output_type": "stream",
     "text": [
      "Valores zerados em 'Quantidade do produto': 1749 de 336739 registros\n",
      "Representa 0.52% da base total\n"
     ]
    }
   ],
   "source": [
    "total_registros = len(df_notas)  \n",
    "zeros_qtd = (df_notas[\"Quantidade do produto\"] == 0).sum()\n",
    "\n",
    "porcentagem_zeros = (zeros_qtd / total_registros) * 100\n",
    "\n",
    "print(f\"Valores zerados em 'Quantidade do produto': {zeros_qtd} de {total_registros} registros\")\n",
    "print(f\"Representa {porcentagem_zeros:.2f}% da base total\")"
   ]
  },
  {
   "cell_type": "code",
   "execution_count": 12,
   "id": "f701721e",
   "metadata": {},
   "outputs": [
    {
     "name": "stdout",
     "output_type": "stream",
     "text": [
      "Valores zerados em 'Quantidade do produto': 2017 de 336739 registros\n",
      "Representa 0.60% da base total\n"
     ]
    }
   ],
   "source": [
    "total_registros = len(df_notas)  \n",
    "zeros_qtd = (df_notas[\"Valor unitário\"] == 0).sum()\n",
    "\n",
    "porcentagem_zeros = (zeros_qtd / total_registros) * 100\n",
    "\n",
    "print(f\"Valores zerados em 'Quantidade do produto': {zeros_qtd} de {total_registros} registros\")\n",
    "print(f\"Representa {porcentagem_zeros:.2f}% da base total\")"
   ]
  },
  {
   "cell_type": "code",
   "execution_count": 13,
   "id": "80ff4ff5",
   "metadata": {},
   "outputs": [
    {
     "name": "stdout",
     "output_type": "stream",
     "text": [
      "Registros com Qtd e Valor zerados: 1749\n"
     ]
    }
   ],
   "source": [
    "# Verificar registros onde AMBAS colunas são zero\n",
    "zeros_combinados = df_notas[(df_notas['Quantidade do produto'] == 0) & \n",
    "                     (df_notas['Valor unitário'] == 0)]\n",
    "print(f\"Registros com Qtd e Valor zerados: {len(zeros_combinados)}\")\n",
    "\n",
    "# Verificar registros onde APENAS UMA é zero\n",
    "apenas_qtd_zero = df_notas[(df_notas['Quantidade do produto'] == 0) & \n",
    "                           (df_notas['Valor unitário'] > 0)]\n",
    "apenas_valor_zero = df_notas[(df_notas['Quantidade do produto'] > 0) & \n",
    "                             (df_notas['Valor unitário'] == 0)]"
   ]
  },
  {
   "cell_type": "code",
   "execution_count": 14,
   "id": "ef3837c6",
   "metadata": {},
   "outputs": [
    {
     "name": "stdout",
     "output_type": "stream",
     "text": [
      "Total de notas fiscais impactadas: 40\n"
     ]
    }
   ],
   "source": [
    "# Filtrar registros com ambas as colunas zeradas\n",
    "registros_zerados = df_notas[\n",
    "    (df_notas['Quantidade do produto'] <= 0) & \n",
    "    (df_notas['Valor unitário'] <= 0)\n",
    "]\n",
    "\n",
    "# Contar notas fiscais únicas impactadas\n",
    "notas_impactadas = registros_zerados['Numero nota fiscal'].nunique()\n",
    "\n",
    "print(f\"Total de notas fiscais impactadas: {notas_impactadas}\")"
   ]
  },
  {
   "cell_type": "code",
   "execution_count": 15,
   "id": "84d6b014",
   "metadata": {},
   "outputs": [
    {
     "data": {
      "text/plain": [
       "0.01187863597623085"
      ]
     },
     "execution_count": 15,
     "metadata": {},
     "output_type": "execute_result"
    }
   ],
   "source": [
    "proct = (notas_impactadas * 100 ) / len(df_notas)\n",
    "proct"
   ]
  },
  {
   "cell_type": "code",
   "execution_count": 16,
   "id": "23b872df",
   "metadata": {},
   "outputs": [
    {
     "name": "stdout",
     "output_type": "stream",
     "text": [
      "   Numero nota fiscal  Registros zerados\n",
      "0              558995                256\n",
      "1              551026                201\n",
      "2              541710                162\n",
      "3              557892                162\n",
      "4              546779                141\n",
      "5              546881                102\n",
      "6              541695                 92\n",
      "7              550974                 81\n",
      "8              557758                 59\n",
      "9              563922                 57\n"
     ]
    }
   ],
   "source": [
    "notas_zeradas = registros_zerados['Numero nota fiscal'].value_counts().reset_index()\n",
    "notas_zeradas.columns = ['Numero nota fiscal', 'Registros zerados']\n",
    "print(notas_zeradas.head(10))"
   ]
  },
  {
   "cell_type": "code",
   "execution_count": 17,
   "id": "1ea09f98",
   "metadata": {},
   "outputs": [
    {
     "name": "stdout",
     "output_type": "stream",
     "text": [
      "Notas com 100% itens zerados: 40\n"
     ]
    }
   ],
   "source": [
    "# Notas onde TODOS os itens estão zerados\n",
    "notas_totalmente_zeradas = df_notas.groupby('Numero nota fiscal').filter(\n",
    "    lambda x: (x['Quantidade do produto'] == 0).all() & \n",
    "    (x['Valor unitário'] == 0).all()\n",
    ")\n",
    "print(f\"Notas com 100% itens zerados: {notas_totalmente_zeradas['Numero nota fiscal'].nunique()}\")"
   ]
  },
  {
   "cell_type": "code",
   "execution_count": 18,
   "id": "4978312a",
   "metadata": {},
   "outputs": [
    {
     "data": {
      "text/plain": [
       "30521"
      ]
     },
     "execution_count": 18,
     "metadata": {},
     "output_type": "execute_result"
    }
   ],
   "source": [
    "df_notas[\"Numero nota fiscal\"].nunique()"
   ]
  },
  {
   "cell_type": "code",
   "execution_count": 19,
   "id": "75e28cad",
   "metadata": {},
   "outputs": [
    {
     "name": "stdout",
     "output_type": "stream",
     "text": [
      "Notas a serem excluídas: 150\n"
     ]
    }
   ],
   "source": [
    "# Lista de notas com pelo menos 1 item inválido  \n",
    "notas_com_problemas = df_notas[  \n",
    "    (df_notas['Quantidade do produto'] <= 0) |  \n",
    "    (df_notas['Valor unitário'] <= 0)  \n",
    "]['Numero nota fiscal'].unique()  \n",
    "\n",
    "print(f\"Notas a serem excluídas: {len(notas_com_problemas)}\")  "
   ]
  },
  {
   "cell_type": "code",
   "execution_count": 20,
   "id": "0351a66e",
   "metadata": {},
   "outputs": [],
   "source": [
    "df_limpo_ml = df_notas[~df_notas['Numero nota fiscal'].isin(notas_com_problemas)]  "
   ]
  },
  {
   "cell_type": "code",
   "execution_count": 21,
   "id": "2ccf0eaa",
   "metadata": {},
   "outputs": [
    {
     "name": "stdout",
     "output_type": "stream",
     "text": [
      "Notas inválidas remanescentes: 0 (deve ser 0)\n"
     ]
    }
   ],
   "source": [
    "notas_invalidas_restantes = df_limpo_ml[  \n",
    "    (df_limpo_ml['Quantidade do produto'] <= 0) |  \n",
    "    (df_limpo_ml['Valor unitário'] <= 0)  \n",
    "]['Numero nota fiscal'].nunique()  \n",
    "\n",
    "print(f\"Notas inválidas remanescentes: {notas_invalidas_restantes} (deve ser 0)\")  "
   ]
  },
  {
   "cell_type": "code",
   "execution_count": 22,
   "id": "2f39eee9",
   "metadata": {},
   "outputs": [
    {
     "data": {
      "text/plain": [
       "30521"
      ]
     },
     "execution_count": 22,
     "metadata": {},
     "output_type": "execute_result"
    }
   ],
   "source": [
    "df_notas[\"Numero nota fiscal\"].nunique()"
   ]
  },
  {
   "cell_type": "code",
   "execution_count": 23,
   "id": "19d227b8",
   "metadata": {},
   "outputs": [
    {
     "data": {
      "text/plain": [
       "30371"
      ]
     },
     "execution_count": 23,
     "metadata": {},
     "output_type": "execute_result"
    }
   ],
   "source": [
    "df_limpo_ml[\"Numero nota fiscal\"].nunique()"
   ]
  },
  {
   "cell_type": "code",
   "execution_count": 24,
   "id": "313763c1",
   "metadata": {},
   "outputs": [
    {
     "name": "stdout",
     "output_type": "stream",
     "text": [
      "\n",
      "Numero nota fiscal tem : 0 registros zerados\n",
      "\n",
      "Código produto tem : 0 registros zerados\n",
      "\n",
      "Quantidade do produto tem : 0 registros zerados\n",
      "\n",
      "Valor unitário tem : 0 registros zerados\n",
      "\n",
      "Preço venda tem : 163 registros zerados\n",
      "\n",
      "Preço de custo tem : 1 registros zerados\n",
      "\n",
      "Valor da nota tem : 142 registros zerados\n"
     ]
    }
   ],
   "source": [
    "colunas_nume = df_limpo_ml.select_dtypes(include='number')\n",
    "for coluna in colunas_nume.columns.tolist():\n",
    "    qtd = df_limpo_ml[coluna] == 0\n",
    "    print(f\"\\n{coluna} tem : {qtd.sum()} registros zerados\")"
   ]
  },
  {
   "cell_type": "code",
   "execution_count": 25,
   "id": "8566728b",
   "metadata": {},
   "outputs": [
    {
     "name": "stderr",
     "output_type": "stream",
     "text": [
      "C:\\Users\\Paulo Neto\\AppData\\Local\\Temp\\ipykernel_10900\\2668893392.py:1: SettingWithCopyWarning: \n",
      "A value is trying to be set on a copy of a slice from a DataFrame.\n",
      "Try using .loc[row_indexer,col_indexer] = value instead\n",
      "\n",
      "See the caveats in the documentation: https://pandas.pydata.org/pandas-docs/stable/user_guide/indexing.html#returning-a-view-versus-a-copy\n",
      "  df_limpo_ml[\"Total produto nota\"] = df_limpo_ml[\"Quantidade do produto\"] * df_limpo_ml[\"Valor unitário\"]\n"
     ]
    }
   ],
   "source": [
    "df_limpo_ml[\"Total produto nota\"] = df_limpo_ml[\"Quantidade do produto\"] * df_limpo_ml[\"Valor unitário\"]"
   ]
  },
  {
   "cell_type": "code",
   "execution_count": 26,
   "id": "9f99abf9",
   "metadata": {},
   "outputs": [
    {
     "name": "stderr",
     "output_type": "stream",
     "text": [
      "C:\\Users\\Paulo Neto\\AppData\\Local\\Temp\\ipykernel_10900\\3310216314.py:5: SettingWithCopyWarning: \n",
      "A value is trying to be set on a copy of a slice from a DataFrame.\n",
      "Try using .loc[row_indexer,col_indexer] = value instead\n",
      "\n",
      "See the caveats in the documentation: https://pandas.pydata.org/pandas-docs/stable/user_guide/indexing.html#returning-a-view-versus-a-copy\n",
      "  df_limpo_ml['Valor da nota'] = df_limpo_ml['Numero nota fiscal'].map(soma_por_nota)\n"
     ]
    },
    {
     "data": {
      "text/html": [
       "<div>\n",
       "<style scoped>\n",
       "    .dataframe tbody tr th:only-of-type {\n",
       "        vertical-align: middle;\n",
       "    }\n",
       "\n",
       "    .dataframe tbody tr th {\n",
       "        vertical-align: top;\n",
       "    }\n",
       "\n",
       "    .dataframe thead th {\n",
       "        text-align: right;\n",
       "    }\n",
       "</style>\n",
       "<table border=\"1\" class=\"dataframe\">\n",
       "  <thead>\n",
       "    <tr style=\"text-align: right;\">\n",
       "      <th></th>\n",
       "      <th>Numero nota fiscal</th>\n",
       "      <th>Data da venda</th>\n",
       "      <th>Código produto</th>\n",
       "      <th>Descrição do produto</th>\n",
       "      <th>Quantidade do produto</th>\n",
       "      <th>Valor unitário</th>\n",
       "      <th>Preço venda</th>\n",
       "      <th>Preço de custo</th>\n",
       "      <th>Valor da nota</th>\n",
       "      <th>Total produto nota</th>\n",
       "    </tr>\n",
       "  </thead>\n",
       "  <tbody>\n",
       "    <tr>\n",
       "      <th>0</th>\n",
       "      <td>566082</td>\n",
       "      <td>17/06/2025</td>\n",
       "      <td>33932</td>\n",
       "      <td>ENV 229X324 OU C/100 FILIPERSON</td>\n",
       "      <td>2.0</td>\n",
       "      <td>33.00</td>\n",
       "      <td>27.476514</td>\n",
       "      <td>24.409041</td>\n",
       "      <td>4217.74</td>\n",
       "      <td>66.0</td>\n",
       "    </tr>\n",
       "    <tr>\n",
       "      <th>1</th>\n",
       "      <td>566082</td>\n",
       "      <td>17/06/2025</td>\n",
       "      <td>29367</td>\n",
       "      <td>GUARDANAPO SNOB FS 33X30 50F SANTHER</td>\n",
       "      <td>5.0</td>\n",
       "      <td>2.90</td>\n",
       "      <td>2.499397</td>\n",
       "      <td>2.231242</td>\n",
       "      <td>4217.74</td>\n",
       "      <td>14.5</td>\n",
       "    </tr>\n",
       "    <tr>\n",
       "      <th>2</th>\n",
       "      <td>566082</td>\n",
       "      <td>17/06/2025</td>\n",
       "      <td>241</td>\n",
       "      <td>PASTA AZ OF LE TIGRADA FRAMA 356-11952</td>\n",
       "      <td>40.0</td>\n",
       "      <td>9.45</td>\n",
       "      <td>8.863195</td>\n",
       "      <td>7.605561</td>\n",
       "      <td>4217.74</td>\n",
       "      <td>378.0</td>\n",
       "    </tr>\n",
       "  </tbody>\n",
       "</table>\n",
       "</div>"
      ],
      "text/plain": [
       "   Numero nota fiscal Data da venda  Código produto  \\\n",
       "0              566082    17/06/2025           33932   \n",
       "1              566082    17/06/2025           29367   \n",
       "2              566082    17/06/2025             241   \n",
       "\n",
       "                     Descrição do produto  Quantidade do produto  \\\n",
       "0         ENV 229X324 OU C/100 FILIPERSON                    2.0   \n",
       "1   GUARDANAPO SNOB FS 33X30 50F SANTHER                     5.0   \n",
       "2  PASTA AZ OF LE TIGRADA FRAMA 356-11952                   40.0   \n",
       "\n",
       "   Valor unitário  Preço venda  Preço de custo  Valor da nota  \\\n",
       "0           33.00    27.476514       24.409041        4217.74   \n",
       "1            2.90     2.499397        2.231242        4217.74   \n",
       "2            9.45     8.863195        7.605561        4217.74   \n",
       "\n",
       "   Total produto nota  \n",
       "0                66.0  \n",
       "1                14.5  \n",
       "2               378.0  "
      ]
     },
     "execution_count": 26,
     "metadata": {},
     "output_type": "execute_result"
    }
   ],
   "source": [
    "# Passo 1: Calcular a soma de \"Total produto nota\" por nota fiscal\n",
    "soma_por_nota = df_limpo_ml.groupby('Numero nota fiscal')['Total produto nota'].sum()\n",
    "\n",
    "# Passo 2: Mapear os valores somados de volta ao DataFrame original\n",
    "df_limpo_ml['Valor da nota'] = df_limpo_ml['Numero nota fiscal'].map(soma_por_nota)\n",
    "\n",
    "# Verificação (opcional)\n",
    "df_limpo_ml.head(3)"
   ]
  },
  {
   "cell_type": "code",
   "execution_count": 27,
   "id": "471e4c8c",
   "metadata": {},
   "outputs": [],
   "source": [
    "df_limpo_notas = df_limpo_ml[[\"Numero nota fiscal\", \"Data da venda\", \"Código produto\", \"Descrição do produto\", \"Preço de custo\", \"Quantidade do produto\", \"Valor unitário\", \"Total produto nota\", \"Valor da nota\"]]"
   ]
  },
  {
   "cell_type": "code",
   "execution_count": 28,
   "id": "33a86a95",
   "metadata": {},
   "outputs": [
    {
     "data": {
      "text/html": [
       "<div>\n",
       "<style scoped>\n",
       "    .dataframe tbody tr th:only-of-type {\n",
       "        vertical-align: middle;\n",
       "    }\n",
       "\n",
       "    .dataframe tbody tr th {\n",
       "        vertical-align: top;\n",
       "    }\n",
       "\n",
       "    .dataframe thead th {\n",
       "        text-align: right;\n",
       "    }\n",
       "</style>\n",
       "<table border=\"1\" class=\"dataframe\">\n",
       "  <thead>\n",
       "    <tr style=\"text-align: right;\">\n",
       "      <th></th>\n",
       "      <th>Numero nota fiscal</th>\n",
       "      <th>Data da venda</th>\n",
       "      <th>Código produto</th>\n",
       "      <th>Descrição do produto</th>\n",
       "      <th>Preço de custo</th>\n",
       "      <th>Quantidade do produto</th>\n",
       "      <th>Valor unitário</th>\n",
       "      <th>Total produto nota</th>\n",
       "      <th>Valor da nota</th>\n",
       "    </tr>\n",
       "  </thead>\n",
       "  <tbody>\n",
       "    <tr>\n",
       "      <th>0</th>\n",
       "      <td>566082</td>\n",
       "      <td>17/06/2025</td>\n",
       "      <td>33932</td>\n",
       "      <td>ENV 229X324 OU C/100 FILIPERSON</td>\n",
       "      <td>24.409041</td>\n",
       "      <td>2.0</td>\n",
       "      <td>33.000000</td>\n",
       "      <td>66.000000</td>\n",
       "      <td>4217.740000</td>\n",
       "    </tr>\n",
       "    <tr>\n",
       "      <th>1</th>\n",
       "      <td>566082</td>\n",
       "      <td>17/06/2025</td>\n",
       "      <td>29367</td>\n",
       "      <td>GUARDANAPO SNOB FS 33X30 50F SANTHER</td>\n",
       "      <td>2.231242</td>\n",
       "      <td>5.0</td>\n",
       "      <td>2.900000</td>\n",
       "      <td>14.500000</td>\n",
       "      <td>4217.740000</td>\n",
       "    </tr>\n",
       "    <tr>\n",
       "      <th>2</th>\n",
       "      <td>566082</td>\n",
       "      <td>17/06/2025</td>\n",
       "      <td>241</td>\n",
       "      <td>PASTA AZ OF LE TIGRADA FRAMA 356-11952</td>\n",
       "      <td>7.605561</td>\n",
       "      <td>40.0</td>\n",
       "      <td>9.450000</td>\n",
       "      <td>378.000000</td>\n",
       "      <td>4217.740000</td>\n",
       "    </tr>\n",
       "    <tr>\n",
       "      <th>3</th>\n",
       "      <td>566082</td>\n",
       "      <td>17/06/2025</td>\n",
       "      <td>32608</td>\n",
       "      <td>CALCULADORA MESA 12 DIG MASTERPRINT 1086</td>\n",
       "      <td>17.051309</td>\n",
       "      <td>6.0</td>\n",
       "      <td>20.870000</td>\n",
       "      <td>125.220000</td>\n",
       "      <td>4217.740000</td>\n",
       "    </tr>\n",
       "    <tr>\n",
       "      <th>4</th>\n",
       "      <td>566082</td>\n",
       "      <td>17/06/2025</td>\n",
       "      <td>18508</td>\n",
       "      <td>CAD BROCH UNIV STIFF AZ 96F JANDAIA</td>\n",
       "      <td>4.830296</td>\n",
       "      <td>5.0</td>\n",
       "      <td>6.260000</td>\n",
       "      <td>31.300000</td>\n",
       "      <td>4217.740000</td>\n",
       "    </tr>\n",
       "    <tr>\n",
       "      <th>...</th>\n",
       "      <td>...</td>\n",
       "      <td>...</td>\n",
       "      <td>...</td>\n",
       "      <td>...</td>\n",
       "      <td>...</td>\n",
       "      <td>...</td>\n",
       "      <td>...</td>\n",
       "      <td>...</td>\n",
       "      <td>...</td>\n",
       "    </tr>\n",
       "    <tr>\n",
       "      <th>336734</th>\n",
       "      <td>403</td>\n",
       "      <td>03/01/2025</td>\n",
       "      <td>31327</td>\n",
       "      <td>CAIXA TERMICA PT 34L MOR</td>\n",
       "      <td>71.595537</td>\n",
       "      <td>20.0</td>\n",
       "      <td>71.595537</td>\n",
       "      <td>1431.910740</td>\n",
       "      <td>7662.182202</td>\n",
       "    </tr>\n",
       "    <tr>\n",
       "      <th>336735</th>\n",
       "      <td>403</td>\n",
       "      <td>03/01/2025</td>\n",
       "      <td>31329</td>\n",
       "      <td>CAIXA TERMICA VM 18L MOR</td>\n",
       "      <td>44.910000</td>\n",
       "      <td>52.0</td>\n",
       "      <td>44.910000</td>\n",
       "      <td>2335.320000</td>\n",
       "      <td>7662.182202</td>\n",
       "    </tr>\n",
       "    <tr>\n",
       "      <th>336736</th>\n",
       "      <td>403</td>\n",
       "      <td>03/01/2025</td>\n",
       "      <td>9552</td>\n",
       "      <td>CX ISOPOR 33L ISOPLAST</td>\n",
       "      <td>25.542042</td>\n",
       "      <td>6.0</td>\n",
       "      <td>25.542042</td>\n",
       "      <td>153.252252</td>\n",
       "      <td>7662.182202</td>\n",
       "    </tr>\n",
       "    <tr>\n",
       "      <th>336737</th>\n",
       "      <td>402</td>\n",
       "      <td>03/01/2025</td>\n",
       "      <td>6792</td>\n",
       "      <td>CX ISOPOR 3L ISOPLAST</td>\n",
       "      <td>2.780000</td>\n",
       "      <td>24.0</td>\n",
       "      <td>2.780000</td>\n",
       "      <td>66.720000</td>\n",
       "      <td>66.720000</td>\n",
       "    </tr>\n",
       "    <tr>\n",
       "      <th>336738</th>\n",
       "      <td>401</td>\n",
       "      <td>02/01/2025</td>\n",
       "      <td>9554</td>\n",
       "      <td>CX ISOPOR 45L ISOPLAST</td>\n",
       "      <td>34.540934</td>\n",
       "      <td>20.0</td>\n",
       "      <td>34.540934</td>\n",
       "      <td>690.818680</td>\n",
       "      <td>690.818680</td>\n",
       "    </tr>\n",
       "  </tbody>\n",
       "</table>\n",
       "<p>333804 rows × 9 columns</p>\n",
       "</div>"
      ],
      "text/plain": [
       "        Numero nota fiscal Data da venda  Código produto  \\\n",
       "0                   566082    17/06/2025           33932   \n",
       "1                   566082    17/06/2025           29367   \n",
       "2                   566082    17/06/2025             241   \n",
       "3                   566082    17/06/2025           32608   \n",
       "4                   566082    17/06/2025           18508   \n",
       "...                    ...           ...             ...   \n",
       "336734                 403    03/01/2025           31327   \n",
       "336735                 403    03/01/2025           31329   \n",
       "336736                 403    03/01/2025            9552   \n",
       "336737                 402    03/01/2025            6792   \n",
       "336738                 401    02/01/2025            9554   \n",
       "\n",
       "                            Descrição do produto  Preço de custo  \\\n",
       "0                ENV 229X324 OU C/100 FILIPERSON       24.409041   \n",
       "1          GUARDANAPO SNOB FS 33X30 50F SANTHER         2.231242   \n",
       "2         PASTA AZ OF LE TIGRADA FRAMA 356-11952        7.605561   \n",
       "3       CALCULADORA MESA 12 DIG MASTERPRINT 1086       17.051309   \n",
       "4            CAD BROCH UNIV STIFF AZ 96F JANDAIA        4.830296   \n",
       "...                                          ...             ...   \n",
       "336734                  CAIXA TERMICA PT 34L MOR       71.595537   \n",
       "336735                  CAIXA TERMICA VM 18L MOR       44.910000   \n",
       "336736                    CX ISOPOR 33L ISOPLAST       25.542042   \n",
       "336737                     CX ISOPOR 3L ISOPLAST        2.780000   \n",
       "336738                    CX ISOPOR 45L ISOPLAST       34.540934   \n",
       "\n",
       "        Quantidade do produto  Valor unitário  Total produto nota  \\\n",
       "0                         2.0       33.000000           66.000000   \n",
       "1                         5.0        2.900000           14.500000   \n",
       "2                        40.0        9.450000          378.000000   \n",
       "3                         6.0       20.870000          125.220000   \n",
       "4                         5.0        6.260000           31.300000   \n",
       "...                       ...             ...                 ...   \n",
       "336734                   20.0       71.595537         1431.910740   \n",
       "336735                   52.0       44.910000         2335.320000   \n",
       "336736                    6.0       25.542042          153.252252   \n",
       "336737                   24.0        2.780000           66.720000   \n",
       "336738                   20.0       34.540934          690.818680   \n",
       "\n",
       "        Valor da nota  \n",
       "0         4217.740000  \n",
       "1         4217.740000  \n",
       "2         4217.740000  \n",
       "3         4217.740000  \n",
       "4         4217.740000  \n",
       "...               ...  \n",
       "336734    7662.182202  \n",
       "336735    7662.182202  \n",
       "336736    7662.182202  \n",
       "336737      66.720000  \n",
       "336738     690.818680  \n",
       "\n",
       "[333804 rows x 9 columns]"
      ]
     },
     "execution_count": 28,
     "metadata": {},
     "output_type": "execute_result"
    }
   ],
   "source": [
    "df_limpo_notas"
   ]
  },
  {
   "cell_type": "code",
   "execution_count": 29,
   "id": "ae2c453e",
   "metadata": {},
   "outputs": [
    {
     "name": "stdout",
     "output_type": "stream",
     "text": [
      "Valores nulos ou zerados:\n"
     ]
    },
    {
     "data": {
      "text/plain": [
       "Quantidade do produto    0\n",
       "Valor unitário           0\n",
       "Total produto nota       0\n",
       "Valor da nota            0\n",
       "dtype: int64"
      ]
     },
     "metadata": {},
     "output_type": "display_data"
    }
   ],
   "source": [
    "# Verifique colunas numéricas críticas\n",
    "colunas_chave = ['Quantidade do produto', 'Valor unitário', 'Total produto nota', 'Valor da nota']\n",
    "print(\"Valores nulos ou zerados:\")\n",
    "display(df_limpo_ml[colunas_chave].isin([0, np.nan]).sum())\n",
    "\n",
    "# Saída esperada: Todos zeros (nenhum valor problemático)"
   ]
  },
  {
   "cell_type": "code",
   "execution_count": 30,
   "id": "0a6f0e5f",
   "metadata": {},
   "outputs": [
    {
     "name": "stdout",
     "output_type": "stream",
     "text": [
      "\n",
      "Notas fiscais com valores inconsistentes: 0\n"
     ]
    },
    {
     "name": "stderr",
     "output_type": "stream",
     "text": [
      "C:\\Users\\Paulo Neto\\AppData\\Local\\Temp\\ipykernel_10900\\2296820689.py:2: FutureWarning: DataFrameGroupBy.apply operated on the grouping columns. This behavior is deprecated, and in a future version of pandas the grouping columns will be excluded from the operation. Either pass `include_groups=False` to exclude the groupings or explicitly select the grouping columns after groupby to silence this warning.\n",
      "  inconsistencias = df_limpo_ml.groupby('Numero nota fiscal').apply(\n"
     ]
    }
   ],
   "source": [
    "# Verifique se o somatório de 'Total produto nota' por nota fiscal bate com 'Valor da nota'\n",
    "inconsistencias = df_limpo_ml.groupby('Numero nota fiscal').apply(\n",
    "    lambda x: abs(x['Total produto nota'].sum() - x['Valor da nota'].max()) > 0.01\n",
    ").sum()\n",
    "\n",
    "print(f\"\\nNotas fiscais com valores inconsistentes: {inconsistencias}\")"
   ]
  },
  {
   "cell_type": "code",
   "execution_count": 31,
   "id": "f8797e3b",
   "metadata": {},
   "outputs": [
    {
     "name": "stdout",
     "output_type": "stream",
     "text": [
      "\n",
      "Itens duplicados em notas fiscais: 3359\n"
     ]
    }
   ],
   "source": [
    "# Itens duplicados dentro da mesma nota fiscal\n",
    "duplicados = df_limpo_ml.duplicated(\n",
    "    subset=['Numero nota fiscal', 'Código produto'], \n",
    "    keep=False\n",
    ").sum()\n",
    "\n",
    "print(f\"\\nItens duplicados em notas fiscais: {duplicados}\")"
   ]
  },
  {
   "cell_type": "code",
   "execution_count": 32,
   "id": "8b1a6be8",
   "metadata": {},
   "outputs": [
    {
     "name": "stdout",
     "output_type": "stream",
     "text": [
      "\n",
      "Registros com valores negativos: 0\n"
     ]
    }
   ],
   "source": [
    "negativos = df_limpo_ml[\n",
    "    (df_limpo_ml['Quantidade do produto'] < 0) | \n",
    "    (df_limpo_ml['Valor unitário'] < 0)\n",
    "].shape[0]\n",
    "\n",
    "print(f\"\\nRegistros com valores negativos: {negativos}\")"
   ]
  },
  {
   "cell_type": "code",
   "execution_count": 33,
   "id": "32b5b7ab",
   "metadata": {},
   "outputs": [
    {
     "name": "stdout",
     "output_type": "stream",
     "text": [
      "\n",
      "Produtos sem código: 0\n",
      "Notas sem identificação: 0\n"
     ]
    }
   ],
   "source": [
    "# Produtos sem código ou notas sem identificação\n",
    "sem_codigo = df_limpo_ml['Código produto'].isnull().sum()\n",
    "sem_nota = df_limpo_ml['Numero nota fiscal'].isnull().sum()\n",
    "\n",
    "print(f\"\\nProdutos sem código: {sem_codigo}\\nNotas sem identificação: {sem_nota}\")"
   ]
  },
  {
   "cell_type": "code",
   "execution_count": 34,
   "id": "7cfae2f4",
   "metadata": {},
   "outputs": [
    {
     "name": "stdout",
     "output_type": "stream",
     "text": [
      "\n",
      "\u001b[1mRESUMO DA VERIFICAÇÃO:\u001b[0m\n",
      "\n",
      "1. Valores nulos/zerados: 0\n",
      "2. Notas inconsistentes: 0\n",
      "3. Itens duplicados: 3359\n",
      "4. Valores negativos: 0\n",
      "5. Dados sem chave: Produtos=0, Notas=0\n",
      "\n"
     ]
    }
   ],
   "source": [
    "print(\"\\n\\033[1mRESUMO DA VERIFICAÇÃO:\\033[0m\")\n",
    "print(f\"\"\"\n",
    "1. Valores nulos/zerados: {df_limpo_ml[colunas_chave].isin([0, np.nan]).sum().sum()}\n",
    "2. Notas inconsistentes: {inconsistencias}\n",
    "3. Itens duplicados: {duplicados}\n",
    "4. Valores negativos: {negativos}\n",
    "5. Dados sem chave: Produtos={sem_codigo}, Notas={sem_nota}\n",
    "\"\"\")"
   ]
  },
  {
   "cell_type": "code",
   "execution_count": 35,
   "id": "65a0d5c3",
   "metadata": {},
   "outputs": [],
   "source": [
    "# Filtrar apenas os registros duplicados (mesma nota + mesmo produto)\n",
    "duplicatas = df_limpo_ml[\n",
    "    df_limpo_ml.duplicated(\n",
    "        subset=['Numero nota fiscal', 'Código produto'], \n",
    "        keep=False\n",
    "    )\n",
    "].sort_values(['Numero nota fiscal', 'Código produto'])"
   ]
  },
  {
   "cell_type": "code",
   "execution_count": 36,
   "id": "4d2c2b41",
   "metadata": {},
   "outputs": [
    {
     "data": {
      "text/plain": [
       "801"
      ]
     },
     "execution_count": 36,
     "metadata": {},
     "output_type": "execute_result"
    }
   ],
   "source": [
    "duplicatas[\"Numero nota fiscal\"].nunique()"
   ]
  },
  {
   "cell_type": "code",
   "execution_count": 37,
   "id": "51640480",
   "metadata": {},
   "outputs": [],
   "source": [
    "# Salvar para análise\n",
    "duplicatas.to_excel(\"itens_duplicados.xlsx\", index=False)"
   ]
  },
  {
   "cell_type": "code",
   "execution_count": 38,
   "id": "2404698a",
   "metadata": {},
   "outputs": [
    {
     "name": "stdout",
     "output_type": "stream",
     "text": [
      "Produtos com preços diferentes na mesma nota: 404\n"
     ]
    }
   ],
   "source": [
    "# Agrupar por nota e produto para ver variações de preço\n",
    "analise_preco = duplicatas.groupby(['Numero nota fiscal', 'Código produto', 'Descrição do produto']).agg({\n",
    "    'Valor unitário': ['min', 'max', 'count'],\n",
    "    'Quantidade do produto': 'sum'\n",
    "}).reset_index()\n",
    "\n",
    "# Filtrar casos onde o preço varia\n",
    "precos_diferentes = analise_preco[analise_preco[('Valor unitário', 'min')] != analise_preco[('Valor unitário', 'max')]]\n",
    "print(f\"Produtos com preços diferentes na mesma nota: {len(precos_diferentes)}\")"
   ]
  },
  {
   "cell_type": "code",
   "execution_count": 39,
   "id": "3259c6f8",
   "metadata": {},
   "outputs": [
    {
     "data": {
      "text/plain": [
       "Series([], Name: Descrição do produto, dtype: int64)"
      ]
     },
     "execution_count": 39,
     "metadata": {},
     "output_type": "execute_result"
    }
   ],
   "source": [
    "# Verificar se o mesmo código tem descrições distintas\n",
    "descricoes_diferentes = duplicatas.groupby('Código produto')['Descrição do produto'].nunique().loc[lambda x: x > 1]\n",
    "descricoes_diferentes"
   ]
  },
  {
   "cell_type": "code",
   "execution_count": 40,
   "id": "62d49672",
   "metadata": {},
   "outputs": [
    {
     "name": "stdout",
     "output_type": "stream",
     "text": [
      "     Numero nota fiscal  Qtd Itens Duplicados\n",
      "335               37030                    48\n",
      "343               37058                    41\n",
      "382               37195                    34\n",
      "352               37085                    30\n",
      "406               37290                    29\n",
      "673               38992                    29\n",
      "607               38457                    27\n",
      "363               37118                    23\n",
      "435               37405                    23\n",
      "547               37832                    21\n"
     ]
    }
   ],
   "source": [
    "# Quantidade de itens duplicados por nota (agrupado)\n",
    "itens_duplicados_por_nota = df_limpo_ml[\n",
    "    df_limpo_ml.duplicated(subset=['Numero nota fiscal', 'Código produto'], keep=False)\n",
    "].groupby('Numero nota fiscal').size().reset_index(name='Qtd Itens Duplicados')\n",
    "\n",
    "# Exemplo das 5 notas com mais duplicatas\n",
    "print(itens_duplicados_por_nota.sort_values('Qtd Itens Duplicados', ascending=False).head(10))"
   ]
  },
  {
   "cell_type": "code",
   "execution_count": 41,
   "id": "818c01c7",
   "metadata": {},
   "outputs": [
    {
     "name": "stdout",
     "output_type": "stream",
     "text": [
      "Notas a serem excluídas: 801 (2.64%)\n"
     ]
    }
   ],
   "source": [
    "# Lista de notas que contêm pelo menos 1 item duplicado\n",
    "notas_com_duplicatas = df_limpo_ml[\n",
    "    df_limpo_ml.duplicated(subset=['Numero nota fiscal', 'Código produto'], keep=False)\n",
    "]['Numero nota fiscal'].unique()\n",
    "\n",
    "print(f\"Notas a serem excluídas: {len(notas_com_duplicatas)} ({len(notas_com_duplicatas) / df_limpo_ml['Numero nota fiscal'].nunique() * 100:.2f}%)\")"
   ]
  },
  {
   "cell_type": "code",
   "execution_count": 42,
   "id": "217f1f10",
   "metadata": {},
   "outputs": [],
   "source": [
    "# Filtrar apenas notas SEM itens duplicados\n",
    "df_final = df_limpo_ml[~df_limpo_ml['Numero nota fiscal'].isin(notas_com_duplicatas)].copy()"
   ]
  },
  {
   "cell_type": "code",
   "execution_count": 43,
   "id": "8a163f06",
   "metadata": {},
   "outputs": [
    {
     "name": "stdout",
     "output_type": "stream",
     "text": [
      "Notas restantes: 29570\n",
      "Itens duplicados remanescentes: 0 (deve ser 0)\n"
     ]
    }
   ],
   "source": [
    "# Checar se ainda há duplicatas\n",
    "duplicatas_restantes = df_final.duplicated(\n",
    "    subset=['Numero nota fiscal', 'Código produto'], \n",
    "    keep=False\n",
    ").sum()\n",
    "\n",
    "print(f\"Notas restantes: {df_final['Numero nota fiscal'].nunique()}\")\n",
    "print(f\"Itens duplicados remanescentes: {duplicatas_restantes} (deve ser 0)\")"
   ]
  },
  {
   "cell_type": "code",
   "execution_count": 44,
   "id": "77bee4c1",
   "metadata": {},
   "outputs": [
    {
     "name": "stdout",
     "output_type": "stream",
     "text": [
      "\n",
      "\u001b[1mRESUMO DA EXCLUSÃO\u001b[0m\n",
      "- Notas originais: 30371\n",
      "- Notas excluídas: 801 (2.67%)\n",
      "- Notas válidas restantes: 29570\n",
      "- Registros removidos: 19255\n",
      "\n"
     ]
    }
   ],
   "source": [
    "print(f\"\"\"\n",
    "\\033[1mRESUMO DA EXCLUSÃO\\033[0m\n",
    "- Notas originais: {df_limpo_ml['Numero nota fiscal'].nunique()}\n",
    "- Notas excluídas: {len(notas_com_duplicatas)} (2.67%)\n",
    "- Notas válidas restantes: {df_final['Numero nota fiscal'].nunique()}\n",
    "- Registros removidos: {len(df_limpo_ml) - len(df_final)}\n",
    "\"\"\")"
   ]
  },
  {
   "cell_type": "code",
   "execution_count": 45,
   "id": "3e0d66af",
   "metadata": {},
   "outputs": [
    {
     "name": "stdout",
     "output_type": "stream",
     "text": [
      "Valores nulos ou zerados:\n"
     ]
    },
    {
     "data": {
      "text/plain": [
       "Quantidade do produto    0\n",
       "Valor unitário           0\n",
       "Total produto nota       0\n",
       "Valor da nota            0\n",
       "dtype: int64"
      ]
     },
     "metadata": {},
     "output_type": "display_data"
    }
   ],
   "source": [
    "colunas_criticas = ['Quantidade do produto', 'Valor unitário', 'Total produto nota', 'Valor da nota']\n",
    "print(\"Valores nulos ou zerados:\")\n",
    "display(df_final[colunas_criticas].isin([0, np.nan]).sum())"
   ]
  },
  {
   "cell_type": "code",
   "execution_count": 46,
   "id": "12af1b72",
   "metadata": {},
   "outputs": [
    {
     "name": "stdout",
     "output_type": "stream",
     "text": [
      "Itens duplicados remanescentes: 0 (deve ser 0)\n"
     ]
    }
   ],
   "source": [
    "duplicatas = df_final.duplicated(subset=['Numero nota fiscal', 'Código produto'], keep=False).sum()\n",
    "print(f\"Itens duplicados remanescentes: {duplicatas} (deve ser 0)\")"
   ]
  },
  {
   "cell_type": "code",
   "execution_count": 47,
   "id": "69e9d9dd",
   "metadata": {},
   "outputs": [
    {
     "name": "stdout",
     "output_type": "stream",
     "text": [
      "Notas com valores inconsistentes: 0 (deve ser 0)\n"
     ]
    },
    {
     "name": "stderr",
     "output_type": "stream",
     "text": [
      "C:\\Users\\Paulo Neto\\AppData\\Local\\Temp\\ipykernel_10900\\1911192407.py:1: FutureWarning: DataFrameGroupBy.apply operated on the grouping columns. This behavior is deprecated, and in a future version of pandas the grouping columns will be excluded from the operation. Either pass `include_groups=False` to exclude the groupings or explicitly select the grouping columns after groupby to silence this warning.\n",
      "  inconsistencias = df_final.groupby('Numero nota fiscal').apply(\n"
     ]
    }
   ],
   "source": [
    "inconsistencias = df_final.groupby('Numero nota fiscal').apply(\n",
    "    lambda x: abs(x['Total produto nota'].sum() - x['Valor da nota'].max()) > 0.01\n",
    ").sum()\n",
    "print(f\"Notas com valores inconsistentes: {inconsistencias} (deve ser 0)\")"
   ]
  },
  {
   "cell_type": "code",
   "execution_count": 48,
   "id": "9b15dbff",
   "metadata": {},
   "outputs": [
    {
     "name": "stdout",
     "output_type": "stream",
     "text": [
      "Registros com valores negativos: 0 (deve ser 0)\n"
     ]
    }
   ],
   "source": [
    "negativos = df_final[\n",
    "    (df_final['Quantidade do produto'] < 0) | \n",
    "    (df_final['Valor unitário'] < 0)\n",
    "].shape[0]\n",
    "print(f\"Registros com valores negativos: {negativos} (deve ser 0)\")"
   ]
  },
  {
   "cell_type": "code",
   "execution_count": 49,
   "id": "7489c064",
   "metadata": {},
   "outputs": [
    {
     "name": "stdout",
     "output_type": "stream",
     "text": [
      "Produtos sem código: 0, Notas sem ID: 0 (ambos devem ser 0)\n"
     ]
    }
   ],
   "source": [
    "# Produtos ou notas sem identificação\n",
    "sem_codigo = df_final['Código produto'].isnull().sum()\n",
    "sem_nota = df_final['Numero nota fiscal'].isnull().sum()\n",
    "print(f\"Produtos sem código: {sem_codigo}, Notas sem ID: {sem_nota} (ambos devem ser 0)\")"
   ]
  },
  {
   "cell_type": "code",
   "execution_count": 50,
   "id": "35014223",
   "metadata": {},
   "outputs": [
    {
     "name": "stdout",
     "output_type": "stream",
     "text": [
      "\n",
      "\u001b[1mRELATÓRIO FINAL DE CONSISTÊNCIA\u001b[0m\n",
      "1. Dados nulos/zerados: 0 (0 = OK)\n",
      "2. Duplicatas residuais: 0 (0 = OK)\n",
      "3. Notas inconsistentes: 0 (0 = OK)\n",
      "4. Valores negativos: 0 (0 = OK)\n",
      "5. Chaves ausentes: Produtos=0, Notas=0 (0 = OK)\n",
      "\n"
     ]
    }
   ],
   "source": [
    "print(f\"\"\"\n",
    "\\033[1mRELATÓRIO FINAL DE CONSISTÊNCIA\\033[0m\n",
    "1. Dados nulos/zerados: {df_final[colunas_criticas].isin([0, np.nan]).sum().sum()} (0 = OK)\n",
    "2. Duplicatas residuais: {duplicatas} (0 = OK)\n",
    "3. Notas inconsistentes: {inconsistencias} (0 = OK)\n",
    "4. Valores negativos: {negativos} (0 = OK)\n",
    "5. Chaves ausentes: Produtos={sem_codigo}, Notas={sem_nota} (0 = OK)\n",
    "\"\"\")"
   ]
  },
  {
   "cell_type": "code",
   "execution_count": 51,
   "id": "9d82eac0",
   "metadata": {},
   "outputs": [],
   "source": [
    "df_final.to_excel(\"base_final_notas_limpa.xlsx\", index=False)"
   ]
  },
  {
   "cell_type": "code",
   "execution_count": 52,
   "id": "f90ebeed",
   "metadata": {},
   "outputs": [
    {
     "data": {
      "text/plain": [
       "Numero nota fiscal         int64\n",
       "Data da venda             object\n",
       "Código produto             int64\n",
       "Descrição do produto      object\n",
       "Quantidade do produto    float64\n",
       "Valor unitário           float64\n",
       "Preço venda              float64\n",
       "Preço de custo           float64\n",
       "Valor da nota            float64\n",
       "Total produto nota       float64\n",
       "dtype: object"
      ]
     },
     "execution_count": 52,
     "metadata": {},
     "output_type": "execute_result"
    }
   ],
   "source": [
    "df_final.dtypes"
   ]
  },
  {
   "cell_type": "code",
   "execution_count": 53,
   "id": "d18457bd",
   "metadata": {},
   "outputs": [
    {
     "data": {
      "text/html": [
       "<div>\n",
       "<style scoped>\n",
       "    .dataframe tbody tr th:only-of-type {\n",
       "        vertical-align: middle;\n",
       "    }\n",
       "\n",
       "    .dataframe tbody tr th {\n",
       "        vertical-align: top;\n",
       "    }\n",
       "\n",
       "    .dataframe thead th {\n",
       "        text-align: right;\n",
       "    }\n",
       "</style>\n",
       "<table border=\"1\" class=\"dataframe\">\n",
       "  <thead>\n",
       "    <tr style=\"text-align: right;\">\n",
       "      <th></th>\n",
       "      <th>Quantidade do produto</th>\n",
       "      <th>Valor unitário</th>\n",
       "      <th>Preço venda</th>\n",
       "      <th>Valor da nota</th>\n",
       "      <th>Total produto nota</th>\n",
       "    </tr>\n",
       "  </thead>\n",
       "  <tbody>\n",
       "    <tr>\n",
       "      <th>0</th>\n",
       "      <td>2.0</td>\n",
       "      <td>33.000000</td>\n",
       "      <td>27.476514</td>\n",
       "      <td>4217.740000</td>\n",
       "      <td>66.000000</td>\n",
       "    </tr>\n",
       "    <tr>\n",
       "      <th>1</th>\n",
       "      <td>5.0</td>\n",
       "      <td>2.900000</td>\n",
       "      <td>2.499397</td>\n",
       "      <td>4217.740000</td>\n",
       "      <td>14.500000</td>\n",
       "    </tr>\n",
       "    <tr>\n",
       "      <th>2</th>\n",
       "      <td>40.0</td>\n",
       "      <td>9.450000</td>\n",
       "      <td>8.863195</td>\n",
       "      <td>4217.740000</td>\n",
       "      <td>378.000000</td>\n",
       "    </tr>\n",
       "    <tr>\n",
       "      <th>3</th>\n",
       "      <td>6.0</td>\n",
       "      <td>20.870000</td>\n",
       "      <td>18.974913</td>\n",
       "      <td>4217.740000</td>\n",
       "      <td>125.220000</td>\n",
       "    </tr>\n",
       "    <tr>\n",
       "      <th>4</th>\n",
       "      <td>5.0</td>\n",
       "      <td>6.260000</td>\n",
       "      <td>5.680850</td>\n",
       "      <td>4217.740000</td>\n",
       "      <td>31.300000</td>\n",
       "    </tr>\n",
       "    <tr>\n",
       "      <th>...</th>\n",
       "      <td>...</td>\n",
       "      <td>...</td>\n",
       "      <td>...</td>\n",
       "      <td>...</td>\n",
       "      <td>...</td>\n",
       "    </tr>\n",
       "    <tr>\n",
       "      <th>336734</th>\n",
       "      <td>20.0</td>\n",
       "      <td>71.595537</td>\n",
       "      <td>71.595537</td>\n",
       "      <td>7662.182202</td>\n",
       "      <td>1431.910740</td>\n",
       "    </tr>\n",
       "    <tr>\n",
       "      <th>336735</th>\n",
       "      <td>52.0</td>\n",
       "      <td>44.910000</td>\n",
       "      <td>44.910000</td>\n",
       "      <td>7662.182202</td>\n",
       "      <td>2335.320000</td>\n",
       "    </tr>\n",
       "    <tr>\n",
       "      <th>336736</th>\n",
       "      <td>6.0</td>\n",
       "      <td>25.542042</td>\n",
       "      <td>25.998995</td>\n",
       "      <td>7662.182202</td>\n",
       "      <td>153.252252</td>\n",
       "    </tr>\n",
       "    <tr>\n",
       "      <th>336737</th>\n",
       "      <td>24.0</td>\n",
       "      <td>2.780000</td>\n",
       "      <td>3.172271</td>\n",
       "      <td>66.720000</td>\n",
       "      <td>66.720000</td>\n",
       "    </tr>\n",
       "    <tr>\n",
       "      <th>336738</th>\n",
       "      <td>20.0</td>\n",
       "      <td>34.540934</td>\n",
       "      <td>36.485731</td>\n",
       "      <td>690.818680</td>\n",
       "      <td>690.818680</td>\n",
       "    </tr>\n",
       "  </tbody>\n",
       "</table>\n",
       "<p>314549 rows × 5 columns</p>\n",
       "</div>"
      ],
      "text/plain": [
       "        Quantidade do produto  Valor unitário  Preço venda  Valor da nota  \\\n",
       "0                         2.0       33.000000    27.476514    4217.740000   \n",
       "1                         5.0        2.900000     2.499397    4217.740000   \n",
       "2                        40.0        9.450000     8.863195    4217.740000   \n",
       "3                         6.0       20.870000    18.974913    4217.740000   \n",
       "4                         5.0        6.260000     5.680850    4217.740000   \n",
       "...                       ...             ...          ...            ...   \n",
       "336734                   20.0       71.595537    71.595537    7662.182202   \n",
       "336735                   52.0       44.910000    44.910000    7662.182202   \n",
       "336736                    6.0       25.542042    25.998995    7662.182202   \n",
       "336737                   24.0        2.780000     3.172271      66.720000   \n",
       "336738                   20.0       34.540934    36.485731     690.818680   \n",
       "\n",
       "        Total produto nota  \n",
       "0                66.000000  \n",
       "1                14.500000  \n",
       "2               378.000000  \n",
       "3               125.220000  \n",
       "4                31.300000  \n",
       "...                    ...  \n",
       "336734         1431.910740  \n",
       "336735         2335.320000  \n",
       "336736          153.252252  \n",
       "336737           66.720000  \n",
       "336738          690.818680  \n",
       "\n",
       "[314549 rows x 5 columns]"
      ]
     },
     "execution_count": 53,
     "metadata": {},
     "output_type": "execute_result"
    }
   ],
   "source": [
    "df_final[[\"Quantidade do produto\", \"Valor unitário\", \"Preço venda\", \"Valor da nota\", \"Total produto nota\"]]"
   ]
  },
  {
   "cell_type": "code",
   "execution_count": 54,
   "id": "d65fe792",
   "metadata": {},
   "outputs": [
    {
     "name": "stdout",
     "output_type": "stream",
     "text": [
      "Numero nota fiscal                int64\n",
      "Data da venda            datetime64[ns]\n",
      "Código produto                    int64\n",
      "Descrição do produto     string[python]\n",
      "Quantidade do produto             int64\n",
      "Valor unitário                  float64\n",
      "Preço venda                     float64\n",
      "Preço de custo                  float64\n",
      "Valor da nota                   float64\n",
      "Total produto nota              float64\n",
      "dtype: object\n"
     ]
    }
   ],
   "source": [
    "# Conversão de tipos e formatação\n",
    "df_final = df_final.astype({\n",
    "    'Data da venda': 'datetime64[ns]',  # Ou use pd.to_datetime()\n",
    "    'Código produto': 'int64',\n",
    "    'Descrição do produto': 'string',    # Tipo string do pandas (melhor que object)\n",
    "    'Quantidade do produto': 'int64'\n",
    "})\n",
    "\n",
    "# Arredondamento para 2 casas decimais em colunas float\n",
    "colunas_float = ['Valor unitário', 'Preço venda', 'Preço de custo', 'Valor da nota', 'Total produto nota']\n",
    "df_final[colunas_float] = df_final[colunas_float].round(2)\n",
    "\n",
    "# Verificação final dos tipos\n",
    "print(df_final.dtypes)"
   ]
  },
  {
   "cell_type": "code",
   "execution_count": 55,
   "id": "4e14b98d",
   "metadata": {},
   "outputs": [
    {
     "data": {
      "text/html": [
       "<div>\n",
       "<style scoped>\n",
       "    .dataframe tbody tr th:only-of-type {\n",
       "        vertical-align: middle;\n",
       "    }\n",
       "\n",
       "    .dataframe tbody tr th {\n",
       "        vertical-align: top;\n",
       "    }\n",
       "\n",
       "    .dataframe thead th {\n",
       "        text-align: right;\n",
       "    }\n",
       "</style>\n",
       "<table border=\"1\" class=\"dataframe\">\n",
       "  <thead>\n",
       "    <tr style=\"text-align: right;\">\n",
       "      <th></th>\n",
       "      <th>Numero nota fiscal</th>\n",
       "      <th>Data da venda</th>\n",
       "      <th>Código produto</th>\n",
       "      <th>Descrição do produto</th>\n",
       "      <th>Quantidade do produto</th>\n",
       "      <th>Valor unitário</th>\n",
       "      <th>Preço venda</th>\n",
       "      <th>Preço de custo</th>\n",
       "      <th>Valor da nota</th>\n",
       "      <th>Total produto nota</th>\n",
       "    </tr>\n",
       "  </thead>\n",
       "  <tbody>\n",
       "    <tr>\n",
       "      <th>0</th>\n",
       "      <td>566082</td>\n",
       "      <td>2025-06-17</td>\n",
       "      <td>33932</td>\n",
       "      <td>ENV 229X324 OU C/100 FILIPERSON</td>\n",
       "      <td>2</td>\n",
       "      <td>33.00</td>\n",
       "      <td>27.48</td>\n",
       "      <td>24.41</td>\n",
       "      <td>4217.74</td>\n",
       "      <td>66.00</td>\n",
       "    </tr>\n",
       "    <tr>\n",
       "      <th>1</th>\n",
       "      <td>566082</td>\n",
       "      <td>2025-06-17</td>\n",
       "      <td>29367</td>\n",
       "      <td>GUARDANAPO SNOB FS 33X30 50F SANTHER</td>\n",
       "      <td>5</td>\n",
       "      <td>2.90</td>\n",
       "      <td>2.50</td>\n",
       "      <td>2.23</td>\n",
       "      <td>4217.74</td>\n",
       "      <td>14.50</td>\n",
       "    </tr>\n",
       "    <tr>\n",
       "      <th>2</th>\n",
       "      <td>566082</td>\n",
       "      <td>2025-06-17</td>\n",
       "      <td>241</td>\n",
       "      <td>PASTA AZ OF LE TIGRADA FRAMA 356-11952</td>\n",
       "      <td>40</td>\n",
       "      <td>9.45</td>\n",
       "      <td>8.86</td>\n",
       "      <td>7.61</td>\n",
       "      <td>4217.74</td>\n",
       "      <td>378.00</td>\n",
       "    </tr>\n",
       "    <tr>\n",
       "      <th>3</th>\n",
       "      <td>566082</td>\n",
       "      <td>2025-06-17</td>\n",
       "      <td>32608</td>\n",
       "      <td>CALCULADORA MESA 12 DIG MASTERPRINT 1086</td>\n",
       "      <td>6</td>\n",
       "      <td>20.87</td>\n",
       "      <td>18.97</td>\n",
       "      <td>17.05</td>\n",
       "      <td>4217.74</td>\n",
       "      <td>125.22</td>\n",
       "    </tr>\n",
       "    <tr>\n",
       "      <th>4</th>\n",
       "      <td>566082</td>\n",
       "      <td>2025-06-17</td>\n",
       "      <td>18508</td>\n",
       "      <td>CAD BROCH UNIV STIFF AZ 96F JANDAIA</td>\n",
       "      <td>5</td>\n",
       "      <td>6.26</td>\n",
       "      <td>5.68</td>\n",
       "      <td>4.83</td>\n",
       "      <td>4217.74</td>\n",
       "      <td>31.30</td>\n",
       "    </tr>\n",
       "    <tr>\n",
       "      <th>...</th>\n",
       "      <td>...</td>\n",
       "      <td>...</td>\n",
       "      <td>...</td>\n",
       "      <td>...</td>\n",
       "      <td>...</td>\n",
       "      <td>...</td>\n",
       "      <td>...</td>\n",
       "      <td>...</td>\n",
       "      <td>...</td>\n",
       "      <td>...</td>\n",
       "    </tr>\n",
       "    <tr>\n",
       "      <th>336734</th>\n",
       "      <td>403</td>\n",
       "      <td>2025-03-01</td>\n",
       "      <td>31327</td>\n",
       "      <td>CAIXA TERMICA PT 34L MOR</td>\n",
       "      <td>20</td>\n",
       "      <td>71.60</td>\n",
       "      <td>71.60</td>\n",
       "      <td>71.60</td>\n",
       "      <td>7662.18</td>\n",
       "      <td>1431.91</td>\n",
       "    </tr>\n",
       "    <tr>\n",
       "      <th>336735</th>\n",
       "      <td>403</td>\n",
       "      <td>2025-03-01</td>\n",
       "      <td>31329</td>\n",
       "      <td>CAIXA TERMICA VM 18L MOR</td>\n",
       "      <td>52</td>\n",
       "      <td>44.91</td>\n",
       "      <td>44.91</td>\n",
       "      <td>44.91</td>\n",
       "      <td>7662.18</td>\n",
       "      <td>2335.32</td>\n",
       "    </tr>\n",
       "    <tr>\n",
       "      <th>336736</th>\n",
       "      <td>403</td>\n",
       "      <td>2025-03-01</td>\n",
       "      <td>9552</td>\n",
       "      <td>CX ISOPOR 33L ISOPLAST</td>\n",
       "      <td>6</td>\n",
       "      <td>25.54</td>\n",
       "      <td>26.00</td>\n",
       "      <td>25.54</td>\n",
       "      <td>7662.18</td>\n",
       "      <td>153.25</td>\n",
       "    </tr>\n",
       "    <tr>\n",
       "      <th>336737</th>\n",
       "      <td>402</td>\n",
       "      <td>2025-03-01</td>\n",
       "      <td>6792</td>\n",
       "      <td>CX ISOPOR 3L ISOPLAST</td>\n",
       "      <td>24</td>\n",
       "      <td>2.78</td>\n",
       "      <td>3.17</td>\n",
       "      <td>2.78</td>\n",
       "      <td>66.72</td>\n",
       "      <td>66.72</td>\n",
       "    </tr>\n",
       "    <tr>\n",
       "      <th>336738</th>\n",
       "      <td>401</td>\n",
       "      <td>2025-02-01</td>\n",
       "      <td>9554</td>\n",
       "      <td>CX ISOPOR 45L ISOPLAST</td>\n",
       "      <td>20</td>\n",
       "      <td>34.54</td>\n",
       "      <td>36.49</td>\n",
       "      <td>34.54</td>\n",
       "      <td>690.82</td>\n",
       "      <td>690.82</td>\n",
       "    </tr>\n",
       "  </tbody>\n",
       "</table>\n",
       "<p>314549 rows × 10 columns</p>\n",
       "</div>"
      ],
      "text/plain": [
       "        Numero nota fiscal Data da venda  Código produto  \\\n",
       "0                   566082    2025-06-17           33932   \n",
       "1                   566082    2025-06-17           29367   \n",
       "2                   566082    2025-06-17             241   \n",
       "3                   566082    2025-06-17           32608   \n",
       "4                   566082    2025-06-17           18508   \n",
       "...                    ...           ...             ...   \n",
       "336734                 403    2025-03-01           31327   \n",
       "336735                 403    2025-03-01           31329   \n",
       "336736                 403    2025-03-01            9552   \n",
       "336737                 402    2025-03-01            6792   \n",
       "336738                 401    2025-02-01            9554   \n",
       "\n",
       "                            Descrição do produto  Quantidade do produto  \\\n",
       "0                ENV 229X324 OU C/100 FILIPERSON                      2   \n",
       "1          GUARDANAPO SNOB FS 33X30 50F SANTHER                       5   \n",
       "2         PASTA AZ OF LE TIGRADA FRAMA 356-11952                     40   \n",
       "3       CALCULADORA MESA 12 DIG MASTERPRINT 1086                      6   \n",
       "4            CAD BROCH UNIV STIFF AZ 96F JANDAIA                      5   \n",
       "...                                          ...                    ...   \n",
       "336734                  CAIXA TERMICA PT 34L MOR                     20   \n",
       "336735                  CAIXA TERMICA VM 18L MOR                     52   \n",
       "336736                    CX ISOPOR 33L ISOPLAST                      6   \n",
       "336737                     CX ISOPOR 3L ISOPLAST                     24   \n",
       "336738                    CX ISOPOR 45L ISOPLAST                     20   \n",
       "\n",
       "        Valor unitário  Preço venda  Preço de custo  Valor da nota  \\\n",
       "0                33.00        27.48           24.41        4217.74   \n",
       "1                 2.90         2.50            2.23        4217.74   \n",
       "2                 9.45         8.86            7.61        4217.74   \n",
       "3                20.87        18.97           17.05        4217.74   \n",
       "4                 6.26         5.68            4.83        4217.74   \n",
       "...                ...          ...             ...            ...   \n",
       "336734           71.60        71.60           71.60        7662.18   \n",
       "336735           44.91        44.91           44.91        7662.18   \n",
       "336736           25.54        26.00           25.54        7662.18   \n",
       "336737            2.78         3.17            2.78          66.72   \n",
       "336738           34.54        36.49           34.54         690.82   \n",
       "\n",
       "        Total produto nota  \n",
       "0                    66.00  \n",
       "1                    14.50  \n",
       "2                   378.00  \n",
       "3                   125.22  \n",
       "4                    31.30  \n",
       "...                    ...  \n",
       "336734             1431.91  \n",
       "336735             2335.32  \n",
       "336736              153.25  \n",
       "336737               66.72  \n",
       "336738              690.82  \n",
       "\n",
       "[314549 rows x 10 columns]"
      ]
     },
     "execution_count": 55,
     "metadata": {},
     "output_type": "execute_result"
    }
   ],
   "source": [
    "df_final"
   ]
  }
 ],
 "metadata": {
  "kernelspec": {
   "display_name": "venv",
   "language": "python",
   "name": "python3"
  },
  "language_info": {
   "codemirror_mode": {
    "name": "ipython",
    "version": 3
   },
   "file_extension": ".py",
   "mimetype": "text/x-python",
   "name": "python",
   "nbconvert_exporter": "python",
   "pygments_lexer": "ipython3",
   "version": "3.13.1"
  }
 },
 "nbformat": 4,
 "nbformat_minor": 5
}
