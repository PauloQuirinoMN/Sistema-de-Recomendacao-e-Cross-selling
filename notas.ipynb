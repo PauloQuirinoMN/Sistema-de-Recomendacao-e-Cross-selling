{
 "cells": [
  {
   "cell_type": "markdown",
   "id": "6a809bad",
   "metadata": {},
   "source": [
    "### Limpeza da base de dados de notas fiscais\n",
    "\n",
    "\n",
    "### Descrição das Colunas - Base de Notas Fiscais\n",
    "\n",
    "| Nome da Coluna           | Descrição                                                                                  | Exemplo                                                                 |\n",
    "|--------------------------|-------------------------------------------------------------------------------------------|-------------------------------------------------------------------------|\n",
    "| **Numero nota fiscal**   | Identificador único da nota fiscal (documento fiscal).                                    | `566082`                                                               |\n",
    "| **Data da venda**        | Data de emissão da nota fiscal (formato DD/MM/AAAA).                                      | `17/06/2025`                                                           |\n",
    "| **Código produto**       | Código único do produto vendido (deve corresponder ao `Código` na base de estoque).       | `33932`, `241`                                                         |\n",
    "| **Descrição do produto** | Nome/descrição do produto conforme registrado na nota fiscal.                             | `\"ENV 229X324 OU C/100 FILIPERSON\"`, `\"PASTA AZ OF LE TIGRADA FRAMA\"`  |\n",
    "| **Quantidade do produto**| Quantidade vendida do produto (unidades, caixas, kg, etc.).                              | `2.0`, `40.0`                                                          |\n",
    "| **Valor unitário**       | Preço unitário do produto no momento da venda (sem descontos/acréscimos).                | `33.000000`, `9.450000`                                                |\n",
    "| **Preço venda**          | Preço mínimo de venda sugerido.                  | `27.476514`, `8.863195`                                                |\n",
    "| **Preço de custo**       | Custo unitário do produto no momento da compra (o custo da empresa para adquirir).                  | `24.409041`, `7.605561`                                                |\n",
    "| **Valor da nota**        | Valor total da nota fiscal (somatório de todos os itens + impostos/fretes, se aplicável).| `3895.94`                                                              |\n"
   ]
  },
  {
   "cell_type": "code",
   "execution_count": 1,
   "id": "e69f3275",
   "metadata": {},
   "outputs": [],
   "source": [
    "import pandas as pd"
   ]
  },
  {
   "cell_type": "code",
   "execution_count": 2,
   "id": "369a0ab3",
   "metadata": {},
   "outputs": [],
   "source": [
    "df_vendas = pd.read_excel('bases/relatorio_notas.xlsx')"
   ]
  },
  {
   "cell_type": "markdown",
   "id": "74773fd4",
   "metadata": {},
   "source": [
    "### Propriedades da base"
   ]
  },
  {
   "cell_type": "code",
   "execution_count": 3,
   "id": "c384d0e2",
   "metadata": {},
   "outputs": [
    {
     "name": "stdout",
     "output_type": "stream",
     "text": [
      "Formato dos dados (336739, 9)\n"
     ]
    }
   ],
   "source": [
    "print(f\"Formato dos dados {df_vendas.shape}\")"
   ]
  },
  {
   "cell_type": "code",
   "execution_count": 34,
   "id": "a76f386f",
   "metadata": {},
   "outputs": [
    {
     "data": {
      "text/plain": [
       "30521"
      ]
     },
     "execution_count": 34,
     "metadata": {},
     "output_type": "execute_result"
    }
   ],
   "source": [
    "len(df_vendas[\"Numero nota fiscal\"].unique())"
   ]
  },
  {
   "cell_type": "code",
   "execution_count": 4,
   "id": "f597d54b",
   "metadata": {},
   "outputs": [
    {
     "data": {
      "text/plain": [
       "['Numero nota fiscal',\n",
       " 'Data da venda',\n",
       " 'Código produto',\n",
       " 'Descrição do produto',\n",
       " 'Quantidade do produto',\n",
       " 'Valor unitário',\n",
       " 'Preço venda',\n",
       " 'Preço de custo',\n",
       " 'Valor da nota']"
      ]
     },
     "execution_count": 4,
     "metadata": {},
     "output_type": "execute_result"
    }
   ],
   "source": [
    "df_vendas.columns.tolist()"
   ]
  },
  {
   "cell_type": "code",
   "execution_count": 5,
   "id": "ac7dcae6",
   "metadata": {},
   "outputs": [
    {
     "data": {
      "text/html": [
       "<div>\n",
       "<style scoped>\n",
       "    .dataframe tbody tr th:only-of-type {\n",
       "        vertical-align: middle;\n",
       "    }\n",
       "\n",
       "    .dataframe tbody tr th {\n",
       "        vertical-align: top;\n",
       "    }\n",
       "\n",
       "    .dataframe thead th {\n",
       "        text-align: right;\n",
       "    }\n",
       "</style>\n",
       "<table border=\"1\" class=\"dataframe\">\n",
       "  <thead>\n",
       "    <tr style=\"text-align: right;\">\n",
       "      <th></th>\n",
       "      <th>Numero nota fiscal</th>\n",
       "      <th>Data da venda</th>\n",
       "      <th>Código produto</th>\n",
       "      <th>Descrição do produto</th>\n",
       "      <th>Quantidade do produto</th>\n",
       "      <th>Valor unitário</th>\n",
       "      <th>Preço venda</th>\n",
       "      <th>Preço de custo</th>\n",
       "      <th>Valor da nota</th>\n",
       "    </tr>\n",
       "  </thead>\n",
       "  <tbody>\n",
       "    <tr>\n",
       "      <th>0</th>\n",
       "      <td>566082</td>\n",
       "      <td>17/06/2025</td>\n",
       "      <td>33932</td>\n",
       "      <td>ENV 229X324 OU C/100 FILIPERSON</td>\n",
       "      <td>2.0</td>\n",
       "      <td>33.00</td>\n",
       "      <td>27.476514</td>\n",
       "      <td>24.409041</td>\n",
       "      <td>3895.94</td>\n",
       "    </tr>\n",
       "    <tr>\n",
       "      <th>1</th>\n",
       "      <td>566082</td>\n",
       "      <td>17/06/2025</td>\n",
       "      <td>29367</td>\n",
       "      <td>GUARDANAPO SNOB FS 33X30 50F SANTHER</td>\n",
       "      <td>5.0</td>\n",
       "      <td>2.90</td>\n",
       "      <td>2.499397</td>\n",
       "      <td>2.231242</td>\n",
       "      <td>3895.94</td>\n",
       "    </tr>\n",
       "    <tr>\n",
       "      <th>2</th>\n",
       "      <td>566082</td>\n",
       "      <td>17/06/2025</td>\n",
       "      <td>241</td>\n",
       "      <td>PASTA AZ OF LE TIGRADA FRAMA 356-11952</td>\n",
       "      <td>40.0</td>\n",
       "      <td>9.45</td>\n",
       "      <td>8.863195</td>\n",
       "      <td>7.605561</td>\n",
       "      <td>3895.94</td>\n",
       "    </tr>\n",
       "    <tr>\n",
       "      <th>3</th>\n",
       "      <td>566082</td>\n",
       "      <td>17/06/2025</td>\n",
       "      <td>32608</td>\n",
       "      <td>CALCULADORA MESA 12 DIG MASTERPRINT 1086</td>\n",
       "      <td>6.0</td>\n",
       "      <td>20.87</td>\n",
       "      <td>18.974913</td>\n",
       "      <td>17.051309</td>\n",
       "      <td>3895.94</td>\n",
       "    </tr>\n",
       "    <tr>\n",
       "      <th>4</th>\n",
       "      <td>566082</td>\n",
       "      <td>17/06/2025</td>\n",
       "      <td>18508</td>\n",
       "      <td>CAD BROCH UNIV STIFF AZ 96F JANDAIA</td>\n",
       "      <td>5.0</td>\n",
       "      <td>6.26</td>\n",
       "      <td>5.680850</td>\n",
       "      <td>4.830296</td>\n",
       "      <td>3895.94</td>\n",
       "    </tr>\n",
       "  </tbody>\n",
       "</table>\n",
       "</div>"
      ],
      "text/plain": [
       "   Numero nota fiscal Data da venda  Código produto  \\\n",
       "0              566082    17/06/2025           33932   \n",
       "1              566082    17/06/2025           29367   \n",
       "2              566082    17/06/2025             241   \n",
       "3              566082    17/06/2025           32608   \n",
       "4              566082    17/06/2025           18508   \n",
       "\n",
       "                       Descrição do produto  Quantidade do produto  \\\n",
       "0           ENV 229X324 OU C/100 FILIPERSON                    2.0   \n",
       "1     GUARDANAPO SNOB FS 33X30 50F SANTHER                     5.0   \n",
       "2    PASTA AZ OF LE TIGRADA FRAMA 356-11952                   40.0   \n",
       "3  CALCULADORA MESA 12 DIG MASTERPRINT 1086                    6.0   \n",
       "4       CAD BROCH UNIV STIFF AZ 96F JANDAIA                    5.0   \n",
       "\n",
       "   Valor unitário  Preço venda  Preço de custo  Valor da nota  \n",
       "0           33.00    27.476514       24.409041        3895.94  \n",
       "1            2.90     2.499397        2.231242        3895.94  \n",
       "2            9.45     8.863195        7.605561        3895.94  \n",
       "3           20.87    18.974913       17.051309        3895.94  \n",
       "4            6.26     5.680850        4.830296        3895.94  "
      ]
     },
     "execution_count": 5,
     "metadata": {},
     "output_type": "execute_result"
    }
   ],
   "source": [
    "df_vendas.head()"
   ]
  },
  {
   "cell_type": "code",
   "execution_count": 6,
   "id": "9f639342",
   "metadata": {},
   "outputs": [
    {
     "data": {
      "text/plain": [
       "Numero nota fiscal         int64\n",
       "Data da venda             object\n",
       "Código produto             int64\n",
       "Descrição do produto      object\n",
       "Quantidade do produto    float64\n",
       "Valor unitário           float64\n",
       "Preço venda              float64\n",
       "Preço de custo           float64\n",
       "Valor da nota            float64\n",
       "dtype: object"
      ]
     },
     "execution_count": 6,
     "metadata": {},
     "output_type": "execute_result"
    }
   ],
   "source": [
    "df_vendas.dtypes"
   ]
  },
  {
   "cell_type": "code",
   "execution_count": 7,
   "id": "913e79fa",
   "metadata": {},
   "outputs": [
    {
     "data": {
      "text/html": [
       "<div>\n",
       "<style scoped>\n",
       "    .dataframe tbody tr th:only-of-type {\n",
       "        vertical-align: middle;\n",
       "    }\n",
       "\n",
       "    .dataframe tbody tr th {\n",
       "        vertical-align: top;\n",
       "    }\n",
       "\n",
       "    .dataframe thead th {\n",
       "        text-align: right;\n",
       "    }\n",
       "</style>\n",
       "<table border=\"1\" class=\"dataframe\">\n",
       "  <thead>\n",
       "    <tr style=\"text-align: right;\">\n",
       "      <th></th>\n",
       "      <th>Numero nota fiscal</th>\n",
       "      <th>Código produto</th>\n",
       "      <th>Quantidade do produto</th>\n",
       "      <th>Valor unitário</th>\n",
       "      <th>Preço venda</th>\n",
       "      <th>Preço de custo</th>\n",
       "      <th>Valor da nota</th>\n",
       "    </tr>\n",
       "  </thead>\n",
       "  <tbody>\n",
       "    <tr>\n",
       "      <th>count</th>\n",
       "      <td>336739.000000</td>\n",
       "      <td>336739.000000</td>\n",
       "      <td>336739.000000</td>\n",
       "      <td>336739.000000</td>\n",
       "      <td>336739.000000</td>\n",
       "      <td>334515.000000</td>\n",
       "      <td>333994.000000</td>\n",
       "    </tr>\n",
       "    <tr>\n",
       "      <th>mean</th>\n",
       "      <td>480532.632603</td>\n",
       "      <td>22071.594784</td>\n",
       "      <td>15.671684</td>\n",
       "      <td>15.853359</td>\n",
       "      <td>13.092898</td>\n",
       "      <td>11.769463</td>\n",
       "      <td>2087.380438</td>\n",
       "    </tr>\n",
       "    <tr>\n",
       "      <th>std</th>\n",
       "      <td>180938.617261</td>\n",
       "      <td>11782.581172</td>\n",
       "      <td>85.143989</td>\n",
       "      <td>28.686929</td>\n",
       "      <td>23.675404</td>\n",
       "      <td>21.230737</td>\n",
       "      <td>3667.545385</td>\n",
       "    </tr>\n",
       "    <tr>\n",
       "      <th>min</th>\n",
       "      <td>401.000000</td>\n",
       "      <td>5.000000</td>\n",
       "      <td>-3125.000000</td>\n",
       "      <td>0.000000</td>\n",
       "      <td>0.000000</td>\n",
       "      <td>0.000000</td>\n",
       "      <td>0.000000</td>\n",
       "    </tr>\n",
       "    <tr>\n",
       "      <th>25%</th>\n",
       "      <td>544228.000000</td>\n",
       "      <td>11430.000000</td>\n",
       "      <td>2.000000</td>\n",
       "      <td>3.970000</td>\n",
       "      <td>3.187960</td>\n",
       "      <td>2.833333</td>\n",
       "      <td>502.070000</td>\n",
       "    </tr>\n",
       "    <tr>\n",
       "      <th>50%</th>\n",
       "      <td>551127.000000</td>\n",
       "      <td>24781.000000</td>\n",
       "      <td>5.000000</td>\n",
       "      <td>8.190000</td>\n",
       "      <td>6.671038</td>\n",
       "      <td>6.007989</td>\n",
       "      <td>1076.750000</td>\n",
       "    </tr>\n",
       "    <tr>\n",
       "      <th>75%</th>\n",
       "      <td>558739.000000</td>\n",
       "      <td>32304.000000</td>\n",
       "      <td>12.000000</td>\n",
       "      <td>18.820000</td>\n",
       "      <td>15.223790</td>\n",
       "      <td>13.530400</td>\n",
       "      <td>2341.640000</td>\n",
       "    </tr>\n",
       "    <tr>\n",
       "      <th>max</th>\n",
       "      <td>566082.000000</td>\n",
       "      <td>38229.000000</td>\n",
       "      <td>9764.000000</td>\n",
       "      <td>1169.000000</td>\n",
       "      <td>974.762703</td>\n",
       "      <td>880.340302</td>\n",
       "      <td>178016.720000</td>\n",
       "    </tr>\n",
       "  </tbody>\n",
       "</table>\n",
       "</div>"
      ],
      "text/plain": [
       "       Numero nota fiscal  Código produto  Quantidade do produto  \\\n",
       "count       336739.000000   336739.000000          336739.000000   \n",
       "mean        480532.632603    22071.594784              15.671684   \n",
       "std         180938.617261    11782.581172              85.143989   \n",
       "min            401.000000        5.000000           -3125.000000   \n",
       "25%         544228.000000    11430.000000               2.000000   \n",
       "50%         551127.000000    24781.000000               5.000000   \n",
       "75%         558739.000000    32304.000000              12.000000   \n",
       "max         566082.000000    38229.000000            9764.000000   \n",
       "\n",
       "       Valor unitário    Preço venda  Preço de custo  Valor da nota  \n",
       "count   336739.000000  336739.000000   334515.000000  333994.000000  \n",
       "mean        15.853359      13.092898       11.769463    2087.380438  \n",
       "std         28.686929      23.675404       21.230737    3667.545385  \n",
       "min          0.000000       0.000000        0.000000       0.000000  \n",
       "25%          3.970000       3.187960        2.833333     502.070000  \n",
       "50%          8.190000       6.671038        6.007989    1076.750000  \n",
       "75%         18.820000      15.223790       13.530400    2341.640000  \n",
       "max       1169.000000     974.762703      880.340302  178016.720000  "
      ]
     },
     "execution_count": 7,
     "metadata": {},
     "output_type": "execute_result"
    }
   ],
   "source": [
    "df_vendas.describe()"
   ]
  },
  {
   "cell_type": "code",
   "execution_count": 8,
   "id": "0a18a2c6",
   "metadata": {},
   "outputs": [
    {
     "name": "stdout",
     "output_type": "stream",
     "text": [
      "Quantidade valores Nulos\n"
     ]
    },
    {
     "data": {
      "text/plain": [
       "Numero nota fiscal          0\n",
       "Data da venda               0\n",
       "Código produto              0\n",
       "Descrição do produto        0\n",
       "Quantidade do produto       0\n",
       "Valor unitário              0\n",
       "Preço venda                 0\n",
       "Preço de custo           2224\n",
       "Valor da nota            2745\n",
       "dtype: int64"
      ]
     },
     "execution_count": 8,
     "metadata": {},
     "output_type": "execute_result"
    }
   ],
   "source": [
    "print(\"Quantidade valores Nulos\")\n",
    "df_vendas.isnull().sum()"
   ]
  },
  {
   "cell_type": "code",
   "execution_count": 9,
   "id": "67c69fd3",
   "metadata": {},
   "outputs": [
    {
     "name": "stdout",
     "output_type": "stream",
     "text": [
      "Quantidade de valores zerados\n",
      "\n",
      "Numero nota fiscal contém 0 zeros\n",
      "\n",
      "Código produto contém 0 zeros\n",
      "\n",
      "Quantidade do produto contém 1749 zeros\n",
      "\n",
      "Valor unitário contém 2017 zeros\n",
      "\n",
      "Preço venda contém 1916 zeros\n",
      "\n",
      "Preço de custo contém 1 zeros\n",
      "\n",
      "Valor da nota contém 1108 zeros\n"
     ]
    }
   ],
   "source": [
    "print(\"Quantidade de valores zerados\")\n",
    "colunas_numericas = df_vendas.select_dtypes(include='number')\n",
    "for coluna in colunas_numericas:\n",
    "    at_zeros = (colunas_numericas[coluna] == 0).sum()\n",
    "    print(f\"\\n{coluna} contém {at_zeros} zeros\")\n",
    "\n"
   ]
  },
  {
   "cell_type": "code",
   "execution_count": 10,
   "id": "5b87289f",
   "metadata": {},
   "outputs": [
    {
     "name": "stdout",
     "output_type": "stream",
     "text": [
      "Quantidade de valores negativos\n",
      "\n",
      "Numero nota fiscal contém 0 negativos\n",
      "\n",
      "Código produto contém 0 negativos\n",
      "\n",
      "Quantidade do produto contém 459 negativos\n",
      "\n",
      "Valor unitário contém 0 negativos\n",
      "\n",
      "Preço venda contém 0 negativos\n",
      "\n",
      "Preço de custo contém 0 negativos\n",
      "\n",
      "Valor da nota contém 0 negativos\n"
     ]
    }
   ],
   "source": [
    "print(\"Quantidade de valores negativos\")\n",
    "for rotulo in colunas_numericas:\n",
    "    qt_negativos = (colunas_numericas[rotulo] < 0).sum()\n",
    "    print(f\"\\n{rotulo} contém {qt_negativos} negativos\")"
   ]
  },
  {
   "cell_type": "markdown",
   "id": "8aa7734d",
   "metadata": {},
   "source": [
    "### Análise de Consistência e Decisões - Base de Vendas\n",
    "\n",
    "#### **Regras de Negócio Validadas**\n",
    "| Regra | Descrição | Impacto no Modelo |\n",
    "|-------|-----------|-------------------|\n",
    "| **Cálculo do Valor por Item** | `Valor unitário` × `Quantidade produto` = Valor total do produto na nota. | Garante a correta agregação dos valores por item. |\n",
    "| **Cálculo do Valor da Nota** | Somatório do valor total de todos os itens = `Valor da nota`. | Notas com divergência serão sinalizadas para revisão. |\n",
    "| **Exclusão de Campo** | `Preço venda` será removido do modelo por ser apenas uma sugestão comercial. | Reduz ruídos e simplifica a análise de preços reais. |\n",
    "\n",
    "---\n",
    "\n",
    "#### **Problemas Identificados e Impactos**\n",
    "\n",
    "1. **Preço de Custo Nulo**  \n",
    "   - **Ocorrências**: 2.224 registros sem `Preço de custo`.  \n",
    "   - **Análise**:  \n",
    "     - Produtos, categorias e marcas afetadas serão priorizadas por volume de vendas.  \n",
    "     - Impacta o cálculo de margem de lucro para **itens em múltiplas notas fiscais**.  \n",
    "\n",
    "2. **Notas com Valores Zerados**  \n",
    "   | Campo Zerado | Ocorrências | Impacto |\n",
    "   |-------------|------------|---------|\n",
    "   | `Quantidade produto` | 1.749 | Itens inválidos (exclusão necessária). |\n",
    "   | `Valor unitário` | 2.017 | Distorção no valor total da nota. |  \n",
    "   - **Decisão**: Registros com esses campos zerados serão **excluídos** do modelo.  \n",
    "\n",
    "3. **Valores Negativos**  \n",
    "   - **Ocorrências**: 459 registros com `Quantidade produto` negativa.  \n",
    "   - **Ação**: Serão excluidos da base, mas **exportados** para serem analisados separadamente.  \n",
    "\n",
    "---\n",
    "\n",
    "#### **Resumo de Ações para o Modelo**\n",
    "| Etapa | Decisão | Justificativa |\n",
    "|-------|---------|---------------|\n",
    "| **Padronização** | Validar `Valor da nota` vs. somatório dos itens. | Garantir integridade financeira. |\n",
    "| **Limpeza** | Excluir registros com `Quantidade produto` ≤ 0 ou `Valor unitário` = 0. | 0.5% total de notas impactadas Evitar distorções nas recomendações. |\n",
    "| **Substituição** | Preencher `Preço de custo` nulo com valores da base de estoque. | Permitir cálculo de margem. |\n",
    "| **Exclusão** | Remover `Preço venda` (campo não confiável). | Foco em dados reais de transação. |"
   ]
  },
  {
   "cell_type": "code",
   "execution_count": 11,
   "metadata": {},
   "outputs": [
    {
     "name": "stdout",
     "output_type": "stream",
     "text": [
      "🔍 459 registros negativos afetam 49 notas fiscais e 337 produtos distintos.\n",
      "\n",
      "📊 Produtos com quantidades negativas:\n"
     ]
    },
    {
     "data": {
      "text/html": [
       "<div>\n",
       "<style scoped>\n",
       "    .dataframe tbody tr th:only-of-type {\n",
       "        vertical-align: middle;\n",
       "    }\n",
       "\n",
       "    .dataframe tbody tr th {\n",
       "        vertical-align: top;\n",
       "    }\n",
       "\n",
       "    .dataframe thead th {\n",
       "        text-align: right;\n",
       "    }\n",
       "</style>\n",
       "<table border=\"1\" class=\"dataframe\">\n",
       "  <thead>\n",
       "    <tr style=\"text-align: right;\">\n",
       "      <th></th>\n",
       "      <th>Total_Quantidade_Negativa</th>\n",
       "      <th>Ocorrencias</th>\n",
       "    </tr>\n",
       "    <tr>\n",
       "      <th>Descrição do produto</th>\n",
       "      <th></th>\n",
       "      <th></th>\n",
       "    </tr>\n",
       "  </thead>\n",
       "  <tbody>\n",
       "    <tr>\n",
       "      <th>COPO 150ML TR C/100 FC</th>\n",
       "      <td>-3125.0</td>\n",
       "      <td>1</td>\n",
       "    </tr>\n",
       "    <tr>\n",
       "      <th>COLHER REF BR C/50 PRAFESTA 7024</th>\n",
       "      <td>-1400.0</td>\n",
       "      <td>2</td>\n",
       "    </tr>\n",
       "    <tr>\n",
       "      <th>COLHER SOB BR C/50 STRAW CSB620</th>\n",
       "      <td>-986.0</td>\n",
       "      <td>2</td>\n",
       "    </tr>\n",
       "    <tr>\n",
       "      <th>VELA ESTRELA PRATA C/4 TOP FESTAS</th>\n",
       "      <td>-720.0</td>\n",
       "      <td>2</td>\n",
       "    </tr>\n",
       "    <tr>\n",
       "      <th>PANO CHAO CRU 40X58 L3P2 ALGOBOM</th>\n",
       "      <td>-608.0</td>\n",
       "      <td>2</td>\n",
       "    </tr>\n",
       "    <tr>\n",
       "      <th>...</th>\n",
       "      <td>...</td>\n",
       "      <td>...</td>\n",
       "    </tr>\n",
       "    <tr>\n",
       "      <th>BL BINGO JORNAL 100F SERIE 16-30 TAMOIO</th>\n",
       "      <td>-1.0</td>\n",
       "      <td>1</td>\n",
       "    </tr>\n",
       "    <tr>\n",
       "      <th>BL REC 38X50 AM C/4 100F NOTEFIX 3M NFX3</th>\n",
       "      <td>-1.0</td>\n",
       "      <td>1</td>\n",
       "    </tr>\n",
       "    <tr>\n",
       "      <th>SABONETE ERVA DOCE 5L BEM LIMPIM</th>\n",
       "      <td>-1.0</td>\n",
       "      <td>1</td>\n",
       "    </tr>\n",
       "    <tr>\n",
       "      <th>TINTA GUACHE AM OU 250ML ACRILEX 505</th>\n",
       "      <td>-1.0</td>\n",
       "      <td>1</td>\n",
       "    </tr>\n",
       "    <tr>\n",
       "      <th>ACENDEDOR MULTIUSO HANDY BIC 871354</th>\n",
       "      <td>-1.0</td>\n",
       "      <td>1</td>\n",
       "    </tr>\n",
       "  </tbody>\n",
       "</table>\n",
       "<p>337 rows × 2 columns</p>\n",
       "</div>"
      ],
      "text/plain": [
       "                                          Total_Quantidade_Negativa  \\\n",
       "Descrição do produto                                                  \n",
       "COPO 150ML TR C/100 FC                                      -3125.0   \n",
       "COLHER REF BR C/50 PRAFESTA 7024                            -1400.0   \n",
       "COLHER SOB BR C/50 STRAW CSB620                              -986.0   \n",
       "VELA ESTRELA PRATA C/4 TOP FESTAS                            -720.0   \n",
       "PANO CHAO CRU 40X58 L3P2 ALGOBOM                             -608.0   \n",
       "...                                                             ...   \n",
       "BL BINGO JORNAL 100F SERIE 16-30 TAMOIO                        -1.0   \n",
       "BL REC 38X50 AM C/4 100F NOTEFIX 3M NFX3                       -1.0   \n",
       "SABONETE ERVA DOCE 5L BEM LIMPIM                               -1.0   \n",
       "TINTA GUACHE AM OU 250ML ACRILEX 505                           -1.0   \n",
       "ACENDEDOR MULTIUSO HANDY BIC 871354                            -1.0   \n",
       "\n",
       "                                          Ocorrencias  \n",
       "Descrição do produto                                   \n",
       "COPO 150ML TR C/100 FC                              1  \n",
       "COLHER REF BR C/50 PRAFESTA 7024                    2  \n",
       "COLHER SOB BR C/50 STRAW CSB620                     2  \n",
       "VELA ESTRELA PRATA C/4 TOP FESTAS                   2  \n",
       "PANO CHAO CRU 40X58 L3P2 ALGOBOM                    2  \n",
       "...                                               ...  \n",
       "BL BINGO JORNAL 100F SERIE 16-30 TAMOIO             1  \n",
       "BL REC 38X50 AM C/4 100F NOTEFIX 3M NFX3            1  \n",
       "SABONETE ERVA DOCE 5L BEM LIMPIM                    1  \n",
       "TINTA GUACHE AM OU 250ML ACRILEX 505                1  \n",
       "ACENDEDOR MULTIUSO HANDY BIC 871354                 1  \n",
       "\n",
       "[337 rows x 2 columns]"
      ]
     },
     "metadata": {},
     "output_type": "display_data"
    }
   ],
   "source": [
    "# Filtrar apenas as linhas com quantidade negativa\n",
    "df_negativos = df_vendas[df_vendas['Quantidade do produto'] < 0]\n",
    "\n",
    "# Contar produtos únicos e notas fiscais impactadas\n",
    "total_produtos_negativos = df_negativos['Descrição do produto'].nunique()\n",
    "total_notas_impactadas = df_negativos['Numero nota fiscal'].nunique()\n",
    "\n",
    "# Agrupar por produto para ver a distribuição\n",
    "analise_produtos = df_negativos.groupby('Descrição do produto').agg(\n",
    "    Total_Quantidade_Negativa=('Quantidade do produto', 'sum'),\n",
    "    Ocorrencias=('Quantidade do produto', 'count')\n",
    ").sort_values('Total_Quantidade_Negativa')\n",
    "\n",
    "print(f\"🔍 {len(df_negativos)} registros negativos afetam {total_notas_impactadas} notas fiscais e {total_produtos_negativos} produtos distintos.\\n\")\n",
    "print(\"📊 Produtos com quantidades negativas:\")\n",
    "display(analise_produtos)"
   ]
  },
  {
   "cell_type": "code",
   "execution_count": 12,
   "id": "85803a0c",
   "metadata": {},
   "outputs": [],
   "source": [
    "# gardando base com valores negativos para uma análise posterior\n",
    "analise_produtos.to_excel(\"produtos_com_quantidade_negativa.xlsx\")"
   ]
  },
  {
   "cell_type": "code",
   "execution_count": null,
   "metadata": {},
   "outputs": [
    {
     "name": "stdout",
     "output_type": "stream",
     "text": [
      "📊 Análise de Valores Zerados:\n",
      "\n",
      "1. Quantidade do produto:\n",
      "- Registros zerados: 1749\n",
      "- Produtos impactados: 1\n",
      "- Notas fiscais impactadas: 40\n",
      "\n",
      "2. Valor unitário:\n",
      "- Registros zerados: 2017\n",
      "- Produtos impactados: 29\n",
      "- Notas fiscais impactadas: 101\n"
     ]
    }
   ],
   "source": [
    "# Contagem para 'Quantidade do produto' zerada\n",
    "qtde_zeros = (df_vendas['Quantidade do produto'] == 0).sum()\n",
    "produtos_qtde_zero = df_vendas[df_vendas['Quantidade do produto'] == 0]['Quantidade do produto'].nunique()\n",
    "notas_qtde_zero = df_vendas[df_vendas['Quantidade do produto'] == 0]['Numero nota fiscal'].nunique()\n",
    "\n",
    "# Contagem para 'Valor unitário' zerado\n",
    "valor_zeros = (df_vendas['Valor unitário'] == 0).sum()\n",
    "produtos_valor_zero = df_vendas[df_vendas['Valor unitário'] == 0]['Quantidade do produto'].nunique()\n",
    "notas_valor_zero = df_vendas[df_vendas['Valor unitário'] == 0]['Numero nota fiscal'].nunique()\n",
    "\n",
    "# Resultado\n",
    "print(\"📊 Análise de Valores Zerados:\")\n",
    "print(f\"\\n1. Quantidade do produto:\")\n",
    "print(f\"- Registros zerados: {qtde_zeros}\")\n",
    "print(f\"- Produtos impactados: {produtos_qtde_zero}\")\n",
    "print(f\"- Notas fiscais impactadas: {notas_qtde_zero}\")\n",
    "\n",
    "print(f\"\\n2. Valor unitário:\")\n",
    "print(f\"- Registros zerados: {valor_zeros}\")\n",
    "print(f\"- Produtos impactados: {produtos_valor_zero}\")\n",
    "print(f\"- Notas fiscais impactadas: {notas_valor_zero}\")"
   ]
  },
  {
   "cell_type": "code",
   "execution_count": 14,
   "id": "f4feb555",
   "metadata": {},
   "outputs": [
    {
     "name": "stdout",
     "output_type": "stream",
     "text": [
      "📊 Notas fiscais removidas: 150/30521 (0.5%)\n",
      "📦 Registros originais: 336739\n",
      "🧹 Registros após limpeza: 333804\n",
      "🚮 Registros removidos: 2935\n"
     ]
    }
   ],
   "source": [
    "# 1. Identificar notas fiscais problemáticas\n",
    "notas_com_problemas = set()\n",
    "\n",
    "# Notas com quantidades negativas\n",
    "notas_com_problemas.update(\n",
    "    df_vendas[df_vendas['Quantidade do produto'] < 0]['Numero nota fiscal'].unique()\n",
    ")\n",
    "\n",
    "# Notas com quantidades zeradas\n",
    "notas_com_problemas.update(\n",
    "    df_vendas[df_vendas['Quantidade do produto'] == 0]['Numero nota fiscal'].unique()\n",
    ")\n",
    "\n",
    "# Notas com valores unitários zerados\n",
    "notas_com_problemas.update(\n",
    "    df_vendas[df_vendas['Valor unitário'] == 0]['Numero nota fiscal'].unique()\n",
    ")\n",
    "\n",
    "# 2. Filtrar para manter APENAS notas SEM problemas\n",
    "df_venda_limpo = df_vendas[~df_vendas['Numero nota fiscal'].isin(notas_com_problemas)].copy()\n",
    "\n",
    "# 3. Análise de impacto\n",
    "total_notas_originais = df_vendas['Numero nota fiscal'].nunique()\n",
    "total_notas_limpas = df_venda_limpo['Numero nota fiscal'].nunique()\n",
    "notas_removidas = total_notas_originais - total_notas_limpas\n",
    "\n",
    "print(f\"📊 Notas fiscais removidas: {notas_removidas}/{total_notas_originais} ({notas_removidas/total_notas_originais:.1%})\")\n",
    "print(f\"📦 Registros originais: {len(df_vendas)}\")\n",
    "print(f\"🧹 Registros após limpeza: {len(df_venda_limpo)}\")\n",
    "print(f\"🚮 Registros removidos: {len(df_vendas) - len(df_venda_limpo)}\")"
   ]
  },
  {
   "cell_type": "code",
   "execution_count": 15,
   "id": "3c6f0c54",
   "metadata": {},
   "outputs": [
    {
     "data": {
      "text/plain": [
       "Numero nota fiscal        30371\n",
       "Data da venda               134\n",
       "Código produto             9280\n",
       "Descrição do produto       9105\n",
       "Quantidade do produto       494\n",
       "Valor unitário            16560\n",
       "Preço venda              126645\n",
       "Preço de custo             9689\n",
       "Valor da nota             26163\n",
       "dtype: int64"
      ]
     },
     "execution_count": 15,
     "metadata": {},
     "output_type": "execute_result"
    }
   ],
   "source": [
    "df_venda_limpo.nunique()"
   ]
  },
  {
   "cell_type": "code",
   "execution_count": 16,
   "id": "b69653fa",
   "metadata": {},
   "outputs": [
    {
     "name": "stdout",
     "output_type": "stream",
     "text": [
      "🚨 0 códigos com múltiplas descrições:\n"
     ]
    },
    {
     "data": {
      "text/plain": [
       "Series([], Name: Descrição do produto, dtype: int64)"
      ]
     },
     "metadata": {},
     "output_type": "display_data"
    },
    {
     "name": "stdout",
     "output_type": "stream",
     "text": [
      "\n",
      "🔍 0 códigos sem descrição cadastrada.\n",
      "\n",
      "📊 Relação Código-Descrição:\n",
      "- Códigos únicos: 9434\n",
      "- Descrições únicas: 9257\n",
      "- Diferença: 177\n"
     ]
    }
   ],
   "source": [
    "# 1. Verificar códigos com múltiplas descrições (problema grave)\n",
    "codigos_problematicos = df_vendas.groupby('Código produto')['Descrição do produto'].nunique()\n",
    "codigos_com_erro = codigos_problematicos[codigos_problematicos > 1]\n",
    "\n",
    "print(f\"🚨 {len(codigos_com_erro)} códigos com múltiplas descrições:\")\n",
    "display(codigos_com_erro.head())\n",
    "\n",
    "# 2. Verificar códigos sem descrição (ausência de cadastro)\n",
    "codigos_sem_descricao = df_vendas[df_vendas['Descrição do produto'].isna()]['Código produto'].nunique()\n",
    "print(f\"\\n🔍 {codigos_sem_descricao} códigos sem descrição cadastrada.\")\n",
    "\n",
    "# 3. Análise de correspondência\n",
    "print(\"\\n📊 Relação Código-Descrição:\")\n",
    "print(f\"- Códigos únicos: {df_vendas['Código produto'].nunique()}\")\n",
    "print(f\"- Descrições únicas: {df_vendas['Descrição do produto'].nunique()}\")\n",
    "print(f\"- Diferença: {df_vendas['Código produto'].nunique() - df_vendas['Descrição do produto'].nunique()}\")"
   ]
  },
  {
   "cell_type": "code",
   "execution_count": 17,
   "id": "1ea39d79",
   "metadata": {},
   "outputs": [
    {
     "name": "stdout",
     "output_type": "stream",
     "text": [
      "🔍 84 descrições associadas a múltiplos códigos.\n"
     ]
    }
   ],
   "source": [
    "# Agrupa descrições e conta quantos códigos únicos cada uma tem\n",
    "descricoes_problematicas = df_vendas.groupby('Descrição do produto')['Código produto'].nunique()\n",
    "descricoes_problematicas = descricoes_problematicas[descricoes_problematicas > 1].index.tolist()\n",
    "\n",
    "print(f\"🔍 {len(descricoes_problematicas)} descrições associadas a múltiplos códigos.\")"
   ]
  },
  {
   "cell_type": "code",
   "execution_count": 18,
   "id": "aac72ef4",
   "metadata": {},
   "outputs": [],
   "source": [
    "# Filtra o DataFrame para manter apenas registros com descrições problemáticas\n",
    "df_problema = df_vendas[df_vendas['Descrição do produto'].isin(descricoes_problematicas)]"
   ]
  },
  {
   "cell_type": "code",
   "execution_count": 19,
   "id": "17de21c9",
   "metadata": {},
   "outputs": [
    {
     "name": "stdout",
     "output_type": "stream",
     "text": [
      "📊 Notas fiscais impactadas: 3546/30521 (11.6%)\n"
     ]
    }
   ],
   "source": [
    "# Conta quantas notas fiscais únicas contêm esses registros\n",
    "notas_impactadas = df_problema['Numero nota fiscal'].nunique()\n",
    "total_notas = df_vendas['Numero nota fiscal'].nunique()\n",
    "\n",
    "print(f\"📊 Notas fiscais impactadas: {notas_impactadas}/{total_notas} ({notas_impactadas/total_notas:.1%})\")"
   ]
  },
  {
   "cell_type": "code",
   "execution_count": 20,
   "id": "a516e7f1",
   "metadata": {},
   "outputs": [],
   "source": [
    "df_problema.to_excel(\"notas_com_descricoes_ambiguas.xlsx\", index=False)"
   ]
  },
  {
   "cell_type": "code",
   "execution_count": 21,
   "id": "438c6a65",
   "metadata": {},
   "outputs": [],
   "source": [
    "# 1. Encontre descrições associadas a múltiplos códigos\n",
    "descricoes_ambiguas = df_vendas.groupby('Descrição do produto')['Código produto'].nunique()\n",
    "descricoes_ambiguas = descricoes_ambiguas[descricoes_ambiguas > 1].index.tolist()\n",
    "\n",
    "# 2. Filtre as notas fiscais que contêm essas descrições\n",
    "notas_com_problemas = df_vendas[df_vendas['Descrição do produto'].isin(descricoes_ambiguas)]['Numero nota fiscal'].unique()"
   ]
  },
  {
   "cell_type": "code",
   "execution_count": 22,
   "id": "f3b5f236",
   "metadata": {},
   "outputs": [],
   "source": [
    "# 3. Crie um novo DataFrame EXCLUINDO as notas problemáticas\n",
    "df_vendas_limpo = df_vendas[~df_vendas['Numero nota fiscal'].isin(notas_com_problemas)].copy()"
   ]
  },
  {
   "cell_type": "code",
   "execution_count": 23,
   "id": "5eacd1ed",
   "metadata": {},
   "outputs": [
    {
     "name": "stdout",
     "output_type": "stream",
     "text": [
      "🔍 84 descrições ambíguas encontradas.\n",
      "📊 Notas fiscais removidas: 3546/30521 (11.62%)\n",
      "📦 Registros originais: 336739\n",
      "🧹 Registros após limpeza: 249032\n"
     ]
    }
   ],
   "source": [
    "# 4. Calcule o impacto\n",
    "total_notas_originais = df_vendas['Numero nota fiscal'].nunique()\n",
    "total_notas_limpas = df_vendas_limpo['Numero nota fiscal'].nunique()\n",
    "notas_removidas = total_notas_originais - total_notas_limpas\n",
    "\n",
    "print(f\"🔍 {len(descricoes_ambiguas)} descrições ambíguas encontradas.\")\n",
    "print(f\"📊 Notas fiscais removidas: {notas_removidas}/{total_notas_originais} ({notas_removidas/total_notas_originais:.2%})\")\n",
    "print(f\"📦 Registros originais: {len(df_vendas)}\")\n",
    "print(f\"🧹 Registros após limpeza: {len(df_vendas_limpo)}\")"
   ]
  },
  {
   "cell_type": "code",
   "execution_count": 24,
   "id": "a31c9fa1",
   "metadata": {},
   "outputs": [],
   "source": [
    "# Tratar o valor da nota, somatório de quantidade de produto * valor unitário\n",
    "# calcular o valor total de cada produto por nota\n",
    "df_vendas_limpo[\"Valor total produto\"] = (df_venda_limpo[\"Quantidade do produto\"] * df_venda_limpo[\"Valor unitário\"]).round(2)"
   ]
  },
  {
   "cell_type": "code",
   "execution_count": 25,
   "id": "8469966d",
   "metadata": {},
   "outputs": [
    {
     "name": "stdout",
     "output_type": "stream",
     "text": [
      "✅ Valores atualizados com sucesso!\n",
      "Total de notas fiscais processadas: 26975\n"
     ]
    }
   ],
   "source": [
    "# Passo 1: Calcular o valor total por nota fiscal\n",
    "valor_por_nota = df_vendas_limpo.groupby('Numero nota fiscal')['Valor total produto'].sum().round(2)\n",
    "\n",
    "# Passo 2: Mapear esse valor de volta para a coluna 'Valor da nota'\n",
    "df_vendas_limpo['Valor da nota'] = df_vendas_limpo['Numero nota fiscal'].map(valor_por_nota)\n",
    "\n",
    "# Verificação (opcional)\n",
    "print(\"✅ Valores atualizados com sucesso!\")\n",
    "print(f\"Total de notas fiscais processadas: {len(valor_por_nota)}\")"
   ]
  },
  {
   "cell_type": "code",
   "execution_count": 26,
   "id": "cfcc52e5",
   "metadata": {},
   "outputs": [],
   "source": [
    "df_vendas_limpo = df_vendas_limpo[[\"Numero nota fiscal\", \"Data da venda\", \"Código produto\", \"Descrição do produto\", \"Quantidade do produto\", \"Valor unitário\", \"Preço de custo\", \"Valor total produto\", \"Valor da nota\"]]"
   ]
  },
  {
   "cell_type": "code",
   "execution_count": 27,
   "id": "96f0195c",
   "metadata": {},
   "outputs": [],
   "source": [
    "# Arredonda as colunas específicas para 2 casas decimais\n",
    "df_vendas_limpo['Valor unitário'] = df_vendas_limpo['Valor unitário'].round(2)\n",
    "df_vendas_limpo['Preço de custo'] = df_vendas_limpo['Preço de custo'].round(2)"
   ]
  },
  {
   "cell_type": "code",
   "execution_count": 28,
   "id": "0b5b19c7",
   "metadata": {},
   "outputs": [],
   "source": [
    "df_vendas_limpo.to_excel(\"bases/bases_limpas/base_notas_limpa.xlsx\", index=False)"
   ]
  },
  {
   "cell_type": "code",
   "execution_count": 37,
   "id": "365054d9",
   "metadata": {},
   "outputs": [
    {
     "data": {
      "text/plain": [
       "Numero nota fiscal       26975\n",
       "Data da venda              135\n",
       "Código produto            8735\n",
       "Descrição do produto      8735\n",
       "Quantidade do produto      506\n",
       "Valor unitário            9028\n",
       "Preço de custo            3621\n",
       "Valor total produto      23828\n",
       "Valor da nota            22506\n",
       "dtype: int64"
      ]
     },
     "execution_count": 37,
     "metadata": {},
     "output_type": "execute_result"
    }
   ],
   "source": [
    "df_vendas_limpo.nunique()"
   ]
  }
 ],
 "metadata": {
  "kernelspec": {
   "display_name": "venv",
   "language": "python",
   "name": "python3"
  },
  "language_info": {
   "codemirror_mode": {
    "name": "ipython",
    "version": 3
   },
   "file_extension": ".py",
   "mimetype": "text/x-python",
   "name": "python",
   "nbconvert_exporter": "python",
   "pygments_lexer": "ipython3",
   "version": "3.13.1"
  }
 },
 "nbformat": 4,
 "nbformat_minor": 5
}
