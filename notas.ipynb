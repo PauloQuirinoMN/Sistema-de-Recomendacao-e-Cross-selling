{
 "cells": [
  {
   "cell_type": "code",
   "execution_count": 2,
   "id": "e69f3275",
   "metadata": {},
   "outputs": [],
   "source": [
    "import pandas as pd"
   ]
  },
  {
   "cell_type": "code",
   "execution_count": null,
   "id": "369a0ab3",
   "metadata": {},
   "outputs": [
    {
     "ename": "AttributeError",
     "evalue": "module 'pandas' has no attribute 'head_execel'",
     "output_type": "error",
     "traceback": [
      "\u001b[31m---------------------------------------------------------------------------\u001b[39m",
      "\u001b[31mAttributeError\u001b[39m                            Traceback (most recent call last)",
      "\u001b[36mCell\u001b[39m\u001b[36m \u001b[39m\u001b[32mIn[3]\u001b[39m\u001b[32m, line 1\u001b[39m\n\u001b[32m----> \u001b[39m\u001b[32m1\u001b[39m base_vendas = \u001b[43mpd\u001b[49m\u001b[43m.\u001b[49m\u001b[43mhead_execel\u001b[49m(\u001b[33m'\u001b[39m\u001b[33mbases/relatorio_notas.xlsx\u001b[39m\u001b[33m'\u001b[39m)\n\u001b[32m      2\u001b[39m display(base_vendas)\n",
      "\u001b[31mAttributeError\u001b[39m: module 'pandas' has no attribute 'head_execel'"
     ]
    }
   ],
   "source": [
    "base_vendas = pd.read_excel('bases/relatorio_notas.xlsx')\n",
    "display(base_vendas)"
   ]
  }
 ],
 "metadata": {
  "kernelspec": {
   "display_name": "venv",
   "language": "python",
   "name": "python3"
  },
  "language_info": {
   "codemirror_mode": {
    "name": "ipython",
    "version": 3
   },
   "file_extension": ".py",
   "mimetype": "text/x-python",
   "name": "python",
   "nbconvert_exporter": "python",
   "pygments_lexer": "ipython3",
   "version": "3.13.1"
  }
 },
 "nbformat": 4,
 "nbformat_minor": 5
}
