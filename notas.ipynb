{
 "cells": [
  {
   "cell_type": "markdown",
   "id": "6a809bad",
   "metadata": {},
   "source": [
    "### Limpeza da base de dados de notas fiscais\n",
    "\n",
    "\n",
    "### Descrição das Colunas - Base de Notas Fiscais\n",
    "\n",
    "| Nome da Coluna           | Descrição                                                                                  | Exemplo                                                                 |\n",
    "|--------------------------|-------------------------------------------------------------------------------------------|-------------------------------------------------------------------------|\n",
    "| **Numero nota fiscal**   | Identificador único da nota fiscal (documento fiscal).                                    | `566082`                                                               |\n",
    "| **Data da venda**        | Data de emissão da nota fiscal (formato DD/MM/AAAA).                                      | `17/06/2025`                                                           |\n",
    "| **Código produto**       | Código único do produto vendido (deve corresponder ao `Código` na base de estoque).       | `33932`, `241`                                                         |\n",
    "| **Descrição do produto** | Nome/descrição do produto conforme registrado na nota fiscal.                             | `\"ENV 229X324 OU C/100 FILIPERSON\"`, `\"PASTA AZ OF LE TIGRADA FRAMA\"`  |\n",
    "| **Quantidade do produto**| Quantidade vendida do produto (unidades, caixas, kg, etc.).                              | `2.0`, `40.0`                                                          |\n",
    "| **Valor unitário**       | Preço unitário do produto no momento da venda (sem descontos/acréscimos).                | `33.000000`, `9.450000`                                                |\n",
    "| **Preço venda**          | Preço mínimo de venda sugerido.                  | `27.476514`, `8.863195`                                                |\n",
    "| **Preço de custo**       | Custo unitário do produto no momento da compra (o custo da empresa para adquirir).                  | `24.409041`, `7.605561`                                                |\n",
    "| **Valor da nota**        | Valor total da nota fiscal (somatório de todos os itens + impostos/fretes, se aplicável).| `3895.94`                                                              |\n"
   ]
  },
  {
   "cell_type": "code",
   "execution_count": null,
   "id": "e69f3275",
   "metadata": {},
   "outputs": [],
   "source": [
    "import pandas as pd"
   ]
  },
  {
   "cell_type": "code",
   "execution_count": null,
   "id": "369a0ab3",
   "metadata": {},
   "outputs": [],
   "source": [
    "df_vendas = pd.read_excel('bases/relatorio_notas.xlsx')"
   ]
  },
  {
   "cell_type": "markdown",
   "id": "74773fd4",
   "metadata": {},
   "source": [
    "### Propriedades da base"
   ]
  },
  {
   "cell_type": "code",
   "execution_count": null,
   "id": "c384d0e2",
   "metadata": {},
   "outputs": [],
   "source": [
    "print(f\"Formato dos dados {df_vendas.shape}\")"
   ]
  },
  {
   "cell_type": "code",
   "execution_count": null,
   "id": "a76f386f",
   "metadata": {},
   "outputs": [],
   "source": [
    "len(df_vendas[\"Numero nota fiscal\"].unique())"
   ]
  },
  {
   "cell_type": "code",
   "execution_count": null,
   "id": "f597d54b",
   "metadata": {},
   "outputs": [],
   "source": [
    "df_vendas.columns.tolist()"
   ]
  },
  {
   "cell_type": "code",
   "execution_count": null,
   "id": "ac7dcae6",
   "metadata": {},
   "outputs": [],
   "source": [
    "df_vendas.head()"
   ]
  },
  {
   "cell_type": "code",
   "execution_count": null,
   "id": "9f639342",
   "metadata": {},
   "outputs": [],
   "source": [
    "df_vendas.dtypes"
   ]
  },
  {
   "cell_type": "code",
   "execution_count": null,
   "id": "913e79fa",
   "metadata": {},
   "outputs": [],
   "source": [
    "df_vendas.describe()"
   ]
  },
  {
   "cell_type": "code",
   "execution_count": null,
   "id": "0a18a2c6",
   "metadata": {},
   "outputs": [],
   "source": [
    "print(\"Quantidade valores Nulos\")\n",
    "df_vendas.isnull().sum()"
   ]
  },
  {
   "cell_type": "code",
   "execution_count": null,
   "id": "67c69fd3",
   "metadata": {},
   "outputs": [],
   "source": [
    "print(\"Quantidade de valores zerados\")\n",
    "colunas_numericas = df_vendas.select_dtypes(include='number')\n",
    "for coluna in colunas_numericas:\n",
    "    at_zeros = (colunas_numericas[coluna] == 0).sum()\n",
    "    print(f\"\\n{coluna} contém {at_zeros} zeros\")\n",
    "\n"
   ]
  },
  {
   "cell_type": "code",
   "execution_count": null,
   "id": "5b87289f",
   "metadata": {},
   "outputs": [],
   "source": [
    "print(\"Quantidade de valores negativos\")\n",
    "for rotulo in colunas_numericas:\n",
    "    qt_negativos = (colunas_numericas[rotulo] < 0).sum()\n",
    "    print(f\"\\n{rotulo} contém {qt_negativos} negativos\")"
   ]
  },
  {
   "cell_type": "markdown",
   "id": "8aa7734d",
   "metadata": {},
   "source": [
    "### Análise de Consistência e Decisões - Base de Vendas\n",
    "\n",
    "#### **Regras de Negócio Validadas**\n",
    "| Regra | Descrição | Impacto no Modelo |\n",
    "|-------|-----------|-------------------|\n",
    "| **Cálculo do Valor por Item** | `Valor unitário` × `Quantidade produto` = Valor total do produto na nota. | Garante a correta agregação dos valores por item. |\n",
    "| **Cálculo do Valor da Nota** | Somatório do valor total de todos os itens = `Valor da nota`. | Notas com divergência serão sinalizadas para revisão. |\n",
    "| **Exclusão de Campo** | `Preço venda` será removido do modelo por ser apenas uma sugestão comercial. | Reduz ruídos e simplifica a análise de preços reais. |\n",
    "\n",
    "---\n",
    "\n",
    "#### **Problemas Identificados e Impactos**\n",
    "\n",
    "1. **Preço de Custo Nulo**  \n",
    "   - **Ocorrências**: 2.224 registros sem `Preço de custo`.  \n",
    "   - **Análise**:  \n",
    "     - Produtos, categorias e marcas afetadas serão priorizadas por volume de vendas.  \n",
    "     - Impacta o cálculo de margem de lucro para **itens em múltiplas notas fiscais**.  \n",
    "\n",
    "2. **Notas com Valores Zerados**  \n",
    "   | Campo Zerado | Ocorrências | Impacto |\n",
    "   |-------------|------------|---------|\n",
    "   | `Quantidade produto` | 1.749 | Itens inválidos (exclusão necessária). |\n",
    "   | `Valor unitário` | 2.017 | Distorção no valor total da nota. |  \n",
    "   - **Decisão**: Registros com esses campos zerados serão **excluídos** do modelo.  \n",
    "\n",
    "3. **Valores Negativos**  \n",
    "   - **Ocorrências**: 459 registros com `Quantidade produto` negativa.  \n",
    "   - **Ação**: Serão excluidos da base, mas **exportados** para serem analisados separadamente.  \n",
    "\n",
    "---\n",
    "\n",
    "#### **Resumo de Ações para o Modelo**\n",
    "| Etapa | Decisão | Justificativa |\n",
    "|-------|---------|---------------|\n",
    "| **Padronização** | Validar `Valor da nota` vs. somatório dos itens. | Garantir integridade financeira. |\n",
    "| **Limpeza** | Excluir registros com `Quantidade produto` ≤ 0 ou `Valor unitário` = 0. | 0.5% total de notas impactadas Evitar distorções nas recomendações. |\n",
    "| **Substituição** | Preencher `Preço de custo` nulo com valores da base de estoque. | Permitir cálculo de margem. |\n",
    "| **Exclusão** | Remover `Preço venda` (campo não confiável). | Foco em dados reais de transação. |"
   ]
  },
  {
   "cell_type": "code",
   "execution_count": null,
   "metadata": {},
   "outputs": [],
   "source": [
    "# Filtrar apenas as linhas com quantidade negativa\n",
    "df_negativos = df_vendas[df_vendas['Quantidade do produto'] < 0]\n",
    "\n",
    "# Contar produtos únicos e notas fiscais impactadas\n",
    "total_produtos_negativos = df_negativos['Descrição do produto'].nunique()\n",
    "total_notas_impactadas = df_negativos['Numero nota fiscal'].nunique()\n",
    "\n",
    "# Agrupar por produto para ver a distribuição\n",
    "analise_produtos = df_negativos.groupby('Descrição do produto').agg(\n",
    "    Total_Quantidade_Negativa=('Quantidade do produto', 'sum'),\n",
    "    Ocorrencias=('Quantidade do produto', 'count')\n",
    ").sort_values('Total_Quantidade_Negativa')\n",
    "\n",
    "print(f\"🔍 {len(df_negativos)} registros negativos afetam {total_notas_impactadas} notas fiscais e {total_produtos_negativos} produtos distintos.\\n\")\n",
    "print(\"📊 Produtos com quantidades negativas:\")\n",
    "display(analise_produtos)"
   ]
  },
  {
   "cell_type": "code",
   "execution_count": null,
   "id": "85803a0c",
   "metadata": {},
   "outputs": [],
   "source": [
    "# gardando base com valores negativos para uma análise posterior\n",
    "analise_produtos.to_excel(\"produtos_com_quantidade_negativa.xlsx\")"
   ]
  },
  {
   "cell_type": "code",
   "execution_count": null,
   "metadata": {},
   "outputs": [],
   "source": [
    "# Contagem para 'Quantidade do produto' zerada\n",
    "qtde_zeros = (df_vendas['Quantidade do produto'] == 0).sum()\n",
    "produtos_qtde_zero = df_vendas[df_vendas['Quantidade do produto'] == 0]['Quantidade do produto'].nunique()\n",
    "notas_qtde_zero = df_vendas[df_vendas['Quantidade do produto'] == 0]['Numero nota fiscal'].nunique()\n",
    "\n",
    "# Contagem para 'Valor unitário' zerado\n",
    "valor_zeros = (df_vendas['Valor unitário'] == 0).sum()\n",
    "produtos_valor_zero = df_vendas[df_vendas['Valor unitário'] == 0]['Quantidade do produto'].nunique()\n",
    "notas_valor_zero = df_vendas[df_vendas['Valor unitário'] == 0]['Numero nota fiscal'].nunique()\n",
    "\n",
    "# Resultado\n",
    "print(\"📊 Análise de Valores Zerados:\")\n",
    "print(f\"\\n1. Quantidade do produto:\")\n",
    "print(f\"- Registros zerados: {qtde_zeros}\")\n",
    "print(f\"- Produtos impactados: {produtos_qtde_zero}\")\n",
    "print(f\"- Notas fiscais impactadas: {notas_qtde_zero}\")\n",
    "\n",
    "print(f\"\\n2. Valor unitário:\")\n",
    "print(f\"- Registros zerados: {valor_zeros}\")\n",
    "print(f\"- Produtos impactados: {produtos_valor_zero}\")\n",
    "print(f\"- Notas fiscais impactadas: {notas_valor_zero}\")"
   ]
  },
  {
   "cell_type": "code",
   "execution_count": null,
   "id": "f4feb555",
   "metadata": {},
   "outputs": [],
   "source": [
    "# 1. Identificar notas fiscais problemáticas\n",
    "notas_com_problemas = set()\n",
    "\n",
    "# Notas com quantidades negativas\n",
    "notas_com_problemas.update(\n",
    "    df_vendas[df_vendas['Quantidade do produto'] < 0]['Numero nota fiscal'].unique()\n",
    ")\n",
    "\n",
    "# Notas com quantidades zeradas\n",
    "notas_com_problemas.update(\n",
    "    df_vendas[df_vendas['Quantidade do produto'] == 0]['Numero nota fiscal'].unique()\n",
    ")\n",
    "\n",
    "# Notas com valores unitários zerados\n",
    "notas_com_problemas.update(\n",
    "    df_vendas[df_vendas['Valor unitário'] == 0]['Numero nota fiscal'].unique()\n",
    ")\n",
    "\n",
    "# 2. Filtrar para manter APENAS notas SEM problemas\n",
    "df_venda_limpo = df_vendas[~df_vendas['Numero nota fiscal'].isin(notas_com_problemas)].copy()\n",
    "\n",
    "# 3. Análise de impacto\n",
    "total_notas_originais = df_vendas['Numero nota fiscal'].nunique()\n",
    "total_notas_limpas = df_venda_limpo['Numero nota fiscal'].nunique()\n",
    "notas_removidas = total_notas_originais - total_notas_limpas\n",
    "\n",
    "print(f\"📊 Notas fiscais removidas: {notas_removidas}/{total_notas_originais} ({notas_removidas/total_notas_originais:.1%})\")\n",
    "print(f\"📦 Registros originais: {len(df_vendas)}\")\n",
    "print(f\"🧹 Registros após limpeza: {len(df_venda_limpo)}\")\n",
    "print(f\"🚮 Registros removidos: {len(df_vendas) - len(df_venda_limpo)}\")"
   ]
  },
  {
   "cell_type": "code",
   "execution_count": null,
   "id": "3c6f0c54",
   "metadata": {},
   "outputs": [],
   "source": [
    "df_venda_limpo.nunique()"
   ]
  },
  {
   "cell_type": "code",
   "execution_count": null,
   "id": "b69653fa",
   "metadata": {},
   "outputs": [],
   "source": [
    "# 1. Verificar códigos com múltiplas descrições (problema grave)\n",
    "codigos_problematicos = df_vendas.groupby('Código produto')['Descrição do produto'].nunique()\n",
    "codigos_com_erro = codigos_problematicos[codigos_problematicos > 1]\n",
    "\n",
    "print(f\"🚨 {len(codigos_com_erro)} códigos com múltiplas descrições:\")\n",
    "display(codigos_com_erro.head())\n",
    "\n",
    "# 2. Verificar códigos sem descrição (ausência de cadastro)\n",
    "codigos_sem_descricao = df_vendas[df_vendas['Descrição do produto'].isna()]['Código produto'].nunique()\n",
    "print(f\"\\n🔍 {codigos_sem_descricao} códigos sem descrição cadastrada.\")\n",
    "\n",
    "# 3. Análise de correspondência\n",
    "print(\"\\n📊 Relação Código-Descrição:\")\n",
    "print(f\"- Códigos únicos: {df_vendas['Código produto'].nunique()}\")\n",
    "print(f\"- Descrições únicas: {df_vendas['Descrição do produto'].nunique()}\")\n",
    "print(f\"- Diferença: {df_vendas['Código produto'].nunique() - df_vendas['Descrição do produto'].nunique()}\")"
   ]
  },
  {
   "cell_type": "code",
   "execution_count": null,
   "id": "1ea39d79",
   "metadata": {},
   "outputs": [],
   "source": [
    "# Agrupa descrições e conta quantos códigos únicos cada uma tem\n",
    "descricoes_problematicas = df_vendas.groupby('Descrição do produto')['Código produto'].nunique()\n",
    "descricoes_problematicas = descricoes_problematicas[descricoes_problematicas > 1].index.tolist()\n",
    "\n",
    "print(f\"🔍 {len(descricoes_problematicas)} descrições associadas a múltiplos códigos.\")"
   ]
  },
  {
   "cell_type": "code",
   "execution_count": null,
   "id": "aac72ef4",
   "metadata": {},
   "outputs": [],
   "source": [
    "# Filtra o DataFrame para manter apenas registros com descrições problemáticas\n",
    "df_problema = df_vendas[df_vendas['Descrição do produto'].isin(descricoes_problematicas)]"
   ]
  },
  {
   "cell_type": "code",
   "execution_count": null,
   "id": "17de21c9",
   "metadata": {},
   "outputs": [],
   "source": [
    "# Conta quantas notas fiscais únicas contêm esses registros\n",
    "notas_impactadas = df_problema['Numero nota fiscal'].nunique()\n",
    "total_notas = df_vendas['Numero nota fiscal'].nunique()\n",
    "\n",
    "print(f\"📊 Notas fiscais impactadas: {notas_impactadas}/{total_notas} ({notas_impactadas/total_notas:.1%})\")"
   ]
  },
  {
   "cell_type": "code",
   "execution_count": null,
   "id": "a516e7f1",
   "metadata": {},
   "outputs": [],
   "source": [
    "df_problema.to_excel(\"notas_com_descricoes_ambiguas.xlsx\", index=False)"
   ]
  },
  {
   "cell_type": "code",
   "execution_count": null,
   "id": "438c6a65",
   "metadata": {},
   "outputs": [],
   "source": [
    "# 1. Encontre descrições associadas a múltiplos códigos\n",
    "descricoes_ambiguas = df_vendas.groupby('Descrição do produto')['Código produto'].nunique()\n",
    "descricoes_ambiguas = descricoes_ambiguas[descricoes_ambiguas > 1].index.tolist()\n",
    "\n",
    "# 2. Filtre as notas fiscais que contêm essas descrições\n",
    "notas_com_problemas = df_vendas[df_vendas['Descrição do produto'].isin(descricoes_ambiguas)]['Numero nota fiscal'].unique()"
   ]
  },
  {
   "cell_type": "code",
   "execution_count": null,
   "id": "f3b5f236",
   "metadata": {},
   "outputs": [],
   "source": [
    "# 3. Crie um novo DataFrame EXCLUINDO as notas problemáticas\n",
    "df_vendas_limpo = df_vendas[~df_vendas['Numero nota fiscal'].isin(notas_com_problemas)].copy()"
   ]
  },
  {
   "cell_type": "code",
   "execution_count": null,
   "id": "5eacd1ed",
   "metadata": {},
   "outputs": [],
   "source": [
    "# 4. Calcule o impacto\n",
    "total_notas_originais = df_vendas['Numero nota fiscal'].nunique()\n",
    "total_notas_limpas = df_vendas_limpo['Numero nota fiscal'].nunique()\n",
    "notas_removidas = total_notas_originais - total_notas_limpas\n",
    "\n",
    "print(f\"🔍 {len(descricoes_ambiguas)} descrições ambíguas encontradas.\")\n",
    "print(f\"📊 Notas fiscais removidas: {notas_removidas}/{total_notas_originais} ({notas_removidas/total_notas_originais:.2%})\")\n",
    "print(f\"📦 Registros originais: {len(df_vendas)}\")\n",
    "print(f\"🧹 Registros após limpeza: {len(df_vendas_limpo)}\")"
   ]
  },
  {
   "cell_type": "code",
   "execution_count": null,
   "id": "a31c9fa1",
   "metadata": {},
   "outputs": [],
   "source": [
    "# Tratar o valor da nota, somatório de quantidade de produto * valor unitário\n",
    "# calcular o valor total de cada produto por nota\n",
    "df_vendas_limpo[\"Valor total produto\"] = (df_venda_limpo[\"Quantidade do produto\"] * df_venda_limpo[\"Valor unitário\"]).round(2)"
   ]
  },
  {
   "cell_type": "code",
   "execution_count": null,
   "id": "8469966d",
   "metadata": {},
   "outputs": [],
   "source": [
    "# Passo 1: Calcular o valor total por nota fiscal\n",
    "valor_por_nota = df_vendas_limpo.groupby('Numero nota fiscal')['Valor total produto'].sum().round(2)\n",
    "\n",
    "# Passo 2: Mapear esse valor de volta para a coluna 'Valor da nota'\n",
    "df_vendas_limpo['Valor da nota'] = df_vendas_limpo['Numero nota fiscal'].map(valor_por_nota)\n",
    "\n",
    "# Verificação (opcional)\n",
    "print(\"✅ Valores atualizados com sucesso!\")\n",
    "print(f\"Total de notas fiscais processadas: {len(valor_por_nota)}\")"
   ]
  },
  {
   "cell_type": "code",
   "execution_count": null,
   "id": "cfcc52e5",
   "metadata": {},
   "outputs": [],
   "source": [
    "df_vendas_limpo = df_vendas_limpo[[\"Numero nota fiscal\", \"Data da venda\", \"Código produto\", \"Descrição do produto\", \"Quantidade do produto\", \"Valor unitário\", \"Preço de custo\", \"Valor total produto\", \"Valor da nota\"]]"
   ]
  },
  {
   "cell_type": "code",
   "execution_count": null,
   "id": "96f0195c",
   "metadata": {},
   "outputs": [],
   "source": [
    "# Arredonda as colunas específicas para 2 casas decimais\n",
    "df_vendas_limpo['Valor unitário'] = df_vendas_limpo['Valor unitário'].round(2)\n",
    "df_vendas_limpo['Preço de custo'] = df_vendas_limpo['Preço de custo'].round(2)"
   ]
  },
  {
   "cell_type": "code",
   "execution_count": null,
   "id": "0b5b19c7",
   "metadata": {},
   "outputs": [],
   "source": [
    "df_vendas_limpo.to_excel(\"bases/bases_limpas/base_notas_limpa.xlsx\", index=False)"
   ]
  }
 ],
 "metadata": {
  "kernelspec": {
   "display_name": "venv",
   "language": "python",
   "name": "python3"
  },
  "language_info": {
   "codemirror_mode": {
    "name": "ipython",
    "version": 3
   },
   "file_extension": ".py",
   "mimetype": "text/x-python",
   "name": "python",
   "nbconvert_exporter": "python",
   "pygments_lexer": "ipython3",
   "version": "3.13.1"
  }
 },
 "nbformat": 4,
 "nbformat_minor": 5
}
