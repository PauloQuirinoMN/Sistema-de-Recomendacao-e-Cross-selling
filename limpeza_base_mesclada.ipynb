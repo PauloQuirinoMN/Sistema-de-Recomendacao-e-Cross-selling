{
 "cells": [
  {
   "cell_type": "code",
   "execution_count": 137,
   "id": "c669377f",
   "metadata": {},
   "outputs": [],
   "source": [
    "import pandas as pd"
   ]
  },
  {
   "cell_type": "code",
   "execution_count": 138,
   "id": "5917c2a3",
   "metadata": {},
   "outputs": [],
   "source": [
    "base_estoque = pd.read_excel(\"bases/bases_limpas/base_estoque_limpo.xlsx\")\n",
    "base_notas = pd.read_excel(\"bases/bases_limpas/base_notas_limpa.xlsx\")"
   ]
  },
  {
   "cell_type": "code",
   "execution_count": 139,
   "id": "91e651b4",
   "metadata": {},
   "outputs": [],
   "source": [
    "df = pd.merge(\n",
    "    base_notas,\n",
    "    base_estoque[[\"Código produto\", \"Código da categoria\", \"Categoria\", \"Código da Marca\", \"Marca\", \"Quantidade estoque\"]],\n",
    "    on='Código produto',\n",
    "    how='inner' \n",
    ")"
   ]
  },
  {
   "cell_type": "code",
   "execution_count": 140,
   "id": "ed1fc1ef",
   "metadata": {},
   "outputs": [],
   "source": [
    "df[\"Margem bruta\"] = (df[\"Valor unitário\"] - df[\"Preço de custo\"]).round(2)\n",
    "df[\"Margem %\"] = (df[\"Margem bruta\"] / df[\"Valor unitário\"]).round(2)\n",
    "df[\"Markup\"] = (df[\"Valor unitário\"] - df[\"Preço de custo\"]).round(2)"
   ]
  },
  {
   "cell_type": "code",
   "execution_count": 141,
   "id": "55b8b310",
   "metadata": {},
   "outputs": [],
   "source": [
    "df[\"Data da venda\"] = pd.to_datetime(df[\"Data da venda\"], format='%d/%m/%Y')\n",
    "df[\"Quantidade do produto\"] = df[\"Quantidade do produto\"].astype(int)\n",
    "df[\"Código da categoria\"] = df[\"Código da categoria\"].astype(int)\n",
    "df[\"Código da Marca\"] = df[\"Código da Marca\"].astype(int)\n",
    "df[\"Quantidade estoque\"] = df[\"Quantidade estoque\"].astype(int)\n"
   ]
  },
  {
   "cell_type": "code",
   "execution_count": 142,
   "id": "8565abc5",
   "metadata": {},
   "outputs": [],
   "source": [
    "# filtrar linhas onde o preço de custo é nulo\n",
    "itens_sem_preco_custo = df[df[\"Preço de custo\"].isna()]\n",
    "# extrair os números das notas com itens problemáticos\n",
    "notas_afetadas = itens_sem_preco_custo[\"Numero nota fiscal\"].unique()\n",
    "# contar quantas notas são impactadas\n",
    "total_notas_afetadas = len(notas_afetadas)\n",
    "total_notas_unicas = df[\"Numero nota fiscal\"].nunique()\n",
    "percentual_afetado = (total_notas_afetadas / total_notas_unicas) * 100\n"
   ]
  },
  {
   "cell_type": "code",
   "execution_count": 143,
   "id": "c53e0c0f",
   "metadata": {},
   "outputs": [],
   "source": [
    "# 1. Lista das notas fiscais que têm pelo menos um item com \"Preço de custo\" nulo\n",
    "notas_com_problema = df[df[\"Preço de custo\"].isna()][\"Numero nota fiscal\"].unique()\n",
    "\n",
    "# 2. Criar um novo DataFrame excluindo essas notas\n",
    "df_completo_limpo = df[~df[\"Numero nota fiscal\"].isin(notas_com_problema)]\n"
   ]
  },
  {
   "cell_type": "code",
   "execution_count": 144,
   "id": "6787f404",
   "metadata": {},
   "outputs": [],
   "source": [
    "# verificar_base_mesclada(df_completo_limpo)"
   ]
  },
  {
   "cell_type": "code",
   "execution_count": 145,
   "id": "23fbdebf",
   "metadata": {},
   "outputs": [],
   "source": [
    "# def verificar_valores_zerados(df):\n",
    "#     \"\"\"\n",
    "#     Verifica valores zerados em colunas numéricas da base mesclada.\n",
    "    \n",
    "#     Parâmetros:\n",
    "#         df (pd.DataFrame): DataFrame a ser analisado\n",
    "    \n",
    "#     Retorna:\n",
    "#         DataFrame com contagem de zeros por coluna numérica\n",
    "#     \"\"\"\n",
    "#     # Seleciona apenas colunas numéricas\n",
    "#     colunas_numericas = df.select_dtypes(include=['int64', 'float64']).columns\n",
    "    \n",
    "#     # Conta valores zerados em cada coluna numérica\n",
    "#     zeros_por_coluna = []\n",
    "#     for coluna in colunas_numericas:\n",
    "#         qtd_zeros = (df[coluna] == 0).sum()\n",
    "#         zeros_por_coluna.append({'Coluna': coluna, 'Valores Zerados': qtd_zeros})\n",
    "    \n",
    "#     # Cria e retorna DataFrame com resultados\n",
    "#     resultado = pd.DataFrame(zeros_por_coluna)\n",
    "#     resultado['Percentual'] = (resultado['Valores Zerados'] / len(df) * 100).round(2)\n",
    "    \n",
    "#     # Ordena por quantidade de zeros (decrescente)\n",
    "#     return resultado.sort_values('Valores Zerados', ascending=False)\n",
    "\n",
    "# # Como usar:\n",
    "# # resultado_zeros = verificar_valores_zerados(df_mesclado)\n",
    "# # display(resultado_zeros)"
   ]
  },
  {
   "cell_type": "code",
   "execution_count": 146,
   "id": "d70f8e3b",
   "metadata": {},
   "outputs": [],
   "source": [
    "# resultado_zeros = verificar_valores_zerados(df_completo_limpo)\n",
    "# display(resultado_zeros)"
   ]
  },
  {
   "cell_type": "code",
   "execution_count": 147,
   "id": "7770cfbf",
   "metadata": {},
   "outputs": [
    {
     "name": "stdout",
     "output_type": "stream",
     "text": [
      "🔍 Notas fiscais com Valor unitário zerado: 85\n",
      "\n",
      "📊 Detalhes das notas removidas:\n"
     ]
    },
    {
     "data": {
      "text/html": [
       "<div>\n",
       "<style scoped>\n",
       "    .dataframe tbody tr th:only-of-type {\n",
       "        vertical-align: middle;\n",
       "    }\n",
       "\n",
       "    .dataframe tbody tr th {\n",
       "        vertical-align: top;\n",
       "    }\n",
       "\n",
       "    .dataframe thead th {\n",
       "        text-align: right;\n",
       "    }\n",
       "</style>\n",
       "<table border=\"1\" class=\"dataframe\">\n",
       "  <thead>\n",
       "    <tr style=\"text-align: right;\">\n",
       "      <th></th>\n",
       "      <th></th>\n",
       "      <th>Quantidade do produto</th>\n",
       "      <th>Valor unitário</th>\n",
       "    </tr>\n",
       "    <tr>\n",
       "      <th>Numero nota fiscal</th>\n",
       "      <th>Descrição do produto</th>\n",
       "      <th></th>\n",
       "      <th></th>\n",
       "    </tr>\n",
       "  </thead>\n",
       "  <tbody>\n",
       "    <tr>\n",
       "      <th rowspan=\"5\" valign=\"top\">37033</th>\n",
       "      <th>ACUCAR CRISTAL 1KG SAMUKA</th>\n",
       "      <td>0</td>\n",
       "      <td>0.0</td>\n",
       "    </tr>\n",
       "    <tr>\n",
       "      <th>AGUA SANITARIA 5L TA LIMPEZA</th>\n",
       "      <td>0</td>\n",
       "      <td>0.0</td>\n",
       "    </tr>\n",
       "    <tr>\n",
       "      <th>AROMAT LAVANDA FLORAL 400ML LEV&amp;UZE</th>\n",
       "      <td>0</td>\n",
       "      <td>0.0</td>\n",
       "    </tr>\n",
       "    <tr>\n",
       "      <th>CAFE TRADICIONAL VACUO 250G UNIAO</th>\n",
       "      <td>0</td>\n",
       "      <td>0.0</td>\n",
       "    </tr>\n",
       "    <tr>\n",
       "      <th>COLA INSTANTANEA 20G TEKBOND 725</th>\n",
       "      <td>0</td>\n",
       "      <td>0.0</td>\n",
       "    </tr>\n",
       "    <tr>\n",
       "      <th>...</th>\n",
       "      <th>...</th>\n",
       "      <td>...</td>\n",
       "      <td>...</td>\n",
       "    </tr>\n",
       "    <tr>\n",
       "      <th rowspan=\"3\" valign=\"top\">564625</th>\n",
       "      <th>SACO 45X59 SORTIDO FEM C/25 CROMUS</th>\n",
       "      <td>1</td>\n",
       "      <td>0.0</td>\n",
       "    </tr>\n",
       "    <tr>\n",
       "      <th>SACO 45X59 SORTIDO MASC C/25 CROMUS</th>\n",
       "      <td>1</td>\n",
       "      <td>0.0</td>\n",
       "    </tr>\n",
       "    <tr>\n",
       "      <th>SACO 50X70 ROMANTICO C/25 CROMUS</th>\n",
       "      <td>1</td>\n",
       "      <td>0.0</td>\n",
       "    </tr>\n",
       "    <tr>\n",
       "      <th>565290</th>\n",
       "      <th>SUCATA DE PAPELAO</th>\n",
       "      <td>0</td>\n",
       "      <td>0.0</td>\n",
       "    </tr>\n",
       "    <tr>\n",
       "      <th>565870</th>\n",
       "      <th>DISPLAY BALCAO SPIRO CIS</th>\n",
       "      <td>1</td>\n",
       "      <td>0.0</td>\n",
       "    </tr>\n",
       "  </tbody>\n",
       "</table>\n",
       "<p>637 rows × 2 columns</p>\n",
       "</div>"
      ],
      "text/plain": [
       "                                                        Quantidade do produto  \\\n",
       "Numero nota fiscal Descrição do produto                                         \n",
       "37033              ACUCAR CRISTAL 1KG SAMUKA                                0   \n",
       "                   AGUA SANITARIA 5L TA LIMPEZA                             0   \n",
       "                   AROMAT LAVANDA FLORAL 400ML LEV&UZE                      0   \n",
       "                   CAFE TRADICIONAL VACUO 250G UNIAO                        0   \n",
       "                   COLA INSTANTANEA 20G TEKBOND 725                         0   \n",
       "...                                                                       ...   \n",
       "564625             SACO 45X59 SORTIDO FEM C/25 CROMUS                       1   \n",
       "                   SACO 45X59 SORTIDO MASC C/25 CROMUS                      1   \n",
       "                   SACO 50X70 ROMANTICO C/25 CROMUS                         1   \n",
       "565290             SUCATA DE PAPELAO                                        0   \n",
       "565870             DISPLAY BALCAO SPIRO CIS                                 1   \n",
       "\n",
       "                                                        Valor unitário  \n",
       "Numero nota fiscal Descrição do produto                                 \n",
       "37033              ACUCAR CRISTAL 1KG SAMUKA                       0.0  \n",
       "                   AGUA SANITARIA 5L TA LIMPEZA                    0.0  \n",
       "                   AROMAT LAVANDA FLORAL 400ML LEV&UZE             0.0  \n",
       "                   CAFE TRADICIONAL VACUO 250G UNIAO               0.0  \n",
       "                   COLA INSTANTANEA 20G TEKBOND 725                0.0  \n",
       "...                                                                ...  \n",
       "564625             SACO 45X59 SORTIDO FEM C/25 CROMUS              0.0  \n",
       "                   SACO 45X59 SORTIDO MASC C/25 CROMUS             0.0  \n",
       "                   SACO 50X70 ROMANTICO C/25 CROMUS                0.0  \n",
       "565290             SUCATA DE PAPELAO                               0.0  \n",
       "565870             DISPLAY BALCAO SPIRO CIS                        0.0  \n",
       "\n",
       "[637 rows x 2 columns]"
      ]
     },
     "metadata": {},
     "output_type": "display_data"
    }
   ],
   "source": [
    "# 1. Identificar as notas fiscais com Valor unitário zerado\n",
    "notas_com_valor_zerado = df[df['Valor unitário'] == 0]['Numero nota fiscal'].unique()\n",
    "total_notas_afetadas = len(notas_com_valor_zerado)\n",
    "\n",
    "print(f\"🔍 Notas fiscais com Valor unitário zerado: {total_notas_afetadas}\")\n",
    "\n",
    "# 2. Criar uma versão limpa do DataFrame excluindo essas notas\n",
    "df_limpo = df[~df['Numero nota fiscal'].isin(notas_com_valor_zerado)].copy()\n",
    "\n",
    "# 3. Recalcular o Valor total produto e Valor da nota\n",
    "df_limpo['Valor total produto'] = df_limpo['Quantidade do produto'] * df_limpo['Valor unitário']\n",
    "df_limpo['Valor da nota'] = df_limpo.groupby('Numero nota fiscal')['Valor total produto'].transform('sum')\n",
    "\n",
    "# 5. (Opcional) Análise detalhada das notas removidas\n",
    "if total_notas_afetadas > 0:\n",
    "    print(\"\\n📊 Detalhes das notas removidas:\")\n",
    "    notas_removidas = df[df['Numero nota fiscal'].isin(notas_com_valor_zerado)]\n",
    "    display(notas_removidas.groupby(['Numero nota fiscal', 'Descrição do produto'])[['Quantidade do produto', 'Valor unitário']].sum())"
   ]
  },
  {
   "cell_type": "code",
   "execution_count": 148,
   "id": "f9c8d9a5",
   "metadata": {},
   "outputs": [],
   "source": [
    "# resultados_negativos = analisar_valores_negativos(df_completo_limpo)"
   ]
  },
  {
   "cell_type": "code",
   "execution_count": 149,
   "id": "a4483e37",
   "metadata": {},
   "outputs": [],
   "source": [
    "def excluir_notas_com_negativos(df, colunas_verificar=None):\n",
    "    \"\"\"\n",
    "    Remove todas as notas fiscais que contêm valores negativos nas colunas especificadas.\n",
    "    \n",
    "    Parâmetros:\n",
    "        df (pd.DataFrame): DataFrame com os dados mesclados\n",
    "        colunas_verificar (list): Lista de colunas para verificar valores negativos\n",
    "                                 Se None, verifica todas as colunas numéricas\n",
    "    \n",
    "    Retorno:\n",
    "        pd.DataFrame: DataFrame limpo sem as notas problemáticas\n",
    "        pd.DataFrame: DataFrame com as notas removidas (para auditoria)\n",
    "    \"\"\"\n",
    "    # 1. Definir colunas para verificação\n",
    "    if colunas_verificar is None:\n",
    "        colunas_numericas = df.select_dtypes(include=['int64', 'float64']).columns\n",
    "        colunas_verificar = [col for col in colunas_numericas if col not in ['Numero nota fiscal', 'Código produto']]\n",
    "    \n",
    "    # 2. Identificar registros com valores negativos\n",
    "    mascara_negativos = pd.Series(False, index=df.index)\n",
    "    for coluna in colunas_verificar:\n",
    "        mascara_negativos |= (df[coluna] < 0)\n",
    "    \n",
    "    # 3. Identificar notas fiscais problemáticas\n",
    "    notas_com_negativos = df.loc[mascara_negativos, 'Numero nota fiscal'].unique()\n",
    "    print(f\"🔍 Encontradas {len(notas_com_negativos)} notas fiscais com valores negativos\")\n",
    "    \n",
    "    # 4. Criar DataFrames para resultado e auditoria\n",
    "    df_limpo = df[~df['Numero nota fiscal'].isin(notas_com_negativos)].copy()\n",
    "    df_removido = df[df['Numero nota fiscal'].isin(notas_com_negativos)].copy()\n",
    "    \n",
    "    # 5. Recalcular valores totais na base limpa\n",
    "    df_limpo['Valor total produto'] = df_limpo['Quantidade do produto'] * df_limpo['Valor unitário']\n",
    "    df_limpo['Valor da nota'] = df_limpo.groupby('Numero nota fiscal')['Valor total produto'].transform('sum')\n",
    "    \n",
    "    # 6. Relatório de impacto\n",
    "    print(\"\\n✅ Resultado da limpeza:\")\n",
    "    print(f\"- Total original de notas: {df['Numero nota fiscal'].nunique()}\")\n",
    "    print(f\"- Notas removidas: {len(notas_com_negativos)}\")\n",
    "    print(f\"- Notas restantes: {df_limpo['Numero nota fiscal'].nunique()}\")\n",
    "    print(f\"- Registros removidos: {len(df_removido)}\")\n",
    "    print(f\"- Percentual removido: {len(df_removido)/len(df):.2%}\")\n",
    "    \n",
    "    return df_limpo, df_removido\n",
    "\n",
    "# Como usar:\n",
    "# df_limpo, df_removido = excluir_notas_com_negativos(df_mesclado, colunas_verificar=['Quantidade do produto', 'Valor unitário', 'Preço de custo'])\n",
    "\n",
    "# Opção para verificar todas colunas numéricas:\n",
    "# df_limpo, df_removido = excluir_notas_com_negativos(df_mesclado)"
   ]
  },
  {
   "cell_type": "code",
   "execution_count": 150,
   "id": "f0e22cc0",
   "metadata": {},
   "outputs": [
    {
     "name": "stdout",
     "output_type": "stream",
     "text": [
      "🔍 Encontradas 276 notas fiscais com valores negativos\n",
      "\n",
      "✅ Resultado da limpeza:\n",
      "- Total original de notas: 24285\n",
      "- Notas removidas: 276\n",
      "- Notas restantes: 24009\n",
      "- Registros removidos: 3134\n",
      "- Percentual removido: 1.77%\n"
     ]
    }
   ],
   "source": [
    "df_limpo, df_removido = excluir_notas_com_negativos(df_completo_limpo)"
   ]
  },
  {
   "cell_type": "code",
   "execution_count": 151,
   "id": "cc385a74",
   "metadata": {},
   "outputs": [],
   "source": [
    "def excluir_notas_com_custo_maior_que_venda(df):\n",
    "    \"\"\"\n",
    "    Remove todas as notas fiscais que contêm itens onde:\n",
    "    Preço de custo > Valor unitário\n",
    "    \n",
    "    Parâmetros:\n",
    "        df (pd.DataFrame): DataFrame com os dados mesclados\n",
    "        \n",
    "    Retorna:\n",
    "        pd.DataFrame: Base limpa sem as notas problemáticas\n",
    "        pd.DataFrame: Notas removidas (para auditoria)\n",
    "    \"\"\"\n",
    "    # 1. Identificar itens problemáticos\n",
    "    mascara_problema = df['Preço de custo'] > df['Valor unitário']\n",
    "    itens_problematicos = df[mascara_problema]\n",
    "    \n",
    "    # 2. Pegar números das notas fiscais problemáticas\n",
    "    notas_problematicas = itens_problematicos['Numero nota fiscal'].unique()\n",
    "    total_notas_problema = len(notas_problematicas)\n",
    "    \n",
    "    print(f\"🔍 Encontradas {total_notas_problema} notas com itens onde preço de custo > valor unitário\")\n",
    "    print(f\"📦 Itens problemáticos identificados: {len(itens_problematicos)}\")\n",
    "    \n",
    "    # 3. Criar versão limpa (excluindo as notas problemáticas)\n",
    "    df_limpo = df[~df['Numero nota fiscal'].isin(notas_problematicas)].copy()\n",
    "    \n",
    "    # 4. Criar dataframe com as notas removidas (para auditoria)\n",
    "    df_removido = df[df['Numero nota fiscal'].isin(notas_problematicas)].copy()\n",
    "    \n",
    "    # 5. Recalcular valores totais na base limpa\n",
    "    df_limpo['Valor total produto'] = df_limpo['Quantidade do produto'] * df_limpo['Valor unitário']\n",
    "    df_limpo['Valor da nota'] = df_limpo.groupby('Numero nota fiscal')['Valor total produto'].transform('sum')\n",
    "    \n",
    "    # 6. Relatório de impacto\n",
    "    print(\"\\n✅ RESULTADO DA LIMPEZA:\")\n",
    "    print(f\"- Notas originais: {df['Numero nota fiscal'].nunique()}\")\n",
    "    print(f\"- Notas removidas: {total_notas_problema}\")\n",
    "    print(f\"- Notas restantes: {df_limpo['Numero nota fiscal'].nunique()}\")\n",
    "    print(f\"- Registros removidos: {len(df_removido)}\")\n",
    "    print(f\"- Percentual removido: {len(df_removido)/len(df):.2%}\")\n",
    "    \n",
    "    return df_limpo, df_removido\n",
    "\n",
    "# Como usar:\n",
    "# df_limpo, df_removido = excluir_notas_com_custo_maior_que_venda(df_mesclado)\n",
    "\n",
    "# Para exportar os resultados:\n",
    "# df_limpo.to_excel('base_limpa.xlsx', index=False)\n",
    "# df_removido.to_excel('notas_removidas_auditoria.xlsx', index=False)"
   ]
  },
  {
   "cell_type": "code",
   "execution_count": 152,
   "id": "5f79d969",
   "metadata": {},
   "outputs": [
    {
     "name": "stdout",
     "output_type": "stream",
     "text": [
      "🔍 Encontradas 275 notas com itens onde preço de custo > valor unitário\n",
      "📦 Itens problemáticos identificados: 446\n",
      "\n",
      "✅ RESULTADO DA LIMPEZA:\n",
      "- Notas originais: 24285\n",
      "- Notas removidas: 275\n",
      "- Notas restantes: 24010\n",
      "- Registros removidos: 3128\n",
      "- Percentual removido: 1.77%\n"
     ]
    }
   ],
   "source": [
    "df_limpo, df_removido = excluir_notas_com_custo_maior_que_venda(df_completo_limpo)"
   ]
  },
  {
   "cell_type": "code",
   "execution_count": 153,
   "id": "f44f253d",
   "metadata": {},
   "outputs": [],
   "source": [
    "def excluir_notas_problematicas(df):\n",
    "    \"\"\"\n",
    "    Exclui notas fiscais afetadas por:\n",
    "    - Preço de custo zerado\n",
    "    - Valor da nota zerado\n",
    "    - Quantidade do produto negativa\n",
    "    - Valor total produto negativo\n",
    "    \"\"\"\n",
    "    # Identificar notas problemáticas\n",
    "    notas_problema = set()\n",
    "    \n",
    "    # 1. Notas com Preço de custo zerado\n",
    "    notas_problema.update(df[df['Preço de custo'] == 0]['Numero nota fiscal'].unique())\n",
    "    \n",
    "    # 2. Notas com Valor da nota zerado\n",
    "    notas_problema.update(df[df['Valor da nota'] == 0]['Numero nota fiscal'].unique())\n",
    "    \n",
    "    # 3. Notas com Quantidade negativa\n",
    "    notas_problema.update(df[df['Quantidade do produto'] < 0]['Numero nota fiscal'].unique())\n",
    "    \n",
    "    # 4. Notas com Valor total negativo\n",
    "    notas_problema.update(df[df['Valor total produto'] < 0]['Numero nota fiscal'].unique())\n",
    "    \n",
    "    # Criar DataFrame limpo\n",
    "    df_limpo = df[~df['Numero nota fiscal'].isin(notas_problema)].copy()\n",
    "    \n",
    "    # Relatório\n",
    "    print(f\"Notas originais: {df['Numero nota fiscal'].nunique()}\")\n",
    "    print(f\"Notas removidas: {len(notas_problema)}\")\n",
    "    print(f\"Notas restantes: {df_limpo['Numero nota fiscal'].nunique()}\")\n",
    "    print(f\"Registros removidos: {len(df) - len(df_limpo)}\")\n",
    "    \n",
    "    return df_limpo\n",
    "\n"
   ]
  },
  {
   "cell_type": "code",
   "execution_count": 154,
   "id": "49df7b46",
   "metadata": {},
   "outputs": [
    {
     "name": "stdout",
     "output_type": "stream",
     "text": [
      "Notas originais: 24010\n",
      "Notas removidas: 2\n",
      "Notas restantes: 24008\n",
      "Registros removidos: 16\n"
     ]
    }
   ],
   "source": [
    "df_limpo = excluir_notas_problematicas(df_limpo)"
   ]
  },
  {
   "cell_type": "code",
   "execution_count": 155,
   "id": "36279448",
   "metadata": {},
   "outputs": [],
   "source": [
    "df_limpo.to_csv(\"bases/bases_limpas/base_para_modelo_final.csv\", index=False)"
   ]
  }
 ],
 "metadata": {
  "kernelspec": {
   "display_name": "venv",
   "language": "python",
   "name": "python3"
  },
  "language_info": {
   "codemirror_mode": {
    "name": "ipython",
    "version": 3
   },
   "file_extension": ".py",
   "mimetype": "text/x-python",
   "name": "python",
   "nbconvert_exporter": "python",
   "pygments_lexer": "ipython3",
   "version": "3.13.1"
  }
 },
 "nbformat": 4,
 "nbformat_minor": 5
}
