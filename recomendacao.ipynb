{
 "cells": [
  {
   "cell_type": "code",
   "execution_count": 6,
   "id": "2b096c17",
   "metadata": {},
   "outputs": [],
   "source": [
    "import pandas as pd\n",
    "from efficient_apriori import apriori\n",
    "\n"
   ]
  },
  {
   "cell_type": "code",
   "execution_count": 7,
   "id": "88522f86",
   "metadata": {},
   "outputs": [],
   "source": [
    "base = pd.read_csv(\"bases/bases_limpas/base_para_modelo_final.csv\")"
   ]
  },
  {
   "cell_type": "code",
   "execution_count": 8,
   "id": "b7d6c481",
   "metadata": {},
   "outputs": [
    {
     "data": {
      "text/plain": [
       "['Numero nota fiscal',\n",
       " 'Data da venda',\n",
       " 'Código produto',\n",
       " 'Descrição do produto',\n",
       " 'Quantidade do produto',\n",
       " 'Valor unitário',\n",
       " 'Preço de custo',\n",
       " 'Valor total produto',\n",
       " 'Valor da nota',\n",
       " 'Código da categoria',\n",
       " 'Categoria',\n",
       " 'Código da Marca',\n",
       " 'Marca',\n",
       " 'Quantidade estoque',\n",
       " 'Margem bruta',\n",
       " 'Margem %',\n",
       " 'Markup']"
      ]
     },
     "execution_count": 8,
     "metadata": {},
     "output_type": "execute_result"
    }
   ],
   "source": [
    "base.columns.tolist()"
   ]
  },
  {
   "cell_type": "code",
   "execution_count": 9,
   "id": "ed37160a",
   "metadata": {},
   "outputs": [],
   "source": [
    "def recomendar_substitutos(df, cod_produto_pesquisado, n_recomendacoes=5):\n",
    "    # 1. Localiza o produto base\n",
    "    produto_base = df[df['Código produto'] == cod_produto_pesquisado]\n",
    "\n",
    "    if produto_base.empty:\n",
    "        return \"Produto não encontrado\"\n",
    "\n",
    "    produto_base = produto_base.iloc[0]\n",
    "\n",
    "    # 2. Verifica se o produto está sem estoque\n",
    "    if produto_base['Quantidade estoque'] > 0:\n",
    "        return \"Produto em estoque, recomendação não necessária\"\n",
    "\n",
    "    # 3. Filtra produtos da mesma categoria, com estoque e código diferente\n",
    "    candidatos = df[\n",
    "        (df['Código da categoria'] == produto_base['Código da categoria']) &\n",
    "        (df['Código produto'] != cod_produto_pesquisado) &\n",
    "        (df['Quantidade estoque'] > 0)\n",
    "    ].copy()\n",
    "\n",
    "    if candidatos.empty:\n",
    "        return \"Sem produtos semelhantes em estoque\"\n",
    "\n",
    "    # 4. Remove duplicatas por código de produto\n",
    "    candidatos = candidatos.drop_duplicates(subset='Código produto')\n",
    "\n",
    "    # 5. Calcula distância de preço e margem %\n",
    "    candidatos['dist_preco'] = (candidatos['Valor unitário'] - produto_base['Valor unitário']).abs()\n",
    "    candidatos['dist_margem'] = (candidatos['Margem %'] - produto_base['Margem %']).abs()\n",
    "\n",
    "    # 6. Ordena pelos mais similares\n",
    "    recomendados = candidatos.sort_values(\n",
    "        by=['dist_preco', 'dist_margem']\n",
    "    ).head(n_recomendacoes)\n",
    "\n",
    "    return recomendados[['Código produto', 'Descrição do produto', 'Valor unitário', 'Margem %', 'Marca', 'Quantidade estoque']]\n"
   ]
  },
  {
   "cell_type": "code",
   "execution_count": 10,
   "id": "662e071e",
   "metadata": {},
   "outputs": [
    {
     "data": {
      "text/html": [
       "<div>\n",
       "<style scoped>\n",
       "    .dataframe tbody tr th:only-of-type {\n",
       "        vertical-align: middle;\n",
       "    }\n",
       "\n",
       "    .dataframe tbody tr th {\n",
       "        vertical-align: top;\n",
       "    }\n",
       "\n",
       "    .dataframe thead th {\n",
       "        text-align: right;\n",
       "    }\n",
       "</style>\n",
       "<table border=\"1\" class=\"dataframe\">\n",
       "  <thead>\n",
       "    <tr style=\"text-align: right;\">\n",
       "      <th></th>\n",
       "      <th>Código produto</th>\n",
       "      <th>Descrição do produto</th>\n",
       "      <th>Valor unitário</th>\n",
       "      <th>Margem %</th>\n",
       "      <th>Marca</th>\n",
       "      <th>Quantidade estoque</th>\n",
       "    </tr>\n",
       "  </thead>\n",
       "  <tbody>\n",
       "    <tr>\n",
       "      <th>30520</th>\n",
       "      <td>35485</td>\n",
       "      <td>TNT TECIDO 50M 37G AZ CE DECOFIX</td>\n",
       "      <td>54.14</td>\n",
       "      <td>0.14</td>\n",
       "      <td>JC DECOR PLASTICOS E TECIDOS LTDA</td>\n",
       "      <td>4</td>\n",
       "    </tr>\n",
       "    <tr>\n",
       "      <th>2102</th>\n",
       "      <td>21422</td>\n",
       "      <td>TNT TECIDO 50M 35G AZ CE NEWTNT</td>\n",
       "      <td>54.37</td>\n",
       "      <td>0.12</td>\n",
       "      <td>NEWTNT INDUSTRIA DE TECIDOS LTDA</td>\n",
       "      <td>15</td>\n",
       "    </tr>\n",
       "    <tr>\n",
       "      <th>2886</th>\n",
       "      <td>29097</td>\n",
       "      <td>TNT TECIDO 50M 35G PK NEWTNT</td>\n",
       "      <td>54.78</td>\n",
       "      <td>0.12</td>\n",
       "      <td>NEWTNT INDUSTRIA DE TECIDOS LTDA</td>\n",
       "      <td>33</td>\n",
       "    </tr>\n",
       "    <tr>\n",
       "      <th>2141</th>\n",
       "      <td>35487</td>\n",
       "      <td>TNT TECIDO 50M 37G AZ RY DECOFIX</td>\n",
       "      <td>53.40</td>\n",
       "      <td>0.13</td>\n",
       "      <td>JC DECOR PLASTICOS E TECIDOS LTDA</td>\n",
       "      <td>32</td>\n",
       "    </tr>\n",
       "    <tr>\n",
       "      <th>94065</th>\n",
       "      <td>14797</td>\n",
       "      <td>TNT TECIDO 50M RS SUL BRASIL</td>\n",
       "      <td>55.81</td>\n",
       "      <td>0.14</td>\n",
       "      <td>SUL BRASIL IND E COM DE ACESSORIOS DE PLAST E ...</td>\n",
       "      <td>2</td>\n",
       "    </tr>\n",
       "  </tbody>\n",
       "</table>\n",
       "</div>"
      ],
      "text/plain": [
       "       Código produto              Descrição do produto  Valor unitário  \\\n",
       "30520           35485  TNT TECIDO 50M 37G AZ CE DECOFIX           54.14   \n",
       "2102            21422   TNT TECIDO 50M 35G AZ CE NEWTNT           54.37   \n",
       "2886            29097      TNT TECIDO 50M 35G PK NEWTNT           54.78   \n",
       "2141            35487  TNT TECIDO 50M 37G AZ RY DECOFIX           53.40   \n",
       "94065           14797      TNT TECIDO 50M RS SUL BRASIL           55.81   \n",
       "\n",
       "       Margem %                                              Marca  \\\n",
       "30520      0.14                  JC DECOR PLASTICOS E TECIDOS LTDA   \n",
       "2102       0.12                   NEWTNT INDUSTRIA DE TECIDOS LTDA   \n",
       "2886       0.12                   NEWTNT INDUSTRIA DE TECIDOS LTDA   \n",
       "2141       0.13                  JC DECOR PLASTICOS E TECIDOS LTDA   \n",
       "94065      0.14  SUL BRASIL IND E COM DE ACESSORIOS DE PLAST E ...   \n",
       "\n",
       "       Quantidade estoque  \n",
       "30520                   4  \n",
       "2102                   15  \n",
       "2886                   33  \n",
       "2141                   32  \n",
       "94065                   2  "
      ]
     },
     "execution_count": 10,
     "metadata": {},
     "output_type": "execute_result"
    }
   ],
   "source": [
    "recomendar_substitutos(base, 35494)"
   ]
  }
 ],
 "metadata": {
  "kernelspec": {
   "display_name": "venv",
   "language": "python",
   "name": "python3"
  },
  "language_info": {
   "codemirror_mode": {
    "name": "ipython",
    "version": 3
   },
   "file_extension": ".py",
   "mimetype": "text/x-python",
   "name": "python",
   "nbconvert_exporter": "python",
   "pygments_lexer": "ipython3",
   "version": "3.13.1"
  }
 },
 "nbformat": 4,
 "nbformat_minor": 5
}
