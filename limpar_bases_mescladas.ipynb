{
 "cells": [
  {
   "cell_type": "code",
   "execution_count": 1,
   "id": "e489e40f",
   "metadata": {},
   "outputs": [],
   "source": [
    "import pandas as pd\n",
    "import numpy as np"
   ]
  },
  {
   "cell_type": "code",
   "execution_count": 2,
   "id": "173b3342",
   "metadata": {},
   "outputs": [],
   "source": [
    "base_notas = pd.read_excel(\"base_final_notas_limpa.xlsx\")\n",
    "base_estoque = pd.read_excel(\"base_final_estoque_limpa.xlsx\")"
   ]
  }
 ],
 "metadata": {
  "kernelspec": {
   "display_name": "venv",
   "language": "python",
   "name": "python3"
  },
  "language_info": {
   "codemirror_mode": {
    "name": "ipython",
    "version": 3
   },
   "file_extension": ".py",
   "mimetype": "text/x-python",
   "name": "python",
   "nbconvert_exporter": "python",
   "pygments_lexer": "ipython3",
   "version": "3.13.1"
  }
 },
 "nbformat": 4,
 "nbformat_minor": 5
}
