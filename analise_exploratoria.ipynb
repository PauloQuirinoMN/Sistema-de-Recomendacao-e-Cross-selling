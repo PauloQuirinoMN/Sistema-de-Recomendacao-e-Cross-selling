{
 "cells": [
  {
   "cell_type": "code",
   "execution_count": 1,
   "id": "c669377f",
   "metadata": {},
   "outputs": [],
   "source": [
    "import pandas as pd"
   ]
  },
  {
   "cell_type": "code",
   "execution_count": 2,
   "id": "5917c2a3",
   "metadata": {},
   "outputs": [],
   "source": [
    "base_estoque = pd.read_excel(\"bases/bases_limpas/base_estoque_limpo.xlsx\")\n",
    "base_notas = pd.read_excel(\"bases/bases_limpas/base_notas_limpa.xlsx\")"
   ]
  },
  {
   "cell_type": "code",
   "execution_count": 3,
   "id": "b0389bd5",
   "metadata": {},
   "outputs": [
    {
     "data": {
      "text/plain": [
       "['Numero nota fiscal',\n",
       " 'Data da venda',\n",
       " 'Código produto',\n",
       " 'Descrição do produto',\n",
       " 'Quantidade do produto',\n",
       " 'Valor unitário',\n",
       " 'Preço de custo',\n",
       " 'Valor total produto',\n",
       " 'Valor da nota']"
      ]
     },
     "execution_count": 3,
     "metadata": {},
     "output_type": "execute_result"
    }
   ],
   "source": [
    "base_notas.columns.tolist()"
   ]
  },
  {
   "cell_type": "code",
   "execution_count": 4,
   "id": "bd67eb95",
   "metadata": {},
   "outputs": [
    {
     "data": {
      "text/plain": [
       "['Código produto',\n",
       " 'Produto',\n",
       " 'Código da categoria',\n",
       " 'Categoria',\n",
       " 'Código da Marca',\n",
       " 'Marca',\n",
       " 'Preço de custo',\n",
       " 'Quantidade estoque']"
      ]
     },
     "execution_count": 4,
     "metadata": {},
     "output_type": "execute_result"
    }
   ],
   "source": [
    "base_estoque.columns.tolist()"
   ]
  },
  {
   "cell_type": "code",
   "execution_count": 13,
   "id": "91e651b4",
   "metadata": {},
   "outputs": [],
   "source": [
    "df = pd.merge(\n",
    "    base_notas,\n",
    "    base_estoque[[\"Código produto\", \"Código da categoria\", \"Categoria\", \"Código da Marca\", \"Marca\", \"Quantidade estoque\"]],\n",
    "    on='Código produto',\n",
    "    how='inner' \n",
    ")"
   ]
  },
  {
   "cell_type": "code",
   "execution_count": 14,
   "id": "0f0cd837",
   "metadata": {},
   "outputs": [
    {
     "data": {
      "text/plain": [
       "['Numero nota fiscal',\n",
       " 'Data da venda',\n",
       " 'Código produto',\n",
       " 'Descrição do produto',\n",
       " 'Quantidade do produto',\n",
       " 'Valor unitário',\n",
       " 'Preço de custo',\n",
       " 'Valor total produto',\n",
       " 'Valor da nota',\n",
       " 'Código da categoria',\n",
       " 'Categoria',\n",
       " 'Código da Marca',\n",
       " 'Marca',\n",
       " 'Quantidade estoque']"
      ]
     },
     "execution_count": 14,
     "metadata": {},
     "output_type": "execute_result"
    }
   ],
   "source": [
    "df.columns.tolist()"
   ]
  },
  {
   "cell_type": "code",
   "execution_count": 7,
   "id": "7c32d6d5",
   "metadata": {},
   "outputs": [
    {
     "data": {
      "text/plain": [
       "Numero nota fiscal       24353\n",
       "Data da venda              135\n",
       "Código produto            5634\n",
       "Descrição do produto      5634\n",
       "Quantidade do produto      420\n",
       "Valor unitário            7885\n",
       "Preço de custo            2833\n",
       "Valor total produto      19702\n",
       "Valor da nota            20794\n",
       "Código da categoria        382\n",
       "Categoria                  382\n",
       "Código da Marca            305\n",
       "Marca                      305\n",
       "Quantidade estoque         995\n",
       "dtype: int64"
      ]
     },
     "execution_count": 7,
     "metadata": {},
     "output_type": "execute_result"
    }
   ],
   "source": [
    "df.nunique()"
   ]
  },
  {
   "cell_type": "code",
   "execution_count": 8,
   "id": "d27d3898",
   "metadata": {},
   "outputs": [
    {
     "data": {
      "text/html": [
       "<div>\n",
       "<style scoped>\n",
       "    .dataframe tbody tr th:only-of-type {\n",
       "        vertical-align: middle;\n",
       "    }\n",
       "\n",
       "    .dataframe tbody tr th {\n",
       "        vertical-align: top;\n",
       "    }\n",
       "\n",
       "    .dataframe thead th {\n",
       "        text-align: right;\n",
       "    }\n",
       "</style>\n",
       "<table border=\"1\" class=\"dataframe\">\n",
       "  <thead>\n",
       "    <tr style=\"text-align: right;\">\n",
       "      <th></th>\n",
       "      <th>Numero nota fiscal</th>\n",
       "      <th>Data da venda</th>\n",
       "      <th>Código produto</th>\n",
       "      <th>Descrição do produto</th>\n",
       "      <th>Quantidade do produto</th>\n",
       "      <th>Valor unitário</th>\n",
       "      <th>Preço de custo</th>\n",
       "      <th>Valor total produto</th>\n",
       "      <th>Valor da nota</th>\n",
       "      <th>Código da categoria</th>\n",
       "      <th>Categoria</th>\n",
       "      <th>Código da Marca</th>\n",
       "      <th>Marca</th>\n",
       "      <th>Quantidade estoque</th>\n",
       "    </tr>\n",
       "  </thead>\n",
       "  <tbody>\n",
       "    <tr>\n",
       "      <th>0</th>\n",
       "      <td>566082</td>\n",
       "      <td>17/06/2025</td>\n",
       "      <td>33932</td>\n",
       "      <td>ENV 229X324 OU C/100 FILIPERSON</td>\n",
       "      <td>2.0</td>\n",
       "      <td>33.00</td>\n",
       "      <td>24.41</td>\n",
       "      <td>66.00</td>\n",
       "      <td>4217.74</td>\n",
       "      <td>47</td>\n",
       "      <td>ENVELOPES ( ENV )</td>\n",
       "      <td>8389</td>\n",
       "      <td>FILIPERSON NACIONAL REFL IND COMÉRCIO DE PAP E...</td>\n",
       "      <td>2076</td>\n",
       "    </tr>\n",
       "    <tr>\n",
       "      <th>1</th>\n",
       "      <td>566082</td>\n",
       "      <td>17/06/2025</td>\n",
       "      <td>29367</td>\n",
       "      <td>GUARDANAPO SNOB FS 33X30 50F SANTHER</td>\n",
       "      <td>5.0</td>\n",
       "      <td>2.90</td>\n",
       "      <td>2.23</td>\n",
       "      <td>14.50</td>\n",
       "      <td>4217.74</td>\n",
       "      <td>27</td>\n",
       "      <td>GUARDANAPOS ( GDP )</td>\n",
       "      <td>8340</td>\n",
       "      <td>SANTHER FABRICA DE PAPEL SANTA THEREZINHA S/A</td>\n",
       "      <td>3475</td>\n",
       "    </tr>\n",
       "    <tr>\n",
       "      <th>2</th>\n",
       "      <td>566082</td>\n",
       "      <td>17/06/2025</td>\n",
       "      <td>241</td>\n",
       "      <td>PASTA AZ OF LE TIGRADA FRAMA 356-11952</td>\n",
       "      <td>40.0</td>\n",
       "      <td>9.45</td>\n",
       "      <td>7.61</td>\n",
       "      <td>378.00</td>\n",
       "      <td>4217.74</td>\n",
       "      <td>38</td>\n",
       "      <td>PASTAS ( PST )</td>\n",
       "      <td>185</td>\n",
       "      <td>FRAMA INDUSTRIA GRAFICA LTDA</td>\n",
       "      <td>2104</td>\n",
       "    </tr>\n",
       "    <tr>\n",
       "      <th>3</th>\n",
       "      <td>566082</td>\n",
       "      <td>17/06/2025</td>\n",
       "      <td>32608</td>\n",
       "      <td>CALCULADORA MESA 12 DIG MASTERPRINT 1086</td>\n",
       "      <td>6.0</td>\n",
       "      <td>20.87</td>\n",
       "      <td>17.05</td>\n",
       "      <td>125.22</td>\n",
       "      <td>4217.74</td>\n",
       "      <td>147</td>\n",
       "      <td>CALCULADORAS ( CLC )</td>\n",
       "      <td>4281</td>\n",
       "      <td>GRUPO MASTER COMERCIO IMPORTACAO E EXPORTACAO ...</td>\n",
       "      <td>61</td>\n",
       "    </tr>\n",
       "    <tr>\n",
       "      <th>4</th>\n",
       "      <td>566082</td>\n",
       "      <td>17/06/2025</td>\n",
       "      <td>25495</td>\n",
       "      <td>MARCA TEXTO AM C/12 MASTERPRINT MP612</td>\n",
       "      <td>2.0</td>\n",
       "      <td>11.30</td>\n",
       "      <td>8.72</td>\n",
       "      <td>22.60</td>\n",
       "      <td>4217.74</td>\n",
       "      <td>389</td>\n",
       "      <td>MARCA TEXTO ( MRT)</td>\n",
       "      <td>4281</td>\n",
       "      <td>GRUPO MASTER COMERCIO IMPORTACAO E EXPORTACAO ...</td>\n",
       "      <td>293</td>\n",
       "    </tr>\n",
       "  </tbody>\n",
       "</table>\n",
       "</div>"
      ],
      "text/plain": [
       "   Numero nota fiscal Data da venda  Código produto  \\\n",
       "0              566082    17/06/2025           33932   \n",
       "1              566082    17/06/2025           29367   \n",
       "2              566082    17/06/2025             241   \n",
       "3              566082    17/06/2025           32608   \n",
       "4              566082    17/06/2025           25495   \n",
       "\n",
       "                       Descrição do produto  Quantidade do produto  \\\n",
       "0           ENV 229X324 OU C/100 FILIPERSON                    2.0   \n",
       "1     GUARDANAPO SNOB FS 33X30 50F SANTHER                     5.0   \n",
       "2    PASTA AZ OF LE TIGRADA FRAMA 356-11952                   40.0   \n",
       "3  CALCULADORA MESA 12 DIG MASTERPRINT 1086                    6.0   \n",
       "4     MARCA TEXTO AM C/12 MASTERPRINT MP612                    2.0   \n",
       "\n",
       "   Valor unitário  Preço de custo  Valor total produto  Valor da nota  \\\n",
       "0           33.00           24.41                66.00        4217.74   \n",
       "1            2.90            2.23                14.50        4217.74   \n",
       "2            9.45            7.61               378.00        4217.74   \n",
       "3           20.87           17.05               125.22        4217.74   \n",
       "4           11.30            8.72                22.60        4217.74   \n",
       "\n",
       "   Código da categoria             Categoria  Código da Marca  \\\n",
       "0                   47     ENVELOPES ( ENV )             8389   \n",
       "1                   27   GUARDANAPOS ( GDP )             8340   \n",
       "2                   38        PASTAS ( PST )              185   \n",
       "3                  147  CALCULADORAS ( CLC )             4281   \n",
       "4                  389    MARCA TEXTO ( MRT)             4281   \n",
       "\n",
       "                                               Marca  Quantidade estoque  \n",
       "0  FILIPERSON NACIONAL REFL IND COMÉRCIO DE PAP E...                2076  \n",
       "1      SANTHER FABRICA DE PAPEL SANTA THEREZINHA S/A                3475  \n",
       "2                       FRAMA INDUSTRIA GRAFICA LTDA                2104  \n",
       "3  GRUPO MASTER COMERCIO IMPORTACAO E EXPORTACAO ...                  61  \n",
       "4  GRUPO MASTER COMERCIO IMPORTACAO E EXPORTACAO ...                 293  "
      ]
     },
     "execution_count": 8,
     "metadata": {},
     "output_type": "execute_result"
    }
   ],
   "source": [
    "df.head(5)"
   ]
  },
  {
   "cell_type": "code",
   "execution_count": 9,
   "id": "94026c75",
   "metadata": {},
   "outputs": [
    {
     "name": "stdout",
     "output_type": "stream",
     "text": [
      "<class 'pandas.core.frame.DataFrame'>\n",
      "RangeIndex: 178107 entries, 0 to 178106\n",
      "Data columns (total 14 columns):\n",
      " #   Column                 Non-Null Count   Dtype  \n",
      "---  ------                 --------------   -----  \n",
      " 0   Numero nota fiscal     178107 non-null  int64  \n",
      " 1   Data da venda          178107 non-null  object \n",
      " 2   Código produto         178107 non-null  int64  \n",
      " 3   Descrição do produto   178107 non-null  object \n",
      " 4   Quantidade do produto  178107 non-null  float64\n",
      " 5   Valor unitário         178107 non-null  float64\n",
      " 6   Preço de custo         177320 non-null  float64\n",
      " 7   Valor total produto    177039 non-null  float64\n",
      " 8   Valor da nota          178107 non-null  float64\n",
      " 9   Código da categoria    178107 non-null  int64  \n",
      " 10  Categoria              178107 non-null  object \n",
      " 11  Código da Marca        178107 non-null  int64  \n",
      " 12  Marca                  178107 non-null  object \n",
      " 13  Quantidade estoque     178107 non-null  int64  \n",
      "dtypes: float64(5), int64(5), object(4)\n",
      "memory usage: 19.0+ MB\n"
     ]
    }
   ],
   "source": [
    "df.info()"
   ]
  },
  {
   "cell_type": "code",
   "execution_count": 10,
   "id": "55b8b310",
   "metadata": {},
   "outputs": [],
   "source": [
    "df[\"Data da venda\"] = pd.to_datetime(df[\"Data da venda\"], format='%d/%m/%Y')\n",
    "df[\"Quantidade do produto\"] = df[\"Quantidade do produto\"].astype(int)\n",
    "df[\"Código da categoria\"] = df[\"Código da categoria\"].astype(int)\n",
    "df[\"Código da Marca\"] = df[\"Código da Marca\"].astype(int)\n",
    "df[\"Quantidade estoque\"] = df[\"Quantidade estoque\"].astype(int)\n"
   ]
  },
  {
   "cell_type": "code",
   "execution_count": 11,
   "id": "4d74ea96",
   "metadata": {},
   "outputs": [
    {
     "data": {
      "text/plain": [
       "Numero nota fiscal                int64\n",
       "Data da venda            datetime64[ns]\n",
       "Código produto                    int64\n",
       "Descrição do produto             object\n",
       "Quantidade do produto             int64\n",
       "Valor unitário                  float64\n",
       "Preço de custo                  float64\n",
       "Valor total produto             float64\n",
       "Valor da nota                   float64\n",
       "Código da categoria               int64\n",
       "Categoria                        object\n",
       "Código da Marca                   int64\n",
       "Marca                            object\n",
       "Quantidade estoque                int64\n",
       "dtype: object"
      ]
     },
     "execution_count": 11,
     "metadata": {},
     "output_type": "execute_result"
    }
   ],
   "source": [
    "df.dtypes"
   ]
  },
  {
   "cell_type": "code",
   "execution_count": 12,
   "id": "217efeb0",
   "metadata": {},
   "outputs": [
    {
     "data": {
      "text/plain": [
       "Numero nota fiscal          0\n",
       "Data da venda               0\n",
       "Código produto              0\n",
       "Descrição do produto        0\n",
       "Quantidade do produto       0\n",
       "Valor unitário              0\n",
       "Preço de custo            787\n",
       "Valor total produto      1068\n",
       "Valor da nota               0\n",
       "Código da categoria         0\n",
       "Categoria                   0\n",
       "Código da Marca             0\n",
       "Marca                       0\n",
       "Quantidade estoque          0\n",
       "dtype: int64"
      ]
     },
     "execution_count": 12,
     "metadata": {},
     "output_type": "execute_result"
    }
   ],
   "source": [
    "df.isnull().sum()"
   ]
  },
  {
   "cell_type": "code",
   "execution_count": 16,
   "id": "8565abc5",
   "metadata": {},
   "outputs": [
    {
     "name": "stdout",
     "output_type": "stream",
     "text": [
      "Total de notas fiscais afetadas: 68\n",
      "Total de notas únicas no dataset: 24353\n",
      "Percentual de notas afetadas: 0.28%\n"
     ]
    }
   ],
   "source": [
    "# filtrar linhas onde o preço de custo é nulo\n",
    "itens_sem_preco_custo = df[df[\"Preço de custo\"].isna()]\n",
    "# extrair os números das notas com itens problemáticos\n",
    "notas_afetadas = itens_sem_preco_custo[\"Numero nota fiscal\"].unique()\n",
    "# contar quantas notas são impactadas\n",
    "total_notas_afetadas = len(notas_afetadas)\n",
    "total_notas_unicas = df[\"Numero nota fiscal\"].nunique()\n",
    "percentual_afetado = (total_notas_afetadas / total_notas_unicas) * 100\n",
    "\n",
    "# Resultados\n",
    "print(f\"Total de notas fiscais afetadas: {total_notas_afetadas}\")\n",
    "print(f\"Total de notas únicas no dataset: {total_notas_unicas}\")\n",
    "print(f\"Percentual de notas afetadas: {percentual_afetado:.2f}%\")"
   ]
  },
  {
   "cell_type": "code",
   "execution_count": 18,
   "id": "c53e0c0f",
   "metadata": {},
   "outputs": [
    {
     "name": "stdout",
     "output_type": "stream",
     "text": [
      "Valores nulos restantes: 0\n",
      "Total de notas antes: 24353\n",
      "Total de notas depois: 24285\n"
     ]
    }
   ],
   "source": [
    "# 1. Lista das notas fiscais que têm pelo menos um item com \"Preço de custo\" nulo\n",
    "notas_com_problema = df[df[\"Preço de custo\"].isna()][\"Numero nota fiscal\"].unique()\n",
    "\n",
    "# 2. Criar um novo DataFrame excluindo essas notas\n",
    "df_completo_limpo = df[~df[\"Numero nota fiscal\"].isin(notas_com_problema)]\n",
    "\n",
    "# 3. Verificar se ainda há valores nulos em \"Preço de custo\"\n",
    "print(\"Valores nulos restantes:\", df_completo_limpo[\"Preço de custo\"].isna().sum())\n",
    "\n",
    "# 4. Comparar tamanhos antes e depois\n",
    "print(f\"Total de notas antes: {df['Numero nota fiscal'].nunique()}\")\n",
    "print(f\"Total de notas depois: {df_completo_limpo['Numero nota fiscal'].nunique()}\")"
   ]
  }
 ],
 "metadata": {
  "kernelspec": {
   "display_name": "venv",
   "language": "python",
   "name": "python3"
  },
  "language_info": {
   "codemirror_mode": {
    "name": "ipython",
    "version": 3
   },
   "file_extension": ".py",
   "mimetype": "text/x-python",
   "name": "python",
   "nbconvert_exporter": "python",
   "pygments_lexer": "ipython3",
   "version": "3.13.1"
  }
 },
 "nbformat": 4,
 "nbformat_minor": 5
}
